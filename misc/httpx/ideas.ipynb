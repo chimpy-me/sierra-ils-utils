{
 "cells": [
  {
   "cell_type": "markdown",
   "metadata": {},
   "source": [
    "# HTTPX and replacing Requests.\n",
    "\n",
    "\n",
    "\n"
   ]
  },
  {
   "cell_type": "markdown",
   "metadata": {},
   "source": [
    "# Working with results from a generator\n",
    "\n",
    "It would be VERY nice to simplify the task of returning all the\n",
    "results from a query, or a get request, etc when there are multiple pages of results.\n",
    "\n",
    "for example, there could be a method named `.all()` that could chain\n",
    "off of the get method so that you could \"page\" through the results\n",
    "\n",
    "```python\n",
    "for result in sierra_api.get(\n",
    "  'patrons/holds',\n",
    "  params={\n",
    "    'limit': 2000,\n",
    "    'offset': 0\n",
    "  }\n",
    ").all():\n",
    "  # work with `result` as they come in from the generator\n",
    "  pass\n",
    "```"
   ]
  },
  {
   "cell_type": "markdown",
   "metadata": {},
   "source": []
  }
 ],
 "metadata": {
  "language_info": {
   "name": "python"
  }
 },
 "nbformat": 4,
 "nbformat_minor": 2
}
