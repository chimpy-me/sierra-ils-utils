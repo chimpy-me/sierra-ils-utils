{
 "cells": [
  {
   "cell_type": "code",
   "execution_count": 2,
   "metadata": {},
   "outputs": [],
   "source": [
    "from json import JSONDecodeError\n",
    "import httpx\n",
    "from pydantic import ValidationError\n",
    "from sierra_ils_utils import SierraAPIResponse\n",
    "from sierra_ils_utils.decorators import hybrid_retry_decorator, authenticate\n",
    "\n",
    "import logging\n",
    "\n",
    "logger = logging.getLogger(__name__)\n",
    "logging.basicConfig(level=logging.DEBUG)"
   ]
  },
  {
   "cell_type": "code",
   "execution_count": 4,
   "metadata": {},
   "outputs": [
    {
     "name": "stderr",
     "output_type": "stream",
     "text": [
      "DEBUG:httpx:load_ssl_context verify=True cert=None trust_env=True http2=False\n",
      "DEBUG:httpx:load_verify_locations cafile='/home/ray/Documents/sierra-ils-utils/venv/lib/python3.10/site-packages/certifi/cacert.pem'\n",
      "DEBUG:httpcore.connection:connect_tcp.started host='httpbin.org' port=443 local_address=None timeout=5.0 socket_options=None\n",
      "DEBUG:httpcore.connection:connect_tcp.complete return_value=<httpcore._backends.sync.SyncStream object at 0x7fb8c04f2650>\n",
      "DEBUG:httpcore.connection:start_tls.started ssl_context=<ssl.SSLContext object at 0x7fb8abfaa4c0> server_hostname='httpbin.org' timeout=5.0\n",
      "DEBUG:httpcore.connection:start_tls.complete return_value=<httpcore._backends.sync.SyncStream object at 0x7fb8c04f2620>\n",
      "DEBUG:httpcore.http11:send_request_headers.started request=<Request [b'GET']>\n",
      "DEBUG:httpcore.http11:send_request_headers.complete\n",
      "DEBUG:httpcore.http11:send_request_body.started request=<Request [b'GET']>\n",
      "DEBUG:httpcore.http11:send_request_body.complete\n",
      "DEBUG:httpcore.http11:receive_response_headers.started request=<Request [b'GET']>\n"
     ]
    },
    {
     "name": "stdout",
     "output_type": "stream",
     "text": [
      "https://httpbin.org/get\n"
     ]
    },
    {
     "name": "stderr",
     "output_type": "stream",
     "text": [
      "DEBUG:httpcore.http11:receive_response_headers.complete return_value=(b'HTTP/1.1', 200, b'OK', [(b'Date', b'Wed, 06 Dec 2023 04:42:20 GMT'), (b'Content-Type', b'application/json'), (b'Content-Length', b'305'), (b'Connection', b'keep-alive'), (b'Server', b'gunicorn/19.9.0'), (b'Access-Control-Allow-Origin', b'*'), (b'Access-Control-Allow-Credentials', b'true')])\n",
      "INFO:httpx:HTTP Request: GET https://httpbin.org/get \"HTTP/1.1 200 OK\"\n",
      "DEBUG:httpcore.http11:receive_response_body.started request=<Request [b'GET']>\n",
      "DEBUG:httpcore.http11:receive_response_body.complete\n",
      "DEBUG:httpcore.http11:response_closed.started\n",
      "DEBUG:httpcore.http11:response_closed.complete\n",
      "DEBUG:httpcore.connection:close.started\n",
      "DEBUG:httpcore.connection:close.complete\n",
      "DEBUG:httpx:load_ssl_context verify=True cert=None trust_env=True http2=False\n",
      "DEBUG:httpx:load_verify_locations cafile='/home/ray/Documents/sierra-ils-utils/venv/lib/python3.10/site-packages/certifi/cacert.pem'\n",
      "DEBUG:httpcore.connection:connect_tcp.started host='httpbin.org' port=443 local_address=None timeout=5.0 socket_options=None\n",
      "DEBUG:httpcore.connection:connect_tcp.complete return_value=<httpcore._backends.sync.SyncStream object at 0x7fb8c04f3040>\n",
      "DEBUG:httpcore.connection:start_tls.started ssl_context=<ssl.SSLContext object at 0x7fb8abfaabc0> server_hostname='httpbin.org' timeout=5.0\n",
      "DEBUG:httpcore.connection:start_tls.complete return_value=<httpcore._backends.sync.SyncStream object at 0x7fb8c04f3310>\n",
      "DEBUG:httpcore.http11:send_request_headers.started request=<Request [b'GET']>\n",
      "DEBUG:httpcore.http11:send_request_headers.complete\n",
      "DEBUG:httpcore.http11:send_request_body.started request=<Request [b'GET']>\n",
      "DEBUG:httpcore.http11:send_request_body.complete\n",
      "DEBUG:httpcore.http11:receive_response_headers.started request=<Request [b'GET']>\n",
      "DEBUG:httpcore.http11:receive_response_headers.complete return_value=(b'HTTP/1.1', 200, b'OK', [(b'Date', b'Wed, 06 Dec 2023 04:42:20 GMT'), (b'Content-Type', b'text/html; charset=utf-8'), (b'Content-Length', b'0'), (b'Connection', b'keep-alive'), (b'Server', b'gunicorn/19.9.0'), (b'Access-Control-Allow-Origin', b'*'), (b'Access-Control-Allow-Credentials', b'true')])\n",
      "INFO:httpx:HTTP Request: GET https://httpbin.org/status/200 \"HTTP/1.1 200 OK\"\n",
      "DEBUG:httpcore.http11:receive_response_body.started request=<Request [b'GET']>\n",
      "DEBUG:httpcore.http11:receive_response_body.complete\n",
      "DEBUG:httpcore.http11:response_closed.started\n",
      "DEBUG:httpcore.http11:response_closed.complete\n",
      "DEBUG:httpcore.connection:close.started\n",
      "DEBUG:httpcore.connection:close.complete\n",
      "DEBUG:httpx:load_ssl_context verify=True cert=None trust_env=True http2=False\n",
      "DEBUG:httpx:load_verify_locations cafile='/home/ray/Documents/sierra-ils-utils/venv/lib/python3.10/site-packages/certifi/cacert.pem'\n",
      "DEBUG:httpcore.connection:connect_tcp.started host='httpbin.org' port=443 local_address=None timeout=5.0 socket_options=None\n"
     ]
    },
    {
     "name": "stdout",
     "output_type": "stream",
     "text": [
      "{\n",
      "    \"raw_response\": \"<Response [200 OK]>\",\n",
      "    \"response_model_name\": \"SomeModelName\",\n",
      "    \"data\": {\n",
      "        \"args\": {},\n",
      "        \"headers\": {\n",
      "            \"Accept\": \"*/*\",\n",
      "            \"Accept-Encoding\": \"gzip, deflate\",\n",
      "            \"Host\": \"httpbin.org\",\n",
      "            \"User-Agent\": \"python-httpx/0.25.2\",\n",
      "            \"X-Amzn-Trace-Id\": \"Root=1-656ffbac-20b12a09370bc3384782eadb\"\n",
      "        },\n",
      "        \"origin\": \"163.182.20.235\",\n",
      "        \"url\": \"https://httpbin.org/get\"\n",
      "    }\n",
      "}\n",
      "https://httpbin.org/status/200\n",
      "{\n",
      "    \"raw_response\": \"<Response [200 OK]>\",\n",
      "    \"response_model_name\": \"SomeModelName\",\n",
      "    \"data\": {\n",
      "        \"text\": \"\"\n",
      "    }\n",
      "}\n",
      "https://httpbin.org/status/500\n"
     ]
    },
    {
     "name": "stderr",
     "output_type": "stream",
     "text": [
      "DEBUG:httpcore.connection:connect_tcp.complete return_value=<httpcore._backends.sync.SyncStream object at 0x7fb8c0ee7640>\n",
      "DEBUG:httpcore.connection:start_tls.started ssl_context=<ssl.SSLContext object at 0x7fb8abfc04c0> server_hostname='httpbin.org' timeout=5.0\n",
      "DEBUG:httpcore.connection:start_tls.complete return_value=<httpcore._backends.sync.SyncStream object at 0x7fb8c0592da0>\n",
      "DEBUG:httpcore.http11:send_request_headers.started request=<Request [b'GET']>\n",
      "DEBUG:httpcore.http11:send_request_headers.complete\n",
      "DEBUG:httpcore.http11:send_request_body.started request=<Request [b'GET']>\n",
      "DEBUG:httpcore.http11:send_request_body.complete\n",
      "DEBUG:httpcore.http11:receive_response_headers.started request=<Request [b'GET']>\n",
      "DEBUG:httpcore.http11:receive_response_headers.complete return_value=(b'HTTP/1.1', 500, b'INTERNAL SERVER ERROR', [(b'Date', b'Wed, 06 Dec 2023 04:42:20 GMT'), (b'Content-Type', b'text/html; charset=utf-8'), (b'Content-Length', b'0'), (b'Connection', b'keep-alive'), (b'Server', b'gunicorn/19.9.0'), (b'Access-Control-Allow-Origin', b'*'), (b'Access-Control-Allow-Credentials', b'true')])\n",
      "INFO:httpx:HTTP Request: GET https://httpbin.org/status/500 \"HTTP/1.1 500 INTERNAL SERVER ERROR\"\n",
      "DEBUG:httpcore.http11:receive_response_body.started request=<Request [b'GET']>\n",
      "DEBUG:httpcore.http11:receive_response_body.complete\n",
      "DEBUG:httpcore.http11:response_closed.started\n",
      "DEBUG:httpcore.http11:response_closed.complete\n",
      "DEBUG:httpcore.connection:close.started\n",
      "DEBUG:httpcore.connection:close.complete\n"
     ]
    },
    {
     "ename": "HTTPStatusError",
     "evalue": "HTTP 500 Error",
     "output_type": "error",
     "traceback": [
      "\u001b[0;31m---------------------------------------------------------------------------\u001b[0m",
      "\u001b[0;31mHTTPStatusError\u001b[0m                           Traceback (most recent call last)",
      "\u001b[1;32m/home/ray/Documents/sierra-ils-utils/misc/httpx/test_httpx_decorators.ipynb Cell 2\u001b[0m line \u001b[0;36m5\n\u001b[1;32m     <a href='vscode-notebook-cell:/home/ray/Documents/sierra-ils-utils/misc/httpx/test_httpx_decorators.ipynb#W2sZmlsZQ%3D%3D?line=51'>52</a>\u001b[0m     target_url \u001b[39m=\u001b[39m urls[url]\n\u001b[1;32m     <a href='vscode-notebook-cell:/home/ray/Documents/sierra-ils-utils/misc/httpx/test_httpx_decorators.ipynb#W2sZmlsZQ%3D%3D?line=52'>53</a>\u001b[0m     \u001b[39mprint\u001b[39m(target_url)\n\u001b[0;32m---> <a href='vscode-notebook-cell:/home/ray/Documents/sierra-ils-utils/misc/httpx/test_httpx_decorators.ipynb#W2sZmlsZQ%3D%3D?line=54'>55</a>\u001b[0m     result \u001b[39m=\u001b[39m my_class\u001b[39m.\u001b[39;49mget(target_url)\n\u001b[1;32m     <a href='vscode-notebook-cell:/home/ray/Documents/sierra-ils-utils/misc/httpx/test_httpx_decorators.ipynb#W2sZmlsZQ%3D%3D?line=55'>56</a>\u001b[0m     \u001b[39mprint\u001b[39m(result)\n\u001b[1;32m     <a href='vscode-notebook-cell:/home/ray/Documents/sierra-ils-utils/misc/httpx/test_httpx_decorators.ipynb#W2sZmlsZQ%3D%3D?line=57'>58</a>\u001b[0m \u001b[39m#     with httpx.Client() as client:\u001b[39;00m\n\u001b[1;32m     <a href='vscode-notebook-cell:/home/ray/Documents/sierra-ils-utils/misc/httpx/test_httpx_decorators.ipynb#W2sZmlsZQ%3D%3D?line=58'>59</a>\u001b[0m \u001b[39m#         response = client.get(\u001b[39;00m\n\u001b[1;32m     <a href='vscode-notebook-cell:/home/ray/Documents/sierra-ils-utils/misc/httpx/test_httpx_decorators.ipynb#W2sZmlsZQ%3D%3D?line=59'>60</a>\u001b[0m \u001b[39m#             urls.get(url),\u001b[39;00m\n\u001b[0;32m   (...)\u001b[0m\n\u001b[1;32m     <a href='vscode-notebook-cell:/home/ray/Documents/sierra-ils-utils/misc/httpx/test_httpx_decorators.ipynb#W2sZmlsZQ%3D%3D?line=82'>83</a>\u001b[0m \n\u001b[1;32m     <a href='vscode-notebook-cell:/home/ray/Documents/sierra-ils-utils/misc/httpx/test_httpx_decorators.ipynb#W2sZmlsZQ%3D%3D?line=83'>84</a>\u001b[0m \u001b[39m#     print(sierra_response)\u001b[39;00m\n",
      "File \u001b[0;32m~/Documents/sierra-ils-utils/sierra_ils_utils/decorators.py:70\u001b[0m, in \u001b[0;36mhybrid_retry_decorator.<locals>.decorator.<locals>.wrapper\u001b[0;34m(self, *args, **kwargs)\u001b[0m\n\u001b[1;32m     65\u001b[0m     httpx_response \u001b[39m=\u001b[39m sierra_api_response\u001b[39m.\u001b[39mraw_response  \u001b[39m# Extracting the httpx.Response object\u001b[39;00m\n\u001b[1;32m     68\u001b[0m     \u001b[39mif\u001b[39;00m sierra_api_response \u001b[39mand\u001b[39;00m httpx_response \u001b[39mand\u001b[39;00m httpx_response\u001b[39m.\u001b[39mstatus_code \u001b[39min\u001b[39;00m retry_on_status_codes:\n\u001b[1;32m     69\u001b[0m         \u001b[39m# raise requests.HTTPError(f\"HTTP {response.status_code} Error\")\u001b[39;00m\n\u001b[0;32m---> 70\u001b[0m         \u001b[39mraise\u001b[39;00m httpx\u001b[39m.\u001b[39mHTTPStatusError(\n\u001b[1;32m     71\u001b[0m             \u001b[39mf\u001b[39m\u001b[39m\"\u001b[39m\u001b[39mHTTP \u001b[39m\u001b[39m{\u001b[39;00mhttpx_response\u001b[39m.\u001b[39mstatus_code\u001b[39m}\u001b[39;00m\u001b[39m Error\u001b[39m\u001b[39m\"\u001b[39m,\n\u001b[1;32m     72\u001b[0m             request\u001b[39m=\u001b[39mhttpx_response\u001b[39m.\u001b[39mrequest,\n\u001b[1;32m     73\u001b[0m             response\u001b[39m=\u001b[39mhttpx_response\n\u001b[1;32m     74\u001b[0m         )\n\u001b[1;32m     76\u001b[0m     \u001b[39mreturn\u001b[39;00m sierra_api_response  \u001b[39m# if we were successful, send the actual response\u001b[39;00m\n\u001b[1;32m     78\u001b[0m \u001b[39mexcept\u001b[39;00m retry_on_exceptions \u001b[39mas\u001b[39;00m e:\n\u001b[1;32m     79\u001b[0m     \u001b[39m# ... keep trying, until we run out of retries\u001b[39;00m\n",
      "\u001b[0;31mHTTPStatusError\u001b[0m: HTTP 500 Error"
     ]
    }
   ],
   "source": [
    "urls = {\n",
    "    'get': 'https://httpbin.org/get',\n",
    "    'get_200': 'https://httpbin.org/status/200',\n",
    "    'get_500': 'https://httpbin.org/status/500',  # trigger a retry\n",
    "}\n",
    "\n",
    "class TestClass:\n",
    "\n",
    "    @hybrid_retry_decorator(\n",
    "        # set some testing values in place of defaults\n",
    "        max_retries=3,  # max_retries=5,\n",
    "        initial_wait_time=.01,\n",
    "        initial_exponential_factor=2,\n",
    "        initial_retries=2,\n",
    "        fixed_interval=2,  # fixed_interval=150,  # 2.5 minutes\n",
    "        retry_on_exceptions=None,\n",
    "        retry_on_status_codes=None,\n",
    "    )\n",
    "    def get(self, url):\n",
    "        with httpx.Client() as client:\n",
    "            response = client.get(\n",
    "                url\n",
    "            )\n",
    "        \n",
    "        response_model_name = \"SomeModelName\"\n",
    "        httpx_response = response\n",
    "\n",
    "        try:\n",
    "            data = response.json()  # This should be structured as per the expected model\n",
    "        except JSONDecodeError:\n",
    "            data = {'text': response.text}\n",
    "\n",
    "        try:\n",
    "            # Validate and create the SierraAPIResponse instance\n",
    "            sierra_response = SierraAPIResponse(\n",
    "                response_model_name=response_model_name,\n",
    "                data=data,\n",
    "                raw_response=httpx_response\n",
    "            )\n",
    "\n",
    "        except ValidationError as e:\n",
    "            print(\"Validation error:\", e)\n",
    "\n",
    "        return sierra_response\n",
    "\n",
    "\n",
    "# simulate a get request\n",
    "\n",
    "my_class = TestClass()\n",
    "\n",
    "for url in urls.keys():\n",
    "    target_url = urls[url]\n",
    "    print(target_url)\n",
    "\n",
    "    result = my_class.get(target_url)\n",
    "    print(result)\n",
    "\n",
    "#     with httpx.Client() as client:\n",
    "#         response = client.get(\n",
    "#             urls.get(url),\n",
    "        \n",
    "#         )\n",
    "\n",
    "#     # Assuming you have these variables ready\n",
    "#     response_model_name = \"SomeModelName\"\n",
    "#     httpx_response = response\n",
    "\n",
    "#     try:\n",
    "#         data = response.json()  # This should be structured as per the expected model\n",
    "#     except JSONDecodeError:\n",
    "#         data = {'text': response.text}\n",
    "\n",
    "#     try:\n",
    "#         # Validate and create the SierraAPIResponse instance\n",
    "#         sierra_response = SierraAPIResponse(\n",
    "#             response_model_name=response_model_name,\n",
    "#             data=data,\n",
    "#             raw_response=httpx_response\n",
    "#         )\n",
    "\n",
    "#     except ValidationError as e:\n",
    "#         print(\"Validation error:\", e)\n",
    "\n",
    "#     print(sierra_response)"
   ]
  },
  {
   "cell_type": "code",
   "execution_count": null,
   "metadata": {},
   "outputs": [
    {
     "data": {
      "text/plain": [
       "{'args': {},\n",
       " 'headers': {'Accept': '*/*',\n",
       "  'Accept-Encoding': 'gzip, deflate',\n",
       "  'Host': 'httpbin.org',\n",
       "  'User-Agent': 'python-httpx/0.25.2',\n",
       "  'X-Amzn-Trace-Id': 'Root=1-656febdf-19bd5a43058eafc10cbb2425'},\n",
       " 'origin': '163.182.20.235',\n",
       " 'url': 'https://httpbin.org/get'}"
      ]
     },
     "execution_count": 8,
     "metadata": {},
     "output_type": "execute_result"
    }
   ],
   "source": []
  }
 ],
 "metadata": {
  "kernelspec": {
   "display_name": "venv",
   "language": "python",
   "name": "python3"
  },
  "language_info": {
   "codemirror_mode": {
    "name": "ipython",
    "version": 3
   },
   "file_extension": ".py",
   "mimetype": "text/x-python",
   "name": "python",
   "nbconvert_exporter": "python",
   "pygments_lexer": "ipython3",
   "version": "3.10.13"
  }
 },
 "nbformat": 4,
 "nbformat_minor": 2
}
