{
 "cells": [
  {
   "cell_type": "code",
   "execution_count": 1,
   "metadata": {},
   "outputs": [
    {
     "name": "stderr",
     "output_type": "stream",
     "text": [
      "Max retries reached. Function get failed with exception: Endpoint 'info/token' is not defined in _endpoints.\n"
     ]
    },
    {
     "ename": "ValueError",
     "evalue": "Endpoint 'info/token' is not defined in _endpoints.",
     "output_type": "error",
     "traceback": [
      "\u001b[0;31m---------------------------------------------------------------------------\u001b[0m",
      "\u001b[0;31mValueError\u001b[0m                                Traceback (most recent call last)",
      "\u001b[1;32m/home/ray/Documents/sierra-ils-utils/misc/test_sierra_ils_utils.ipynb Cell 1\u001b[0m line \u001b[0;36m1\n\u001b[1;32m      <a href='vscode-notebook-cell:/home/ray/Documents/sierra-ils-utils/misc/test_sierra_ils_utils.ipynb#W0sZmlsZQ%3D%3D?line=4'>5</a>\u001b[0m     config \u001b[39m=\u001b[39m json\u001b[39m.\u001b[39mload(f)\n\u001b[1;32m      <a href='vscode-notebook-cell:/home/ray/Documents/sierra-ils-utils/misc/test_sierra_ils_utils.ipynb#W0sZmlsZQ%3D%3D?line=6'>7</a>\u001b[0m sierra_api \u001b[39m=\u001b[39m SierraAPIv6(\n\u001b[1;32m      <a href='vscode-notebook-cell:/home/ray/Documents/sierra-ils-utils/misc/test_sierra_ils_utils.ipynb#W0sZmlsZQ%3D%3D?line=7'>8</a>\u001b[0m     sierra_api_base_url\u001b[39m=\u001b[39mconfig[\u001b[39m'\u001b[39m\u001b[39msierra_api_base_url\u001b[39m\u001b[39m'\u001b[39m],\n\u001b[1;32m      <a href='vscode-notebook-cell:/home/ray/Documents/sierra-ils-utils/misc/test_sierra_ils_utils.ipynb#W0sZmlsZQ%3D%3D?line=8'>9</a>\u001b[0m     sierra_api_key\u001b[39m=\u001b[39mconfig[\u001b[39m'\u001b[39m\u001b[39msierra_api_key\u001b[39m\u001b[39m'\u001b[39m],\n\u001b[1;32m     <a href='vscode-notebook-cell:/home/ray/Documents/sierra-ils-utils/misc/test_sierra_ils_utils.ipynb#W0sZmlsZQ%3D%3D?line=9'>10</a>\u001b[0m     sierra_api_secret\u001b[39m=\u001b[39mconfig[\u001b[39m'\u001b[39m\u001b[39msierra_api_secret\u001b[39m\u001b[39m'\u001b[39m]\n\u001b[1;32m     <a href='vscode-notebook-cell:/home/ray/Documents/sierra-ils-utils/misc/test_sierra_ils_utils.ipynb#W0sZmlsZQ%3D%3D?line=10'>11</a>\u001b[0m )\n\u001b[0;32m---> <a href='vscode-notebook-cell:/home/ray/Documents/sierra-ils-utils/misc/test_sierra_ils_utils.ipynb#W0sZmlsZQ%3D%3D?line=12'>13</a>\u001b[0m response \u001b[39m=\u001b[39m sierra_api\u001b[39m.\u001b[39;49mget(endpoint\u001b[39m=\u001b[39;49m\u001b[39m'\u001b[39;49m\u001b[39minfo/token\u001b[39;49m\u001b[39m'\u001b[39;49m)\n\u001b[1;32m     <a href='vscode-notebook-cell:/home/ray/Documents/sierra-ils-utils/misc/test_sierra_ils_utils.ipynb#W0sZmlsZQ%3D%3D?line=13'>14</a>\u001b[0m response\u001b[39m.\u001b[39mtext\n",
      "File \u001b[0;32m~/Documents/sierra-ils-utils/sierra_ils_utils/decorators.py:57\u001b[0m, in \u001b[0;36mhybrid_retry_decorator.<locals>.decorator.<locals>.wrapper\u001b[0;34m(self, *args, **kwargs)\u001b[0m\n\u001b[1;32m     55\u001b[0m \u001b[39mif\u001b[39;00m retries \u001b[39m==\u001b[39m max_retries \u001b[39m-\u001b[39m \u001b[39m1\u001b[39m:\n\u001b[1;32m     56\u001b[0m     \u001b[39mself\u001b[39m\u001b[39m.\u001b[39mlogger\u001b[39m.\u001b[39merror(\u001b[39mf\u001b[39m\u001b[39m\"\u001b[39m\u001b[39mMax retries reached. Function \u001b[39m\u001b[39m{\u001b[39;00mfunc\u001b[39m.\u001b[39m\u001b[39m__name__\u001b[39m\u001b[39m}\u001b[39;00m\u001b[39m failed with exception: \u001b[39m\u001b[39m{\u001b[39;00m\u001b[39mstr\u001b[39m(e)\u001b[39m}\u001b[39;00m\u001b[39m\"\u001b[39m)\n\u001b[0;32m---> 57\u001b[0m     \u001b[39mraise\u001b[39;00m e\n\u001b[1;32m     58\u001b[0m sleep(wait_time)\n\u001b[1;32m     59\u001b[0m retries \u001b[39m+\u001b[39m\u001b[39m=\u001b[39m \u001b[39m1\u001b[39m\n",
      "File \u001b[0;32m~/Documents/sierra-ils-utils/sierra_ils_utils/decorators.py:49\u001b[0m, in \u001b[0;36mhybrid_retry_decorator.<locals>.decorator.<locals>.wrapper\u001b[0;34m(self, *args, **kwargs)\u001b[0m\n\u001b[1;32m     47\u001b[0m \u001b[39mwhile\u001b[39;00m retries \u001b[39m<\u001b[39m max_retries:\n\u001b[1;32m     48\u001b[0m     \u001b[39mtry\u001b[39;00m:\n\u001b[0;32m---> 49\u001b[0m         result \u001b[39m=\u001b[39m func(\u001b[39mself\u001b[39;49m, \u001b[39m*\u001b[39;49margs, \u001b[39m*\u001b[39;49m\u001b[39m*\u001b[39;49mkwargs)\n\u001b[1;32m     50\u001b[0m         \u001b[39mreturn\u001b[39;00m result\n\u001b[1;32m     51\u001b[0m     \u001b[39mexcept\u001b[39;00m \u001b[39mException\u001b[39;00m \u001b[39mas\u001b[39;00m e:\n",
      "File \u001b[0;32m~/Documents/sierra-ils-utils/sierra_ils_utils/decorators.py:138\u001b[0m, in \u001b[0;36mauthenticate.<locals>.wrapper\u001b[0;34m(self, *args, **kwargs)\u001b[0m\n\u001b[1;32m    135\u001b[0m     \u001b[39mself\u001b[39m\u001b[39m.\u001b[39mlogger\u001b[39m.\u001b[39minfo(\u001b[39mf\u001b[39m\u001b[39m\"\u001b[39m\u001b[39mrequest url                                  : \u001b[39m\u001b[39m{\u001b[39;00murl\u001b[39m}\u001b[39;00m\u001b[39m\"\u001b[39m)\n\u001b[1;32m    136\u001b[0m     \u001b[39m# self.logger.info(f\"resonse json                                 : {response.json()}\\n\")\u001b[39;00m\n\u001b[0;32m--> 138\u001b[0m \u001b[39mreturn\u001b[39;00m func(\u001b[39mself\u001b[39;49m, \u001b[39m*\u001b[39;49margs, \u001b[39m*\u001b[39;49m\u001b[39m*\u001b[39;49mkwargs)\n",
      "File \u001b[0;32m~/Documents/sierra-ils-utils/sierra_ils_utils/sierra_ils_utils.py:115\u001b[0m, in \u001b[0;36mSierraAPIv6.get\u001b[0;34m(self, endpoint, params)\u001b[0m\n\u001b[1;32m    110\u001b[0m \u001b[39m@hybrid_retry_decorator\u001b[39m()\n\u001b[1;32m    111\u001b[0m \u001b[39m@authenticate\u001b[39m\n\u001b[1;32m    112\u001b[0m \u001b[39mdef\u001b[39;00m \u001b[39mget\u001b[39m(\u001b[39mself\u001b[39m, endpoint, params\u001b[39m=\u001b[39m\u001b[39mNone\u001b[39;00m):\n\u001b[1;32m    113\u001b[0m     \u001b[39m# Validate endpoint\u001b[39;00m\n\u001b[1;32m    114\u001b[0m     \u001b[39mif\u001b[39;00m endpoint \u001b[39mnot\u001b[39;00m \u001b[39min\u001b[39;00m \u001b[39mself\u001b[39m\u001b[39m.\u001b[39m_endpoints:\n\u001b[0;32m--> 115\u001b[0m         \u001b[39mraise\u001b[39;00m \u001b[39mValueError\u001b[39;00m(\u001b[39mf\u001b[39m\u001b[39m\"\u001b[39m\u001b[39mEndpoint \u001b[39m\u001b[39m'\u001b[39m\u001b[39m{\u001b[39;00mendpoint\u001b[39m}\u001b[39;00m\u001b[39m'\u001b[39m\u001b[39m is not defined in _endpoints.\u001b[39m\u001b[39m\"\u001b[39m)\n\u001b[1;32m    117\u001b[0m     \u001b[39m# Validate HTTP method\u001b[39;00m\n\u001b[1;32m    118\u001b[0m     \u001b[39mif\u001b[39;00m \u001b[39m'\u001b[39m\u001b[39mGET\u001b[39m\u001b[39m'\u001b[39m \u001b[39mnot\u001b[39;00m \u001b[39min\u001b[39;00m \u001b[39mself\u001b[39m\u001b[39m.\u001b[39m_endpoints[endpoint]:\n",
      "\u001b[0;31mValueError\u001b[0m: Endpoint 'info/token' is not defined in _endpoints."
     ]
    }
   ],
   "source": [
    "from sierra_ils_utils import SierraAPIv6\n",
    "import json\n",
    "import logging\n",
    "\n",
    "logger = logging.getLogger('__name__')\n",
    "\n",
    "\n",
    "with open('.config.json') as f:\n",
    "    config = json.load(f)\n",
    "\n",
    "sierra_api = SierraAPIv6(\n",
    "    sierra_api_base_url=config['sierra_api_base_url'],\n",
    "    sierra_api_key=config['sierra_api_key'],\n",
    "    sierra_api_secret=config['sierra_api_secret']\n",
    ")\n",
    "\n",
    "response = sierra_api.get(endpoint='info/token')\n",
    "response.text"
   ]
  },
  {
   "cell_type": "code",
   "execution_count": null,
   "metadata": {},
   "outputs": [],
   "source": [
    "from sierra_ils_utils.sierra_api_v6_models import BibResultSet, ErrorCode, TokenInfo\n",
    "endpoints = {\n",
    "    \"bibs\": {\n",
    "        \"GET\": {\n",
    "            \"path\": \"bibs/\",\n",
    "            \"responses\": {\n",
    "                200: BibResultSet,\n",
    "                400: ErrorCode,\n",
    "                404: ErrorCode\n",
    "                # ... other potential status codes and their corresponding models\n",
    "            },\n",
    "            \"model\": BibResultSet\n",
    "        },\n",
    "        \"DELETE\": {\n",
    "            \"path\": \"bibs/\",\n",
    "            \"responses\": {\n",
    "                200: None,\n",
    "                204: None,\n",
    "                400: ErrorCode,\n",
    "                404: ErrorCode\n",
    "            },\n",
    "            \"model\": ErrorCode\n",
    "        }\n",
    "    },\n",
    "    \"info\": {\n",
    "        \"GET\": {\n",
    "            \"path\": \"info/token\",\n",
    "            \"responses\": {\n",
    "                200: TokenInfo\n",
    "            },\n",
    "            \"model\": TokenInfo\n",
    "        }\n",
    "    }\n",
    "}"
   ]
  },
  {
   "cell_type": "code",
   "execution_count": null,
   "metadata": {},
   "outputs": [],
   "source": [
    "# http_verbs = ['GET', 'POST', 'DELETE']\n",
    "\n"
   ]
  },
  {
   "cell_type": "code",
   "execution_count": null,
   "metadata": {},
   "outputs": [],
   "source": [
    "by_verb"
   ]
  }
 ],
 "metadata": {
  "kernelspec": {
   "display_name": "venv",
   "language": "python",
   "name": "python3"
  },
  "language_info": {
   "codemirror_mode": {
    "name": "ipython",
    "version": 3
   },
   "file_extension": ".py",
   "mimetype": "text/x-python",
   "name": "python",
   "nbconvert_exporter": "python",
   "pygments_lexer": "ipython3",
   "version": "3.10.13"
  },
  "orig_nbformat": 4
 },
 "nbformat": 4,
 "nbformat_minor": 2
}
