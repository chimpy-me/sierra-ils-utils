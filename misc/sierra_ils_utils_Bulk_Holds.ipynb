{
  "cells": [
    {
      "cell_type": "code",
      "execution_count": 10,
      "metadata": {
        "id": "x_sIRvYJVbHa"
      },
      "outputs": [],
      "source": [
        "%%capture\n",
        "# !pip install -U --force-reinstall sierra-ils-utils\n",
        "\n",
        "# install from this branch for testing\n",
        "# !pip install -U --force-reinstall git+https://github.com/chimpy-me/sierra-ils-utils.git@model/QueryEntry\n",
        "# !pip install -U --force-reinstall git+https://github.com/chimpy-me/sierra-ils-utils.git"
      ]
    },
    {
      "cell_type": "code",
      "execution_count": 11,
      "metadata": {
        "colab": {
          "base_uri": "https://localhost:8080/",
          "height": 0
        },
        "id": "vVkhXfzCMo6H",
        "outputId": "61a9aa73-a5ef-431b-8a20-67de513f1cf9"
      },
      "outputs": [],
      "source": [
        "# !pip freeze | grep sierra-ils-utils"
      ]
    },
    {
      "cell_type": "code",
      "execution_count": 12,
      "metadata": {
        "id": "XhEp8tRif_9a"
      },
      "outputs": [],
      "source": [
        "# import the modules\n",
        "from sierra_ils_utils import SierraAPI, QueryBuilder\n",
        "# from google.colab import userdata\n",
        "import json\n",
        "import logging\n",
        "\n",
        "logger = logging.getLogger(__name__)\n",
        "logging.basicConfig(level=logging.DEBUG)"
      ]
    },
    {
      "cell_type": "code",
      "execution_count": 13,
      "metadata": {
        "colab": {
          "base_uri": "https://localhost:8080/",
          "height": 0
        },
        "id": "DTeQ7H4Yh_Y-",
        "outputId": "e6b1c7d3-878e-432f-d4ec-558524372fde"
      },
      "outputs": [
        {
          "name": "stderr",
          "output_type": "stream",
          "text": [
            "DEBUG:sierra_ils_utils.sierra_ils_utils:INIT {'base_url': 'https://classic.cincinnatilibrary.org/iii/sierra-api/v6/', 'api_key': '1ebmZG6N********************', 'request_count': 0, 'expires_at': 0, 'session_headers': {'accept': 'application/json', 'Authorization': ''}, 'endpoints': {'GET': {'bibs/': {'responses': {200: <class 'sierra_ils_utils.sierra_api_v6_endpoints.BibResultSet'>, 400: <class 'sierra_ils_utils.sierra_api_v6_endpoints.ErrorCode'>, 404: <class 'sierra_ils_utils.sierra_api_v6_endpoints.ErrorCode'>}, 'response_model': <class 'sierra_ils_utils.sierra_api_v6_endpoints.BibResultSet'>}, 'bibs/{id}': {'responses': {200: <class 'sierra_ils_utils.sierra_api_v6_endpoints.Bib'>, 400: <class 'sierra_ils_utils.sierra_api_v6_endpoints.ErrorCode'>, 404: <class 'sierra_ils_utils.sierra_api_v6_endpoints.ErrorCode'>}, 'response_model': <class 'sierra_ils_utils.sierra_api_v6_endpoints.Bib'>}, 'info/token': {'responses': {200: <class 'sierra_ils_utils.sierra_api_v6_endpoints.TokenInfo'>}, 'response_model': <class 'sierra_ils_utils.sierra_api_v6_endpoints.TokenInfo'>}, 'items/': {'description': 'Get a List of Item Records', 'responses': {200: <class 'sierra_ils_utils.sierra_api_v6_endpoints.ItemResultSet'>, 400: <class 'sierra_ils_utils.sierra_api_v6_endpoints.ErrorCode'>, 404: <class 'sierra_ils_utils.sierra_api_v6_endpoints.ErrorCode'>}, 'response_model': <class 'sierra_ils_utils.sierra_api_v6_endpoints.ItemResultSet'>}, 'items/{id}': {'description': 'Get an item by record ID', 'responses': {200: <class 'sierra_ils_utils.sierra_api_v6_endpoints.Item'>, 400: <class 'sierra_ils_utils.sierra_api_v6_endpoints.ErrorCode'>, 404: <class 'sierra_ils_utils.sierra_api_v6_endpoints.ErrorCode'>}, 'response_model': <class 'sierra_ils_utils.sierra_api_v6_endpoints.Item'>}, 'items/checkouts': {'responses': {200: <class 'sierra_ils_utils.sierra_api_v6_endpoints.CheckoutResultSet'>, 400: <class 'sierra_ils_utils.sierra_api_v6_endpoints.ErrorCode'>, 404: <class 'sierra_ils_utils.sierra_api_v6_endpoints.ErrorCode'>}, 'response_model': <class 'sierra_ils_utils.sierra_api_v6_endpoints.CheckoutResultSet'>}, 'volumes/': {'responses': {200: <class 'sierra_ils_utils.sierra_api_v6_endpoints.VolumeResultSet'>, 400: <class 'sierra_ils_utils.sierra_api_v6_endpoints.ErrorCode'>, 404: <class 'sierra_ils_utils.sierra_api_v6_endpoints.ErrorCode'>}}, 'volumes/{id}': {'responses': {200: <class 'sierra_ils_utils.sierra_api_v6_endpoints.Volume'>, 400: <class 'sierra_ils_utils.sierra_api_v6_endpoints.ErrorCode'>, 404: <class 'sierra_ils_utils.sierra_api_v6_endpoints.ErrorCode'>}, 'response_model': <class 'sierra_ils_utils.sierra_api_v6_endpoints.Volume'>}}, 'POST': {'bibs/query': {'\\n            Filter the records by a query in JSON format\\n            responses': {200: <class 'sierra_ils_utils.sierra_api_v6_endpoints.QueryResultSet'>, 400: <class 'sierra_ils_utils.sierra_api_v6_endpoints.ErrorCode'>, 404: <class 'sierra_ils_utils.sierra_api_v6_endpoints.ErrorCode'>}, 'response_model': <class 'sierra_ils_utils.sierra_api_v6_endpoints.QueryResultSet'>, 'body_required': True, 'body_format': 'json'}, 'items/query': {'\\n            Filter the records by a query in JSON format\\n            responses': {200: <class 'sierra_ils_utils.sierra_api_v6_endpoints.QueryResultSet'>, 400: <class 'sierra_ils_utils.sierra_api_v6_endpoints.ErrorCode'>, 404: <class 'sierra_ils_utils.sierra_api_v6_endpoints.ErrorCode'>}, 'response_model': <class 'sierra_ils_utils.sierra_api_v6_endpoints.QueryResultSet'>, 'body_required': True, 'body_format': 'json'}}, 'DELETE': {'bibs/{id}': {'responses': {200: None, 204: None, 400: <class 'sierra_ils_utils.sierra_api_v6_endpoints.ErrorCode'>, 404: <class 'sierra_ils_utils.sierra_api_v6_endpoints.ErrorCode'>}, 'response_model': <class 'sierra_ils_utils.sierra_api_v6_endpoints.ErrorCode'>}}}}\n"
          ]
        }
      ],
      "source": [
        "# from google.colab import userdata\n",
        "\n",
        "with open('./.config.json') as f:\n",
        "  config = json.load(f)\n",
        "\n",
        "sierra_api = SierraAPI(\n",
        "    # sierra_api_base_url=userdata.get('sierra_api_base_url'),\n",
        "    sierra_api_base_url=config.get('sierra_api_base_url'),\n",
        "    # sierra_api_key=userdata.get('sierra_api_key'),\n",
        "    sierra_api_key=config.get('sierra_api_key'),\n",
        "    # sierra_api_secret=userdata.get('sierra_api_secret'),\n",
        "    sierra_api_secret=config.get('sierra_api_secret'),\n",
        "    log_level=logging.DEBUG\n",
        ")\n",
        "\n",
        "\n",
        "# # setup the api client from sierra-ils-utils\n",
        "# sierra_api = SierraAPI(\n",
        "#     sierra_api_base_url=userdata.get('sierra-test_api_base_url'),\n",
        "#     sierra_api_key=userdata.get('sierra-test_api_key'),\n",
        "#     sierra_api_secret=userdata.get('sierra-test_api_secret'),\n",
        "#     log_level='DEBUG'\n",
        "# )"
      ]
    },
    {
      "cell_type": "code",
      "execution_count": 14,
      "metadata": {
        "colab": {
          "base_uri": "https://localhost:8080/",
          "height": 0
        },
        "id": "2gf3JjUONn8-",
        "outputId": "d4edc0eb-f58f-4efa-fbd5-722c1c9196ff"
      },
      "outputs": [
        {
          "name": "stdout",
          "output_type": "stream",
          "text": [
            "['barcode']\n",
            "['0923112556017', 'A000074528052', '8264518556018']\n",
            "100\n"
          ]
        }
      ],
      "source": [
        "# we have a list of 100 item barcodes in a .csv file ...\n",
        "# ... we're going to load them into a list\n",
        "\n",
        "import csv\n",
        "\n",
        "with open('./current_collection-a9be2bf.csv') as f:\n",
        "    reader = csv.reader(f)             # use the csv reader to read the file\n",
        "    columns = next(reader)             # first \"row\" is the column names\n",
        "    rows = [row[0] for row in reader]  # produce a list of barcodes\n",
        "\n",
        "print(\n",
        "    columns,   # column names\n",
        "    rows[:3],  # first 3 barcodes\n",
        "    len(rows), # number of barcodes\n",
        "    sep='\\n'\n",
        ")"
      ]
    },
    {
      "cell_type": "code",
      "execution_count": 27,
      "metadata": {
        "id": "WyYKw02jQEeR"
      },
      "outputs": [],
      "source": [
        "# sierra-ils-utils also has a (simple) query builder\n",
        "\n",
        "# https://documentation.iii.com/sierrahelp/#sgil/sgil_lists_json.html\n",
        "# > You can view and define Create Lists queries using JavaScript Object\n",
        "# > Notation (JSON)\n",
        "\n",
        "query = QueryBuilder()  # instatiate the class\n",
        "\n",
        "# the query builder allows for \"method chaining\":\n",
        "# ... below, we start a query with a target type of \"item\", and varfield tag \"b\"\n",
        "# ... followed by the barcodes, \"b\" in the list of operands\n",
        "# e.g. item records having a matching barcodes to ones in our list\n",
        "query = query.start_query(record_type='item', field_tag='b') \\\n",
        "    .add_expression(op='in', operands=rows) \\\n",
        "    .end_query()  # end the query\n",
        "\n",
        "note = \"\"\"\n",
        "this generates the following similar JSON by using the method, `query.json()`\n",
        "\n",
        "{\n",
        "  \"target\": {\n",
        "    \"record\": {\n",
        "      \"type\": \"item\"\n",
        "    },\n",
        "    \"field\": {\n",
        "      \"tag\": \"b\"\n",
        "    }\n",
        "  },\n",
        "  \"expr\": [\n",
        "    {\n",
        "      \"op\": \"in\",\n",
        "      \"operands\": [\n",
        "        \"0923112556017\",\n",
        "        \"A000074528052\",\n",
        "        \"8264518556018\"\n",
        "      ]\n",
        "    }\n",
        "  ]\n",
        "}\n",
        "\"\"\""
      ]
    },
    {
      "cell_type": "code",
      "execution_count": 28,
      "metadata": {
        "colab": {
          "base_uri": "https://localhost:8080/",
          "height": 0
        },
        "id": "ru1RDvvswEia",
        "outputId": "3bbb3bce-9366-4fb4-cb5e-3ca6f4ace605"
      },
      "outputs": [
        {
          "name": "stderr",
          "output_type": "stream",
          "text": [
            "DEBUG:sierra_ils_utils.sierra_ils_utils:\"template\": items/query\n",
            "DEBUG:sierra_ils_utils.sierra_ils_utils:POST {\"endpoint\": \"https://classic.cincinnatilibrary.org/iii/sierra-api/v6/items/query\", \"params\": \"{'limit': 2000, 'offset': 0}\", \"json_body\": \"{'target': {'record': {'type': 'item'}, 'field': {'tag': 'b'}}, 'expr': [{'op': 'in', 'operands': ['0923112556017', 'A000074528052', '8264518556018', 'A000068621988', 'A000058040528', '1020643846014', '1062395-2001', '0995811352013', 'A000054341995', '8100145849014', 'A000023623580', 'A000075775231', 'A000074880321', '0937904152025', 'A000072564059', 'A000025464017', '0900611452138', 'A000064695739', 'A000011346970', '1023446846025', '0984097149012', 'A000011996113', 'A000065085880', 'A000063024121', 'A000071364972', 'A000051658912', 'A000012718318', '0985872058013', 'A000071899654', 'A000055732127', '1024650084022', 'A000014373419', '1004357046011', 'A000065073225', 'A000033164476', 'A000050379874', 'A000075409716', '1001787786018', '0922146653022', 'A000070607009', 'A000080518162', 'A000064358809', '1792811-1002', 'A000074873987', 'A000072450416', 'A000064926050', 'A000019339308', '1525631-1001', 'A000073281265', 'A000018758995', '1005058558014', 'A000079710226', 'A000079866150', 'A000061592277', '0912973453018', '1041576952017', '1013705658013', '8304846049011', '0934014841019', '0932462346010', '0932279051027', 'A000078996461', '1037336236014', 'A000057088973', '0976377446019', '0952947546026', 'A000067001034', '1010797258017', '0982116552018', 'A000004572376', '4300254152010', 'A000053893038', 'A000077500090', 'A000073832570', '0958832848039', 'A000040723306', 'A000063856258', 'A000058045402', 'A000049413115', 'A000033016726', 'A000049944390', '1731747-1001', 'A000004369278', 'A000044781201', '6502618958028', 'A000047562020', '0937799358018', '0943509249018', 'A000060709500', '6101509549044', '0961467301019', 'A000075159402', 'A000049341936', '0940458851026', 'A000078946961', 'A000021036603', 'A000052599263', 'A000067352056', 'A000041231986', '1012125946016']}]}\"}\n",
            "DEBUG:urllib3.connectionpool:Resetting dropped connection: classic.cincinnatilibrary.org\n",
            "DEBUG:urllib3.connectionpool:https://classic.cincinnatilibrary.org:443 \"POST /iii/sierra-api/v6/items/query?limit=2000&offset=0 HTTP/1.1\" 200 8164\n",
            "DEBUG:sierra_ils_utils.sierra_ils_utils:\"response.status_code\": 200, \"prepared_request.url\": https://classic.cincinnatilibrary.org/iii/sierra-api/v6/items/query?limit=2000&offset=0, \"prepared_request.params\": {\"limit\": 2000, \"offset\": 0}, \"prepared_request.body\": {\"target\": {\"record\": {\"type\": \"item\"}, \"field\": {\"tag\": \"b\"}}, \"expr\": [{\"op\": \"in\", \"operands\": [\"0923112556017\", \"A000074528052\", \"8264518556018\", \"A000068621988\", \"A000058040528\", \"1020643846014\", \"1062395-2001\", \"0995811352013\", \"A000054341995\", \"8100145849014\", \"A000023623580\", \"A000075775231\", \"A000074880321\", \"0937904152025\", \"A000072564059\", \"A000025464017\", \"0900611452138\", \"A000064695739\", \"A000011346970\", \"1023446846025\", \"0984097149012\", \"A000011996113\", \"A000065085880\", \"A000063024121\", \"A000071364972\", \"A000051658912\", \"A000012718318\", \"0985872058013\", \"A000071899654\", \"A000055732127\", \"1024650084022\", \"A000014373419\", \"1004357046011\", \"A000065073225\", \"A000033164476\", \"A000050379874\", \"A000075409716\", \"1001787786018\", \"0922146653022\", \"A000070607009\", \"A000080518162\", \"A000064358809\", \"1792811-1002\", \"A000074873987\", \"A000072450416\", \"A000064926050\", \"A000019339308\", \"1525631-1001\", \"A000073281265\", \"A000018758995\", \"1005058558014\", \"A000079710226\", \"A000079866150\", \"A000061592277\", \"0912973453018\", \"1041576952017\", \"1013705658013\", \"8304846049011\", \"0934014841019\", \"0932462346010\", \"0932279051027\", \"A000078996461\", \"1037336236014\", \"A000057088973\", \"0976377446019\", \"0952947546026\", \"A000067001034\", \"1010797258017\", \"0982116552018\", \"A000004572376\", \"4300254152010\", \"A000053893038\", \"A000077500090\", \"A000073832570\", \"0958832848039\", \"A000040723306\", \"A000063856258\", \"A000058045402\", \"A000049413115\", \"A000033016726\", \"A000049944390\", \"1731747-1001\", \"A000004369278\", \"A000044781201\", \"6502618958028\", \"A000047562020\", \"0937799358018\", \"0943509249018\", \"A000060709500\", \"6101509549044\", \"0961467301019\", \"A000075159402\", \"A000049341936\", \"0940458851026\", \"A000078946961\", \"A000021036603\", \"A000052599263\", \"A000067352056\", \"A000041231986\", \"1012125946016\"]}]}, \"request_count\": 15\n",
            "DEBUG:sierra_ils_utils.sierra_ils_utils:POST https://classic.cincinnatilibrary.org/iii/sierra-api/v6/items/query?limit=2000&offset=0 200 ✅\n"
          ]
        }
      ],
      "source": [
        "# send the query!\n",
        "response = sierra_api.post(\n",
        "    'items/query',\n",
        "    params={\n",
        "        'limit':2000,\n",
        "        'offset':0,\n",
        "    },\n",
        "    json_body=query.json()  # send the query as JSON\n",
        ")"
      ]
    },
    {
      "cell_type": "code",
      "execution_count": 18,
      "metadata": {
        "colab": {
          "base_uri": "https://localhost:8080/",
          "height": 0
        },
        "id": "2l-BYBOASTCj",
        "outputId": "aa55f10f-308a-4929-d178-013fe3657c97"
      },
      "outputs": [
        {
          "name": "stdout",
          "output_type": "stream",
          "text": [
            "100\n",
            "[QueryEntry(link='https://classic.cincinnatilibrary.org/iii/sierra-api/v6/items/1008510'), QueryEntry(link='https://classic.cincinnatilibrary.org/iii/sierra-api/v6/items/1051453'), QueryEntry(link='https://classic.cincinnatilibrary.org/iii/sierra-api/v6/items/1089999')]\n"
          ]
        }
      ],
      "source": [
        "print(\n",
        "    len(response.data.entries),  # number of entries\n",
        "    response.data.entries[:3],    # print the first 3 entries\n",
        "    sep='\\n'\n",
        ")"
      ]
    },
    {
      "cell_type": "code",
      "execution_count": 19,
      "metadata": {
        "colab": {
          "base_uri": "https://localhost:8080/",
          "height": 105
        },
        "id": "64XVtkZ84GYx",
        "outputId": "fd9f0c5c-b3a8-408a-959f-055b1d5284ba"
      },
      "outputs": [
        {
          "name": "stderr",
          "output_type": "stream",
          "text": [
            "DEBUG:sierra_ils_utils.sierra_ils_utils:GET {\"endpoint\": \"https://classic.cincinnatilibrary.org/iii/sierra-api/v6/items/\", \"params\": \"{'id': '1008510,1051453,1089999,1128285,1149989,1310822,1601060,1793192,1968380,2006419,2020016,2020707,2030791,2056420,2093246,2268916,2315163,2320049,2374433,2599992,2638456,2665460,2860311,2991150,3113983,3144330,3148531,3191696,3247921,3727599,3791673,3831990,3956454,3975242,4060167,4196464,4254422,4387071,4782511,4799691,4897638,4911080,5174099,5280541,5293996,5465619,5552068,5579548,5626824,5729432,5776816,5949912,7761942,7871518,8101516,8208741,8423080,8603237,8605599,8677901,8736267,8980877,9059912,9222526,9250700,9451597,9539229,9677344,9678922,9943807,9960593,10135506,10238009,10265809,10401599,10420145,10421589,10456329,10616213,10669667,10779898,10938336,11035487,11140377,11291644,11346531,11461660,11496797,11503993,11506262,11540323,11622305,11742854,11824107,11860845,11896081,11955479,12104387,12108965,12161411', 'fields': 'default'}\"}\n",
            "DEBUG:urllib3.connectionpool:Resetting dropped connection: classic.cincinnatilibrary.org\n",
            "DEBUG:urllib3.connectionpool:https://classic.cincinnatilibrary.org:443 \"GET /iii/sierra-api/v6/items/?id=1008510%2C1051453%2C1089999%2C1128285%2C1149989%2C1310822%2C1601060%2C1793192%2C1968380%2C2006419%2C2020016%2C2020707%2C2030791%2C2056420%2C2093246%2C2268916%2C2315163%2C2320049%2C2374433%2C2599992%2C2638456%2C2665460%2C2860311%2C2991150%2C3113983%2C3144330%2C3148531%2C3191696%2C3247921%2C3727599%2C3791673%2C3831990%2C3956454%2C3975242%2C4060167%2C4196464%2C4254422%2C4387071%2C4782511%2C4799691%2C4897638%2C4911080%2C5174099%2C5280541%2C5293996%2C5465619%2C5552068%2C5579548%2C5626824%2C5729432%2C5776816%2C5949912%2C7761942%2C7871518%2C8101516%2C8208741%2C8423080%2C8603237%2C8605599%2C8677901%2C8736267%2C8980877%2C9059912%2C9222526%2C9250700%2C9451597%2C9539229%2C9677344%2C9678922%2C9943807%2C9960593%2C10135506%2C10238009%2C10265809%2C10401599%2C10420145%2C10421589%2C10456329%2C10616213%2C10669667%2C10779898%2C10938336%2C11035487%2C11140377%2C11291644%2C11346531%2C11461660%2C11496797%2C11503993%2C11506262%2C11540323%2C11622305%2C11742854%2C11824107%2C11860845%2C11896081%2C11955479%2C12104387%2C12108965%2C12161411&fields=default HTTP/1.1\" 200 None\n",
            "DEBUG:sierra_ils_utils.sierra_ils_utils:request count: 3\n",
            "DEBUG:sierra_ils_utils.sierra_ils_utils:GET https://classic.cincinnatilibrary.org/iii/sierra-api/v6/items/?id=1008510%2C1051453%2C1089999%2C1128285%2C1149989%2C1310822%2C1601060%2C1793192%2C1968380%2C2006419%2C2020016%2C2020707%2C2030791%2C2056420%2C2093246%2C2268916%2C2315163%2C2320049%2C2374433%2C2599992%2C2638456%2C2665460%2C2860311%2C2991150%2C3113983%2C3144330%2C3148531%2C3191696%2C3247921%2C3727599%2C3791673%2C3831990%2C3956454%2C3975242%2C4060167%2C4196464%2C4254422%2C4387071%2C4782511%2C4799691%2C4897638%2C4911080%2C5174099%2C5280541%2C5293996%2C5465619%2C5552068%2C5579548%2C5626824%2C5729432%2C5776816%2C5949912%2C7761942%2C7871518%2C8101516%2C8208741%2C8423080%2C8603237%2C8605599%2C8677901%2C8736267%2C8980877%2C9059912%2C9222526%2C9250700%2C9451597%2C9539229%2C9677344%2C9678922%2C9943807%2C9960593%2C10135506%2C10238009%2C10265809%2C10401599%2C10420145%2C10421589%2C10456329%2C10616213%2C10669667%2C10779898%2C10938336%2C11035487%2C11140377%2C11291644%2C11346531%2C11461660%2C11496797%2C11503993%2C11506262%2C11540323%2C11622305%2C11742854%2C11824107%2C11860845%2C11896081%2C11955479%2C12104387%2C12108965%2C12161411&fields=default 200 ✅\n"
          ]
        }
      ],
      "source": [
        "# now that we have the items record numbers, we can get item data\n",
        "\n",
        "result = sierra_api.get(\n",
        "    'items/',\n",
        "    params={\n",
        "        'id': ','.join(response.data.entry_ids),\n",
        "        'fields': 'default'\n",
        "    }\n",
        ")"
      ]
    },
    {
      "cell_type": "code",
      "execution_count": 20,
      "metadata": {},
      "outputs": [],
      "source": [
        "# result.data.entries[0]\n",
        "\n",
        "# if items have a status->duedate, or volumes, don't place a hold on it.\n",
        "items_for_holds = []\n",
        "items_not_for_holds = []\n",
        "\n",
        "for item in result.data.entries:\n",
        "    if len(item.volumes) == 0 and item.status.duedate is None:\n",
        "        # print(f'{item.id} PUT HOLD\\n')\n",
        "        items_for_holds.append(item.id)\n",
        "    else:\n",
        "        # print(f'{item.id} DON\\'T PUT HOLD\\n')\n",
        "        items_not_for_holds.append(item.id)"
      ]
    },
    {
      "cell_type": "code",
      "execution_count": 21,
      "metadata": {},
      "outputs": [
        {
          "data": {
            "text/plain": [
              "(41, 9)"
            ]
          },
          "execution_count": 21,
          "metadata": {},
          "output_type": "execute_result"
        }
      ],
      "source": [
        "len(items_for_holds), len(items_not_for_holds)"
      ]
    },
    {
      "cell_type": "code",
      "execution_count": 22,
      "metadata": {},
      "outputs": [],
      "source": [
        "item.status.duedate"
      ]
    },
    {
      "cell_type": "code",
      "execution_count": 23,
      "metadata": {
        "colab": {
          "base_uri": "https://localhost:8080/",
          "height": 0
        },
        "id": "Zanpr0mhrRYu",
        "outputId": "94e1a57d-c3ca-4402-a5d3-4dcbdcec588e"
      },
      "outputs": [
        {
          "name": "stderr",
          "output_type": "stream",
          "text": [
            "DEBUG:sierra_ils_utils.sierra_ils_utils:\"template\": bibs/query\n",
            "DEBUG:sierra_ils_utils.sierra_ils_utils:POST {\"endpoint\": \"https://classic.cincinnatilibrary.org/iii/sierra-api/v6/bibs/query\", \"params\": \"{'offset': 0, 'limit': 10}\", \"json_body\": \"{'target': {'record': {'type': 'bib'}, 'field': {'tag': 't'}}, 'expr': {'op': 'has', 'operands': ['spider-man']}}\"}\n",
            "DEBUG:urllib3.connectionpool:Resetting dropped connection: classic.cincinnatilibrary.org\n",
            "DEBUG:urllib3.connectionpool:https://classic.cincinnatilibrary.org:443 \"POST /iii/sierra-api/v6/bibs/query?offset=0&limit=10 HTTP/1.1\" 200 834\n",
            "DEBUG:sierra_ils_utils.sierra_ils_utils:\"response.status_code\": 200, \"prepared_request.url\": https://classic.cincinnatilibrary.org/iii/sierra-api/v6/bibs/query?offset=0&limit=10, \"prepared_request.params\": {\"offset\": 0, \"limit\": 10}, \"prepared_request.body\": {\"target\": {\"record\": {\"type\": \"bib\"}, \"field\": {\"tag\": \"t\"}}, \"expr\": {\"op\": \"has\", \"operands\": [\"spider-man\"]}}, \"request_count\": 4\n",
            "DEBUG:sierra_ils_utils.sierra_ils_utils:POST https://classic.cincinnatilibrary.org/iii/sierra-api/v6/bibs/query?offset=0&limit=10 200 ✅\n"
          ]
        },
        {
          "name": "stdout",
          "output_type": "stream",
          "text": [
            "\"status_code\"          : \"200\"\n",
            "\"response_model_name\"  : \"QueryResultSet\"\n",
            "\"response_model_data\"  : \"{\n",
            "    \"total\": 10,\n",
            "    \"start\": 0,\n",
            "    \"entries\": [\n",
            "        {\n",
            "            \"link\": \"https://classic.cincinnatilibrary.org/iii/sierra-api/v6/bibs/1061673\"\n",
            "        },\n",
            "        {\n",
            "            \"link\": \"https://classic.cincinnatilibrary.org/iii/sierra-api/v6/bibs/1069164\"\n",
            "        },\n",
            "        {\n",
            "            \"link\": \"https://classic.cincinnatilibrary.org/iii/sierra-api/v6/bibs/1382468\"\n",
            "        },\n",
            "        {\n",
            "            \"link\": \"https://classic.cincinnatilibrary.org/iii/sierra-api/v6/bibs/1527184\"\n",
            "        },\n",
            "        {\n",
            "            \"link\": \"https://classic.cincinnatilibrary.org/iii/sierra-api/v6/bibs/1643908\"\n",
            "        },\n",
            "        {\n",
            "            \"link\": \"https://classic.cincinnatilibrary.org/iii/sierra-api/v6/bibs/1789847\"\n",
            "        },\n",
            "        {\n",
            "            \"link\": \"https://classic.cincinnatilibrary.org/iii/sierra-api/v6/bibs/1806283\"\n",
            "        },\n",
            "        {\n",
            "            \"link\": \"https://classic.cincinnatilibrary.org/iii/sierra-api/v6/bibs/1859336\"\n",
            "        },\n",
            "        {\n",
            "            \"link\": \"https://classic.cincinnatilibrary.org/iii/sierra-api/v6/bibs/1871452\"\n",
            "        },\n",
            "        {\n",
            "            \"link\": \"https://classic.cincinnatilibrary.org/iii/sierra-api/v6/bibs/1886313\"\n",
            "        }\n",
            "    ]\n",
            "}\n"
          ]
        }
      ],
      "source": [
        "# the create lists json query ...\n",
        "json_body = \"\"\"\\\n",
        "{\n",
        "  \"target\": {\n",
        "    \"record\": {\"type\": \"bib\"},\n",
        "    \"field\": {\"tag\": \"t\"}\n",
        "  },\n",
        "  \"expr\": {\n",
        "    \"op\": \"has\",\n",
        "    \"operands\": [\"spider-man\"]\n",
        "  }\n",
        "}\n",
        "\"\"\"\n",
        "\n",
        "response = sierra_api.post(\n",
        "    'bibs/query',\n",
        "    params={\n",
        "        'offset': 0,\n",
        "        'limit': 10,\n",
        "    },\n",
        "    json_body=json_body\n",
        ")\n",
        "\n",
        "print(response)"
      ]
    },
    {
      "cell_type": "code",
      "execution_count": 24,
      "metadata": {
        "colab": {
          "base_uri": "https://localhost:8080/"
        },
        "id": "ImpheBH-FvWK",
        "outputId": "2f65533c-2369-491a-937c-4f7f9adb653f"
      },
      "outputs": [
        {
          "name": "stdout",
          "output_type": "stream",
          "text": [
            "1061673\n",
            "1069164\n",
            "1382468\n",
            "1527184\n",
            "1643908\n",
            "1789847\n",
            "1806283\n",
            "1859336\n",
            "1871452\n",
            "1886313\n"
          ]
        }
      ],
      "source": [
        "for entry in response.data.entry_ids:\n",
        "  print(entry)"
      ]
    },
    {
      "cell_type": "code",
      "execution_count": 25,
      "metadata": {
        "colab": {
          "base_uri": "https://localhost:8080/"
        },
        "id": "GB6Ffb_MNAvE",
        "outputId": "8d220712-7d2b-4ca8-91cf-536cb4ac1538"
      },
      "outputs": [],
      "source": [
        "# print(response.data.entries)"
      ]
    },
    {
      "cell_type": "code",
      "execution_count": 26,
      "metadata": {
        "colab": {
          "base_uri": "https://localhost:8080/"
        },
        "id": "AuY-ugtqGobk",
        "outputId": "dd718cd6-97cd-4799-c31f-cfa68a221080"
      },
      "outputs": [
        {
          "name": "stderr",
          "output_type": "stream",
          "text": [
            "DEBUG:sierra_ils_utils.sierra_ils_utils:GET {\"endpoint\": \"https://classic.cincinnatilibrary.org/iii/sierra-api/v6/bibs/1061673\", \"params\": \"{}\"}\n",
            "DEBUG:urllib3.connectionpool:Resetting dropped connection: classic.cincinnatilibrary.org\n"
          ]
        },
        {
          "name": "stdout",
          "output_type": "stream",
          "text": [
            "1 https://classic.cincinnatilibrary.org/iii/sierra-api/v6/bibs/1061673\n"
          ]
        },
        {
          "name": "stderr",
          "output_type": "stream",
          "text": [
            "DEBUG:urllib3.connectionpool:https://classic.cincinnatilibrary.org:443 \"GET /iii/sierra-api/v6/bibs/1061673 HTTP/1.1\" 200 499\n",
            "DEBUG:sierra_ils_utils.sierra_ils_utils:request count: 5\n",
            "DEBUG:sierra_ils_utils.sierra_ils_utils:GET https://classic.cincinnatilibrary.org/iii/sierra-api/v6/bibs/1061673 200 ✅\n",
            "DEBUG:sierra_ils_utils.sierra_ils_utils:GET {\"endpoint\": \"https://classic.cincinnatilibrary.org/iii/sierra-api/v6/bibs/1069164\", \"params\": \"{}\"}\n",
            "DEBUG:urllib3.connectionpool:https://classic.cincinnatilibrary.org:443 \"GET /iii/sierra-api/v6/bibs/1069164 HTTP/1.1\" 200 460\n",
            "DEBUG:sierra_ils_utils.sierra_ils_utils:request count: 6\n",
            "DEBUG:sierra_ils_utils.sierra_ils_utils:GET https://classic.cincinnatilibrary.org/iii/sierra-api/v6/bibs/1069164 200 ✅\n",
            "DEBUG:sierra_ils_utils.sierra_ils_utils:GET {\"endpoint\": \"https://classic.cincinnatilibrary.org/iii/sierra-api/v6/bibs/1382468\", \"params\": \"{}\"}\n",
            "DEBUG:urllib3.connectionpool:https://classic.cincinnatilibrary.org:443 \"GET /iii/sierra-api/v6/bibs/1382468 HTTP/1.1\" 200 497\n",
            "DEBUG:sierra_ils_utils.sierra_ils_utils:request count: 7\n",
            "DEBUG:sierra_ils_utils.sierra_ils_utils:GET https://classic.cincinnatilibrary.org/iii/sierra-api/v6/bibs/1382468 200 ✅\n",
            "DEBUG:sierra_ils_utils.sierra_ils_utils:GET {\"endpoint\": \"https://classic.cincinnatilibrary.org/iii/sierra-api/v6/bibs/1527184\", \"params\": \"{}\"}\n"
          ]
        },
        {
          "name": "stdout",
          "output_type": "stream",
          "text": [
            "2 https://classic.cincinnatilibrary.org/iii/sierra-api/v6/bibs/1069164\n",
            "3 https://classic.cincinnatilibrary.org/iii/sierra-api/v6/bibs/1382468\n",
            "4 https://classic.cincinnatilibrary.org/iii/sierra-api/v6/bibs/1527184\n"
          ]
        },
        {
          "name": "stderr",
          "output_type": "stream",
          "text": [
            "DEBUG:urllib3.connectionpool:https://classic.cincinnatilibrary.org:443 \"GET /iii/sierra-api/v6/bibs/1527184 HTTP/1.1\" 200 452\n",
            "DEBUG:sierra_ils_utils.sierra_ils_utils:request count: 8\n",
            "DEBUG:sierra_ils_utils.sierra_ils_utils:GET https://classic.cincinnatilibrary.org/iii/sierra-api/v6/bibs/1527184 200 ✅\n",
            "DEBUG:sierra_ils_utils.sierra_ils_utils:GET {\"endpoint\": \"https://classic.cincinnatilibrary.org/iii/sierra-api/v6/bibs/1643908\", \"params\": \"{}\"}\n",
            "DEBUG:urllib3.connectionpool:https://classic.cincinnatilibrary.org:443 \"GET /iii/sierra-api/v6/bibs/1643908 HTTP/1.1\" 200 458\n",
            "DEBUG:sierra_ils_utils.sierra_ils_utils:request count: 9\n",
            "DEBUG:sierra_ils_utils.sierra_ils_utils:GET https://classic.cincinnatilibrary.org/iii/sierra-api/v6/bibs/1643908 200 ✅\n",
            "DEBUG:sierra_ils_utils.sierra_ils_utils:GET {\"endpoint\": \"https://classic.cincinnatilibrary.org/iii/sierra-api/v6/bibs/1789847\", \"params\": \"{}\"}\n",
            "DEBUG:urllib3.connectionpool:https://classic.cincinnatilibrary.org:443 \"GET /iii/sierra-api/v6/bibs/1789847 HTTP/1.1\" 200 470\n",
            "DEBUG:sierra_ils_utils.sierra_ils_utils:request count: 10\n",
            "DEBUG:sierra_ils_utils.sierra_ils_utils:GET https://classic.cincinnatilibrary.org/iii/sierra-api/v6/bibs/1789847 200 ✅\n",
            "DEBUG:sierra_ils_utils.sierra_ils_utils:GET {\"endpoint\": \"https://classic.cincinnatilibrary.org/iii/sierra-api/v6/bibs/1806283\", \"params\": \"{}\"}\n"
          ]
        },
        {
          "name": "stdout",
          "output_type": "stream",
          "text": [
            "5 https://classic.cincinnatilibrary.org/iii/sierra-api/v6/bibs/1643908\n",
            "6 https://classic.cincinnatilibrary.org/iii/sierra-api/v6/bibs/1789847\n",
            "7 https://classic.cincinnatilibrary.org/iii/sierra-api/v6/bibs/1806283\n"
          ]
        },
        {
          "name": "stderr",
          "output_type": "stream",
          "text": [
            "DEBUG:urllib3.connectionpool:https://classic.cincinnatilibrary.org:443 \"GET /iii/sierra-api/v6/bibs/1806283 HTTP/1.1\" 200 507\n",
            "DEBUG:sierra_ils_utils.sierra_ils_utils:request count: 11\n",
            "DEBUG:sierra_ils_utils.sierra_ils_utils:GET https://classic.cincinnatilibrary.org/iii/sierra-api/v6/bibs/1806283 200 ✅\n",
            "DEBUG:sierra_ils_utils.sierra_ils_utils:GET {\"endpoint\": \"https://classic.cincinnatilibrary.org/iii/sierra-api/v6/bibs/1859336\", \"params\": \"{}\"}\n",
            "DEBUG:urllib3.connectionpool:https://classic.cincinnatilibrary.org:443 \"GET /iii/sierra-api/v6/bibs/1859336 HTTP/1.1\" 200 512\n",
            "DEBUG:sierra_ils_utils.sierra_ils_utils:request count: 12\n",
            "DEBUG:sierra_ils_utils.sierra_ils_utils:GET https://classic.cincinnatilibrary.org/iii/sierra-api/v6/bibs/1859336 200 ✅\n",
            "DEBUG:sierra_ils_utils.sierra_ils_utils:GET {\"endpoint\": \"https://classic.cincinnatilibrary.org/iii/sierra-api/v6/bibs/1871452\", \"params\": \"{}\"}\n",
            "DEBUG:urllib3.connectionpool:https://classic.cincinnatilibrary.org:443 \"GET /iii/sierra-api/v6/bibs/1871452 HTTP/1.1\" 200 473\n",
            "DEBUG:sierra_ils_utils.sierra_ils_utils:request count: 13\n",
            "DEBUG:sierra_ils_utils.sierra_ils_utils:GET https://classic.cincinnatilibrary.org/iii/sierra-api/v6/bibs/1871452 200 ✅\n",
            "DEBUG:sierra_ils_utils.sierra_ils_utils:GET {\"endpoint\": \"https://classic.cincinnatilibrary.org/iii/sierra-api/v6/bibs/1886313\", \"params\": \"{}\"}\n"
          ]
        },
        {
          "name": "stdout",
          "output_type": "stream",
          "text": [
            "8 https://classic.cincinnatilibrary.org/iii/sierra-api/v6/bibs/1859336\n",
            "9 https://classic.cincinnatilibrary.org/iii/sierra-api/v6/bibs/1871452\n",
            "10 https://classic.cincinnatilibrary.org/iii/sierra-api/v6/bibs/1886313\n"
          ]
        },
        {
          "name": "stderr",
          "output_type": "stream",
          "text": [
            "DEBUG:urllib3.connectionpool:https://classic.cincinnatilibrary.org:443 \"GET /iii/sierra-api/v6/bibs/1886313 HTTP/1.1\" 200 444\n",
            "DEBUG:sierra_ils_utils.sierra_ils_utils:request count: 14\n",
            "DEBUG:sierra_ils_utils.sierra_ils_utils:GET https://classic.cincinnatilibrary.org/iii/sierra-api/v6/bibs/1886313 200 ✅\n"
          ]
        }
      ],
      "source": [
        "if response.data.total and response.data.total > 0:\n",
        "    for i, entry in enumerate(response.data.entries, start=1):\n",
        "        print(i, entry.link)\n",
        "        bib_response = sierra_api.get(\n",
        "            'bibs/{id}',\n",
        "            # params={\n",
        "            #     'fields': 'default'\n",
        "            # },\n",
        "            path_params={\n",
        "                'id': entry.link.split('/')[-1]  # just need the id or record num portion\n",
        "            }\n",
        "        )\n",
        "\n",
        "        # print(bib_response.data.title)"
      ]
    }
  ],
  "metadata": {
    "colab": {
      "provenance": []
    },
    "kernelspec": {
      "display_name": "Python 3",
      "name": "python3"
    },
    "language_info": {
      "codemirror_mode": {
        "name": "ipython",
        "version": 3
      },
      "file_extension": ".py",
      "mimetype": "text/x-python",
      "name": "python",
      "nbconvert_exporter": "python",
      "pygments_lexer": "ipython3",
      "version": "3.10.13"
    }
  },
  "nbformat": 4,
  "nbformat_minor": 0
}
