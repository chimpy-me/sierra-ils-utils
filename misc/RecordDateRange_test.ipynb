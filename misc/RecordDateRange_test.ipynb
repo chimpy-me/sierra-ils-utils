{
 "cells": [
  {
   "cell_type": "code",
   "execution_count": 1,
   "metadata": {},
   "outputs": [],
   "source": [
    "import json\n",
    "import logging\n",
    "from sierra_ils_utils import SierraRESTAPI, RecordDateRange\n",
    "\n",
    "# Configure the root logger\n",
    "logging.basicConfig(level=logging.DEBUG)\n",
    "\n",
    "# Load configuration\n",
    "with open('./.config.json') as f:\n",
    "    config = json.load(f)\n",
    "\n",
    "# Create and configure the logger for the current module\n",
    "logger = logging.getLogger(__name__)\n",
    "logger.setLevel(logging.DEBUG)\n",
    "\n",
    "# Optionally, set the logging level for the sierra_ils_utils module\n",
    "logging.getLogger('sierra_ils_utils').setLevel(logging.DEBUG)\n",
    "\n",
    "# Initialize SierraRESTAPI with DEBUG logging level\n",
    "sierra_api = SierraRESTAPI(\n",
    "    sierra_api_base_url=config.get('sierra_api_base_url'),\n",
    "    sierra_api_key=config.get('sierra_api_key'),\n",
    "    sierra_api_secret=config.get('sierra_api_secret'),\n",
    "    log_level=logging.DEBUG\n",
    ")\n"
   ]
  },
  {
   "cell_type": "code",
   "execution_count": 4,
   "metadata": {},
   "outputs": [],
   "source": [
    "update_date = RecordDateRange(start_date=-1) "
   ]
  },
  {
   "cell_type": "code",
   "execution_count": 5,
   "metadata": {},
   "outputs": [
    {
     "data": {
      "text/plain": [
       "'[1969-12-31T18:59:59Z,]'"
      ]
     },
     "execution_count": 5,
     "metadata": {},
     "output_type": "execute_result"
    }
   ],
   "source": [
    "str(update_date)"
   ]
  },
  {
   "cell_type": "code",
   "execution_count": 6,
   "metadata": {},
   "outputs": [
    {
     "name": "stdout",
     "output_type": "stream",
     "text": [
      "2021-12-21\n",
      "start_date and end_date must be datetime objects\n"
     ]
    }
   ],
   "source": [
    "update_date = RecordDateRange(exact_date='2021-12-21')\n",
    "print(str(update_date))\n",
    "\n",
    "try:\n",
    "    update_date.advance_range('minutes=5')\n",
    "except TypeError as e:\n",
    "    print(e)  # this should fail\n",
    "    error = e"
   ]
  },
  {
   "cell_type": "code",
   "execution_count": 7,
   "metadata": {},
   "outputs": [
    {
     "ename": "NameError",
     "evalue": "name 'e' is not defined",
     "output_type": "error",
     "traceback": [
      "\u001b[0;31m---------------------------------------------------------------------------\u001b[0m",
      "\u001b[0;31mNameError\u001b[0m                                 Traceback (most recent call last)",
      "\u001b[1;32m/home/ray/Documents/sierra-ils-utils/misc/RecordDateRange_test.ipynb Cell 5\u001b[0m line \u001b[0;36m1\n\u001b[0;32m----> <a href='vscode-notebook-cell:/home/ray/Documents/sierra-ils-utils/misc/RecordDateRange_test.ipynb#X26sZmlsZQ%3D%3D?line=0'>1</a>\u001b[0m e\n",
      "\u001b[0;31mNameError\u001b[0m: name 'e' is not defined"
     ]
    }
   ],
   "source": [
    "e"
   ]
  },
  {
   "cell_type": "code",
   "execution_count": 3,
   "metadata": {},
   "outputs": [
    {
     "name": "stdout",
     "output_type": "stream",
     "text": [
      "[2021-12-21T00:00:00Z,2021-12-22T00:00:00Z]\n",
      "[2021-12-22T00:00:01Z,2021-12-22T00:05:00Z]\n",
      "[2021-12-22T00:05:01Z,2021-12-22T00:10:00Z]\n"
     ]
    }
   ],
   "source": [
    "update_date = RecordDateRange(\n",
    "    start_date='2021-12-21T00:00:00',\n",
    "    end_date='2021-12-22T00:00:00'\n",
    ")\n",
    "print(str(update_date))\n",
    "\n",
    "try:\n",
    "    update_date.advance_range('minutes=5')  # advance the interval by 5 minutes\n",
    "    print(str(update_date))\n",
    "except TypeError as e:\n",
    "    print(e)  # this should NOT fail\n",
    "\n",
    "try:\n",
    "    update_date.advance_range('minutes=5')  # advance the interval by 5 minutes\n",
    "    print(str(update_date))\n",
    "except TypeError as e:\n",
    "    print(e)  # this should NOT fail\n"
   ]
  },
  {
   "cell_type": "code",
   "execution_count": 3,
   "metadata": {},
   "outputs": [
    {
     "name": "stdout",
     "output_type": "stream",
     "text": [
      "2021-12-21T00:00:00Z\n"
     ]
    }
   ],
   "source": [
    "\"\"\"\n",
    "Range syntax applies to dates and record IDs.\n",
    "\n",
    "Range syntax has the form:\n",
    "\n",
    "[<startValue>,<endValue>]\n",
    "\n",
    "The start and end values are inclusive.\n",
    "\n",
    "You can specify ranges in the following ways:\n",
    "\n",
    "Exactly (a search parameter)\n",
    "\n",
    "updatedDate=2013-12-10T17:16:35Z\n",
    "\n",
    "id=1000004\n",
    "\n",
    "From <startValue> to <endValue> (inclusive)\n",
    "\n",
    "updatedDate=[2013-12-10T17:16:35Z,2013-12-13T21:34:35Z]\n",
    "\n",
    "id=[1000004,1000054]\n",
    "\n",
    "<startValue> and after (inclusive)\n",
    "\n",
    "updatedDate=[2013-12-10T17:16:35Z,]\n",
    "\n",
    "id=[1000004,]\n",
    "\n",
    "Up to and including <endValue>\n",
    "\n",
    "updatedDate=[,2013-12-13T21:34:35Z]\n",
    "\n",
    "id=[,1000054]\n",
    "\n",
    "Dates must match the date format of the property to be retrieved. In most cases, the format is ISO 8601 combined date and time in UTC with Z (zero) offset. Some date properties, such as catalogDate and deletedDate, are date only, with no time. Refer to the bib object and item object descriptions and examples for more information.\n",
    "\"\"\"\n"
   ]
  },
  {
   "cell_type": "code",
   "execution_count": 3,
   "metadata": {},
   "outputs": [
    {
     "name": "stdout",
     "output_type": "stream",
     "text": [
      "[,]\n"
     ]
    }
   ],
   "source": [
    "update_date = RecordDateRange(exact_date='2021-12-21')\n",
    "print(str(update_date))"
   ]
  },
  {
   "cell_type": "code",
   "execution_count": 2,
   "metadata": {},
   "outputs": [],
   "source": [
    "from datetime import datetime, timedelta\n",
    "\n",
    "start_date = (\n",
    "    datetime.now() - timedelta(hours=1)  # get the current timestamp and subtract an hour\n",
    ").isoformat()                            # format as iso"
   ]
  },
  {
   "cell_type": "code",
   "execution_count": 3,
   "metadata": {},
   "outputs": [
    {
     "data": {
      "text/plain": [
       "'2023-11-27T13:31:20.907282'"
      ]
     },
     "execution_count": 3,
     "metadata": {},
     "output_type": "execute_result"
    }
   ],
   "source": [
    "start_date"
   ]
  },
  {
   "cell_type": "code",
   "execution_count": 6,
   "metadata": {},
   "outputs": [
    {
     "name": "stderr",
     "output_type": "stream",
     "text": [
      "INFO:sierra_ils_utils.sierra_ils_utils:GET {\"endpoint\": \"https://classic.cincinnatilibrary.org/iii/sierra-api/v6/bibs/\", \"params\": \"{'updatedDate': '[2023-11-27T13:33:26.624254Z,2023-11-27T14:33:26.624334Z]', 'limit': 2000}\"}\n",
      "DEBUG:urllib3.connectionpool:Resetting dropped connection: classic.cincinnatilibrary.org\n",
      "DEBUG:urllib3.connectionpool:https://classic.cincinnatilibrary.org:443 \"GET /iii/sierra-api/v6/bibs/?updatedDate=%5B2023-11-27T13%3A33%3A26.624254Z%2C2023-11-27T14%3A33%3A26.624334Z%5D&limit=2000 HTTP/1.1\" 200 None\n",
      "INFO:sierra_ils_utils.sierra_ils_utils:GET https://classic.cincinnatilibrary.org/iii/sierra-api/v6/bibs/?updatedDate=%5B2023-11-27T13%3A33%3A26.624254Z%2C2023-11-27T14%3A33%3A26.624334Z%5D&limit=2000 200 ✅\n"
     ]
    }
   ],
   "source": [
    "from datetime import datetime, timedelta\n",
    "\n",
    "start_date = (\n",
    "    datetime.now() - timedelta(hours=1)  # get the current timestamp and subtract an hour\n",
    ").isoformat()                            # format as iso\n",
    "\n",
    "end_date=datetime.now().isoformat()\n",
    "\n",
    "update_date_range = RecordDateRange(\n",
    "    start_date=start_date,\n",
    "    end_date=datetime.now().isoformat()\n",
    "    # start_date='2023-11-27T00:00:00', \n",
    "    # end_date='2023-11-28T00:00:00'\n",
    ")\n",
    "\n",
    "params = {\n",
    "    'updatedDate': str(update_date_range),  # the param needs to be formatted as a string\n",
    "    'limit': 2000,\n",
    "}\n",
    "\n",
    "results = sierra_api.get(\n",
    "    'bibs/',\n",
    "    params=params\n",
    ")"
   ]
  },
  {
   "cell_type": "code",
   "execution_count": 10,
   "metadata": {},
   "outputs": [
    {
     "data": {
      "text/plain": [
       "1188"
      ]
     },
     "execution_count": 10,
     "metadata": {},
     "output_type": "execute_result"
    }
   ],
   "source": [
    "results.data.total"
   ]
  },
  {
   "cell_type": "code",
   "execution_count": 3,
   "metadata": {},
   "outputs": [
    {
     "name": "stdout",
     "output_type": "stream",
     "text": [
      "Initial Range (String): [2023-11-01T00:00:00Z,2023-11-01T01:00:00Z]\n",
      "Advanced Range (String): [2023-11-01T01:00:01Z,2023-11-01T01:05:00Z]\n",
      "Advanced Range (String): [2023-11-01T01:05:01Z,2023-11-01T01:10:00Z]\n"
     ]
    }
   ],
   "source": [
    "date_range = RecordDateRange(\n",
    "    start_date='2023-11-01T00:00:00',\n",
    "    end_date='2023-11-01T01:00:00'\n",
    ")\n",
    "print(\"Initial Range (String):\", date_range)\n",
    "\n",
    "# Advance the range by 5 minutes\n",
    "date_range.advance_range('minutes=5')\n",
    "print(\"Advanced Range (String):\", date_range)\n",
    "\n",
    "# Advance the range by 5 minutes\n",
    "date_range.advance_range('minutes=5')\n",
    "print(\"Advanced Range (String):\", date_range)"
   ]
  },
  {
   "cell_type": "code",
   "execution_count": 7,
   "metadata": {},
   "outputs": [
    {
     "name": "stdout",
     "output_type": "stream",
     "text": [
      "Advanced Range (String): [2023-11-01T01:05:01Z,2023-11-01T01:10:00Z]\n"
     ]
    }
   ],
   "source": [
    "# Advance the range by 5 minutes\n",
    "date_range.advance_range('minutes=5')\n",
    "print(\"Advanced Range (String):\", date_range)"
   ]
  },
  {
   "cell_type": "code",
   "execution_count": 9,
   "metadata": {},
   "outputs": [
    {
     "name": "stdout",
     "output_type": "stream",
     "text": [
      "Advanced Range (String): [2023-11-01T01:10:01Z,2023-11-01T01:15:00Z]\n"
     ]
    }
   ],
   "source": [
    "# should advance the range by another 5 minutes\n",
    "date_range.advance_range('minutes=5')\n",
    "print(\"Advanced Range (String):\", date_range)"
   ]
  },
  {
   "cell_type": "code",
   "execution_count": 14,
   "metadata": {},
   "outputs": [
    {
     "name": "stdout",
     "output_type": "stream",
     "text": [
      "[2023-11-01T00:00:00Z,2023-11-02T00:00:00Z]\n"
     ]
    }
   ],
   "source": [
    "date_range_string = RecordDateRange(\n",
    "    start_date='2023-11-01',\n",
    "    end_date='2023-11-02'\n",
    ")\n",
    "\n",
    "print(date_range_string)"
   ]
  },
  {
   "cell_type": "code",
   "execution_count": 27,
   "metadata": {},
   "outputs": [
    {
     "name": "stdout",
     "output_type": "stream",
     "text": [
      "[2023-11-01T00:00:00Z,2023-11-02T00:00:00Z]\n"
     ]
    }
   ],
   "source": [
    "date_range = RecordDateRange(\n",
    "    start_date='2023-11-01',\n",
    "    end_date='2023-11-02'\n",
    ")\n",
    "\n",
    "# print(date_range_string)\n",
    "print(date_range)"
   ]
  },
  {
   "cell_type": "code",
   "execution_count": 30,
   "metadata": {},
   "outputs": [],
   "source": [
    "date_range.advance_range('minutes=5')"
   ]
  },
  {
   "cell_type": "code",
   "execution_count": 31,
   "metadata": {},
   "outputs": [
    {
     "name": "stdout",
     "output_type": "stream",
     "text": [
      "[2023-11-01T00:10:00Z,2023-11-02T00:10:00Z]\n"
     ]
    }
   ],
   "source": [
    "print(date_range)"
   ]
  },
  {
   "cell_type": "code",
   "execution_count": 25,
   "metadata": {},
   "outputs": [
    {
     "name": "stdout",
     "output_type": "stream",
     "text": [
      "2023-11-01T00:00:00Z\n"
     ]
    }
   ],
   "source": [
    "print(update)\n",
    "\n",
    "update.advance_range('minutes=5')"
   ]
  }
 ],
 "metadata": {
  "kernelspec": {
   "display_name": "venv",
   "language": "python",
   "name": "python3"
  },
  "language_info": {
   "codemirror_mode": {
    "name": "ipython",
    "version": 3
   },
   "file_extension": ".py",
   "mimetype": "text/x-python",
   "name": "python",
   "nbconvert_exporter": "python",
   "pygments_lexer": "ipython3",
   "version": "3.10.13"
  }
 },
 "nbformat": 4,
 "nbformat_minor": 2
}
