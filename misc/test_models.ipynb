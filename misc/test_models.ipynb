{
 "cells": [
  {
   "cell_type": "code",
   "execution_count": 1,
   "metadata": {},
   "outputs": [
    {
     "name": "stdout",
     "output_type": "stream",
     "text": [
      "Data is valid!\n",
      "patronId=None keyId='1ebmZG6N2Qw7SklwUBQkxIeTr1pW' grantType='client_credentials' authorizationScheme='Bearer' expiresIn=3599 roles=[TokenInfoRole(name='Invoices_Write', tokenLifetime=3600, permissions=['Invoices_Create', 'Invoices_Post', 'Invoices_Update']), TokenInfoRole(name='Fines_Read', tokenLifetime=3600, permissions=['Fines_List']), TokenInfoRole(name='Vendors_Read', tokenLifetime=3600, permissions=['Vendors_List']), TokenInfoRole(name='Patrons_Read', tokenLifetime=3600, permissions=['Patrons_Checkouts_History_List', 'Patrons_Checkouts_List', 'Patrons_Checkouts_Read', 'Patrons_Filter', 'Patrons_Find', 'Patrons_Fines_List', 'Patrons_Fines_Read', 'Patrons_Hold_Form_Read', 'Patrons_Hold_List', 'Patrons_Hold_Read', 'Patrons_List', 'Patrons_Metadata_Read', 'Patrons_Read']), TokenInfoRole(name='Invoices_Read', tokenLifetime=3600, permissions=['Invoices_List', 'Invoices_Metadata_Read', 'Invoices_Read']), TokenInfoRole(name='Holds_Read', tokenLifetime=3600, permissions=['Holds_List']), TokenInfoRole(name='Courses_Read', tokenLifetime=3600, permissions=['Courses_List']), TokenInfoRole(name='Acquisitions_Write', tokenLifetime=3600, permissions=['Acquisitions_Orders_Create']), TokenInfoRole(name='Branches_Read', tokenLifetime=3600, permissions=['Branches_List', 'Branches_PickupLocations_List', 'Branches_Read']), TokenInfoRole(name='Title_Pages_Read', tokenLifetime=3600, permissions=['Title_Pages_List']), TokenInfoRole(name='Holdings_Write', tokenLifetime=3600, permissions=['Holdings_Delete_Marc']), TokenInfoRole(name='Patrons_Write', tokenLifetime=3600, permissions=['Patrons_Checkouts_Create', 'Patrons_Checkouts_Delete', 'Patrons_Checkouts_History_Configure', 'Patrons_Checkouts_History_Delete', 'Patrons_Checkouts_Renew', 'Patrons_Create', 'Patrons_Delete', 'Patrons_Fines_Add', 'Patrons_Fines_Pay', 'Patrons_Hold_Delete', 'Patrons_Hold_Request_Create', 'Patrons_Hold_Update', 'Patrons_Update', 'Patrons_Validate', 'Patrons_Verify_Pin']), TokenInfoRole(name='Orders_Read', tokenLifetime=3600, permissions=['Orders_Filter', 'Orders_Funds_Read', 'Orders_List', 'Orders_Read']), TokenInfoRole(name='Currencies_Read', tokenLifetime=3600, permissions=['Currencies_List']), TokenInfoRole(name='Info_Holds_Config', tokenLifetime=3600, permissions=['Info_Holds_Config_Read']), TokenInfoRole(name='Bibs_Read', tokenLifetime=3600, permissions=['Bibs_Filter', 'Bibs_List', 'Bibs_Metadata_Read', 'Bibs_Read', 'Bibs_Read_Marc', 'Bibs_Search']), TokenInfoRole(name='Funds_Read', tokenLifetime=3600, permissions=['Funds_List']), TokenInfoRole(name='Holdings_Read', tokenLifetime=3600, permissions=['Holdings_List', 'Holdings_Read_Marc']), TokenInfoRole(name='Authorities_Read', tokenLifetime=3600, permissions=['Authorities_Filter', 'Authorities_List', 'Authorities_Read', 'Authorities_Read_Marc']), TokenInfoRole(name='Agencies_Read', tokenLifetime=3600, permissions=['Agencies_List']), TokenInfoRole(name='Bibs_Write', tokenLifetime=3600, permissions=['Bibs_Create', 'Bibs_Delete', 'Bibs_Delete_Marc', 'Bibs_Update']), TokenInfoRole(name='Items_Write', tokenLifetime=3600, permissions=['Items_Create', 'Items_Delete', 'Items_Update']), TokenInfoRole(name='Item_Scans_Read', tokenLifetime=3600, permissions=['Item_Scans_List']), TokenInfoRole(name='Patrons_Holds_CRUD', tokenLifetime=3600, permissions=['Patrons_Hold_Delete', 'Patrons_Hold_Form_Read', 'Patrons_Hold_List', 'Patrons_Hold_Read', 'Patrons_Hold_Request_Create', 'Patrons_Hold_Update']), TokenInfoRole(name='Patrons_Validate', tokenLifetime=3600, permissions=['Patrons_Validate', 'Patrons_Verify_Pin']), TokenInfoRole(name='Volumes_Read', tokenLifetime=3600, permissions=['Volumes_List', 'Volumes_Read']), TokenInfoRole(name='Users_Write', tokenLifetime=3600, permissions=['Users_Validate']), TokenInfoRole(name='Items_Read', tokenLifetime=3600, permissions=['Items_Checkouts_List', 'Items_Checkouts_Read', 'Items_Filter', 'Items_List', 'Items_Read'])]\n"
     ]
    }
   ],
   "source": [
    "import json\n",
    "import logging\n",
    "from sierra_ils_utils import SierraRESTAPI\n",
    "from pydantic import ValidationError\n",
    "\n",
    "logger = logging.getLogger('__name__')\n",
    "\n",
    "with open('.config.json') as f:\n",
    "    config = json.load(f)\n",
    "\n",
    "sierra_api = SierraRESTAPI(\n",
    "    sierra_api_base_url=config['sierra_api_base_url'],\n",
    "    sierra_api_key=config['sierra_api_key'],\n",
    "    sierra_api_secret=config['sierra_api_secret'],\n",
    "    # endpoints=endpoints\n",
    ")\n",
    "\n",
    "response = sierra_api.get(endpoint='info/token')\n",
    "\n",
    "try:\n",
    "    # Validate data using Pydantic model\n",
    "    token_info = sierra_api.endpoints['GET']['info/token']['response_model'](**response.json())\n",
    "    print(\"Data is valid!\")\n",
    "    print(token_info)\n",
    "    \n",
    "except ValidationError as e:\n",
    "    print(\"Validation error:\", e)"
   ]
  },
  {
   "cell_type": "code",
   "execution_count": 4,
   "metadata": {},
   "outputs": [
    {
     "ename": "ValidationError",
     "evalue": "2 validation errors for DateRange\nstart\n  Input should be a valid string [type=string_type, input_value=datetime.datetime(2023, 10, 1, 0, 0), input_type=datetime]\n    For further information visit https://errors.pydantic.dev/2.4/v/string_type\nend\n  Input should be a valid string [type=string_type, input_value=datetime.datetime(2023, 10, 10, 0, 0), input_type=datetime]\n    For further information visit https://errors.pydantic.dev/2.4/v/string_type",
     "output_type": "error",
     "traceback": [
      "\u001b[0;31m---------------------------------------------------------------------------\u001b[0m",
      "\u001b[0;31mValidationError\u001b[0m                           Traceback (most recent call last)",
      "\u001b[1;32m/home/ray/Documents/sierra-ils-utils/misc/test_models.ipynb Cell 2\u001b[0m line \u001b[0;36m1\n\u001b[1;32m      <a href='vscode-notebook-cell:/home/ray/Documents/sierra-ils-utils/misc/test_models.ipynb#X16sZmlsZQ%3D%3D?line=0'>1</a>\u001b[0m \u001b[39m# Testing the models for date without time portion\u001b[39;00m\n\u001b[1;32m      <a href='vscode-notebook-cell:/home/ray/Documents/sierra-ils-utils/misc/test_models.ipynb#X16sZmlsZQ%3D%3D?line=1'>2</a>\u001b[0m \u001b[39m# date_only_range = DateRange(start=\"2023-10-01\", end=\"2023-10-10\")\u001b[39;00m\n\u001b[1;32m      <a href='vscode-notebook-cell:/home/ray/Documents/sierra-ils-utils/misc/test_models.ipynb#X16sZmlsZQ%3D%3D?line=2'>3</a>\u001b[0m \u001b[39m# exact_date_only_range = DateRange(start=\"2023-10-01\", end=\"2023-10-01\")\u001b[39;00m\n\u001b[0;32m   (...)\u001b[0m\n\u001b[1;32m     <a href='vscode-notebook-cell:/home/ray/Documents/sierra-ils-utils/misc/test_models.ipynb#X16sZmlsZQ%3D%3D?line=9'>10</a>\u001b[0m \n\u001b[1;32m     <a href='vscode-notebook-cell:/home/ray/Documents/sierra-ils-utils/misc/test_models.ipynb#X16sZmlsZQ%3D%3D?line=10'>11</a>\u001b[0m \u001b[39m# exact_id_range.format_for_api(), id_range_2.format_for_api()\u001b[39;00m\n\u001b[1;32m     <a href='vscode-notebook-cell:/home/ray/Documents/sierra-ils-utils/misc/test_models.ipynb#X16sZmlsZQ%3D%3D?line=11'>12</a>\u001b[0m \u001b[39mfrom\u001b[39;00m \u001b[39msierra_ils_utils\u001b[39;00m\u001b[39m.\u001b[39;00m\u001b[39msierra_api_v6_endpoints\u001b[39;00m \u001b[39mimport\u001b[39;00m \u001b[39m*\u001b[39m\n\u001b[0;32m---> <a href='vscode-notebook-cell:/home/ray/Documents/sierra-ils-utils/misc/test_models.ipynb#X16sZmlsZQ%3D%3D?line=13'>14</a>\u001b[0m date_only_range \u001b[39m=\u001b[39m DateRange(start\u001b[39m=\u001b[39;49m\u001b[39m\"\u001b[39;49m\u001b[39m2023-10-01\u001b[39;49m\u001b[39m\"\u001b[39;49m, end\u001b[39m=\u001b[39;49m\u001b[39m\"\u001b[39;49m\u001b[39m2023-10-10\u001b[39;49m\u001b[39m\"\u001b[39;49m)\n\u001b[1;32m     <a href='vscode-notebook-cell:/home/ray/Documents/sierra-ils-utils/misc/test_models.ipynb#X16sZmlsZQ%3D%3D?line=14'>15</a>\u001b[0m exact_date_only_range \u001b[39m=\u001b[39m DateRange(start\u001b[39m=\u001b[39m\u001b[39m\"\u001b[39m\u001b[39m2023-10-01\u001b[39m\u001b[39m\"\u001b[39m, end\u001b[39m=\u001b[39m\u001b[39m\"\u001b[39m\u001b[39m2023-10-01\u001b[39m\u001b[39m\"\u001b[39m)\n",
      "File \u001b[0;32m~/Documents/sierra-ils-utils/venv/lib/python3.10/site-packages/pydantic/main.py:164\u001b[0m, in \u001b[0;36mBaseModel.__init__\u001b[0;34m(__pydantic_self__, **data)\u001b[0m\n\u001b[1;32m    162\u001b[0m \u001b[39m# `__tracebackhide__` tells pytest and some other tools to omit this function from tracebacks\u001b[39;00m\n\u001b[1;32m    163\u001b[0m __tracebackhide__ \u001b[39m=\u001b[39m \u001b[39mTrue\u001b[39;00m\n\u001b[0;32m--> 164\u001b[0m __pydantic_self__\u001b[39m.\u001b[39;49m__pydantic_validator__\u001b[39m.\u001b[39;49mvalidate_python(data, self_instance\u001b[39m=\u001b[39;49m__pydantic_self__)\n",
      "\u001b[0;31mValidationError\u001b[0m: 2 validation errors for DateRange\nstart\n  Input should be a valid string [type=string_type, input_value=datetime.datetime(2023, 10, 1, 0, 0), input_type=datetime]\n    For further information visit https://errors.pydantic.dev/2.4/v/string_type\nend\n  Input should be a valid string [type=string_type, input_value=datetime.datetime(2023, 10, 10, 0, 0), input_type=datetime]\n    For further information visit https://errors.pydantic.dev/2.4/v/string_type"
     ]
    }
   ],
   "source": [
    "# Testing the models for date without time portion\n",
    "# date_only_range = DateRange(start=\"2023-10-01\", end=\"2023-10-10\")\n",
    "# exact_date_only_range = DateRange(start=\"2023-10-01\", end=\"2023-10-01\")\n",
    "\n",
    "# date_only_range.format_for_api(), exact_date_only_range.format_for_api()\n",
    "\n",
    "# Testing the models for exact ID and range\n",
    "# exact_id_range = IdRange(start=1000004, end=1000004)\n",
    "# id_range_2 = IdRange(start=1000004)\n",
    "\n",
    "# exact_id_range.format_for_api(), id_range_2.format_for_api()\n",
    "from sierra_ils_utils.sierra_api_v6_endpoints import *\n",
    "\n",
    "# date_only_range = DateRange(start=\"2023-10-01\", end=\"2023-10-10\")\n",
    "exact_date_only_range = DateRange(start=\"2023-10-01\", end=\"2023-10-01\")"
   ]
  },
  {
   "cell_type": "code",
   "execution_count": 16,
   "metadata": {},
   "outputs": [
    {
     "name": "stdout",
     "output_type": "stream",
     "text": [
      "True\n"
     ]
    }
   ],
   "source": [
    "if 'info/token' in [path for path, value in sierra_api.endpoints['GET'].items()]:\n",
    "    # print(item, value)\n",
    "    print(True)"
   ]
  },
  {
   "cell_type": "code",
   "execution_count": 14,
   "metadata": {},
   "outputs": [
    {
     "data": {
      "text/plain": [
       "'info/token'"
      ]
     },
     "execution_count": 14,
     "metadata": {},
     "output_type": "execute_result"
    }
   ],
   "source": [
    "item"
   ]
  }
 ],
 "metadata": {
  "kernelspec": {
   "display_name": "venv",
   "language": "python",
   "name": "python3"
  },
  "language_info": {
   "codemirror_mode": {
    "name": "ipython",
    "version": 3
   },
   "file_extension": ".py",
   "mimetype": "text/x-python",
   "name": "python",
   "nbconvert_exporter": "python",
   "pygments_lexer": "ipython3",
   "version": "3.10.13"
  },
  "orig_nbformat": 4
 },
 "nbformat": 4,
 "nbformat_minor": 2
}
