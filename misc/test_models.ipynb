{
 "cells": [
  {
   "cell_type": "code",
   "execution_count": 2,
   "metadata": {},
   "outputs": [],
   "source": [
    "from sierra_ils_utils import SierraRESTAPI\n",
    "# from sierra_ils_utils.sierra_api_v6_endpoints import endpoints\n",
    "import json\n",
    "import logging\n",
    "\n",
    "logger = logging.getLogger('__name__')\n",
    "\n",
    "with open('.config.json') as f:\n",
    "    config = json.load(f)\n",
    "\n",
    "sierra_api = SierraRESTAPI(\n",
    "    sierra_api_base_url=config['sierra_api_base_url'],\n",
    "    sierra_api_key=config['sierra_api_key'],\n",
    "    sierra_api_secret=config['sierra_api_secret'],\n",
    "    # endpoints=endpoints\n",
    ")\n",
    "\n",
    "# response = sierra_api.get(endpoint='info/token')\n",
    "# response.text"
   ]
  },
  {
   "cell_type": "code",
   "execution_count": 3,
   "metadata": {},
   "outputs": [
    {
     "name": "stdout",
     "output_type": "stream",
     "text": [
      "GET\n",
      "bibs/: {'responses': {200: <class 'sierra_ils_utils.sierra_api_v6_endpoints.BibResultSet'>, 400: <class 'sierra_ils_utils.sierra_api_v6_endpoints.ErrorCode'>, 404: <class 'sierra_ils_utils.sierra_api_v6_endpoints.ErrorCode'>}, 'model': <class 'sierra_ils_utils.sierra_api_v6_endpoints.BibResultSet'>}\n",
      "info/token: {'responses': {200: <class 'sierra_ils_utils.sierra_api_v6_endpoints.TokenInfo'>}, 'model': <class 'sierra_ils_utils.sierra_api_v6_endpoints.TokenInfo'>}\n",
      "DELETE\n",
      "bibs/: {'responses': {200: None, 204: None, 400: <class 'sierra_ils_utils.sierra_api_v6_endpoints.ErrorCode'>, 404: <class 'sierra_ils_utils.sierra_api_v6_endpoints.ErrorCode'>}, 'model': <class 'sierra_ils_utils.sierra_api_v6_endpoints.ErrorCode'>}\n"
     ]
    }
   ],
   "source": [
    "for verb, paths in sierra_api.endpoints.items():\n",
    "    print(verb)\n",
    "    for path, data in paths.items():\n",
    "        print(f\"{path}: {data}\")"
   ]
  },
  {
   "cell_type": "code",
   "execution_count": 6,
   "metadata": {},
   "outputs": [],
   "source": [
    "model = sierra_api.endpoints['GET']['bibs/']['model']"
   ]
  },
  {
   "cell_type": "code",
   "execution_count": 13,
   "metadata": {},
   "outputs": [
    {
     "data": {
      "text/plain": [
       "{'total': FieldInfo(annotation=Union[int, NoneType], required=True),\n",
       " 'start': FieldInfo(annotation=Union[int, NoneType], required=True),\n",
       " 'entries': FieldInfo(annotation=List[Bib], required=True)}"
      ]
     },
     "execution_count": 13,
     "metadata": {},
     "output_type": "execute_result"
    }
   ],
   "source": [
    "model.model_fields"
   ]
  }
 ],
 "metadata": {
  "kernelspec": {
   "display_name": "venv",
   "language": "python",
   "name": "python3"
  },
  "language_info": {
   "codemirror_mode": {
    "name": "ipython",
    "version": 3
   },
   "file_extension": ".py",
   "mimetype": "text/x-python",
   "name": "python",
   "nbconvert_exporter": "python",
   "pygments_lexer": "ipython3",
   "version": "3.10.13"
  },
  "orig_nbformat": 4
 },
 "nbformat": 4,
 "nbformat_minor": 2
}
