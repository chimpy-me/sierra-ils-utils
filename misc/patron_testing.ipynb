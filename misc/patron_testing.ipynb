{
 "cells": [
  {
   "cell_type": "code",
   "execution_count": 1,
   "metadata": {},
   "outputs": [],
   "source": [
    "from sierra_ils_utils import Models\n",
    "import json\n",
    "\n",
    "import logging\n",
    "logging.basicConfig(level=logging.DEBUG)\n",
    "logger = logging.getLogger(__name__)\n",
    "\n",
    "patrons = Models.PatronResultSet"
   ]
  },
  {
   "cell_type": "code",
   "execution_count": 2,
   "metadata": {},
   "outputs": [],
   "source": []
  },
  {
   "cell_type": "code",
   "execution_count": 3,
   "metadata": {},
   "outputs": [],
   "source": [
    "with open('../tests/patrons-1.json') as f:\n",
    "    data = json.load(f)"
   ]
  },
  {
   "cell_type": "code",
   "execution_count": 4,
   "metadata": {},
   "outputs": [
    {
     "data": {
      "text/plain": [
       "PatronResultSet(total=5, start=200000, entries=[Patron(id='1200001', updatedDate=None, createdDate=None, deletedDate='2022-12-29', deleted=True, suppressed=None, names=None, barcodes=[], expirationDate=None, birthDate=None, emails=None, patronType=None, patronCodes=None, homeLibraryCode=None, homeLibrary=None, message=None, blockInfo=None, autoBlockInfo=Block(code='-', until=None), addresses=None, phones=None, uniqueIds=None, moneyOwed=None, pMessage=None, langPref=None, fixedFields={}, varFields=[]), Patron(id='1200002', updatedDate=None, createdDate=None, deletedDate='2022-12-21', deleted=True, suppressed=None, names=None, barcodes=[], expirationDate=None, birthDate=None, emails=None, patronType=None, patronCodes=None, homeLibraryCode=None, homeLibrary=None, message=None, blockInfo=None, autoBlockInfo=Block(code='-', until=None), addresses=None, phones=None, uniqueIds=None, moneyOwed=None, pMessage=None, langPref=None, fixedFields={}, varFields=[]), Patron(id='1200003', updatedDate='2021-12-02T01:04:50Z', createdDate='2012-07-19T03:33:47Z', deletedDate=None, deleted=False, suppressed=False, names=['Lastname, Firstname M'], barcodes=['12345678'], expirationDate='2024-09-25', birthDate='1966-01-01', emails=['name@email.com'], patronType=0, patronCodes=Codes(pcode1='y', pcode2='n', pcode3=1, pcode4=0), homeLibraryCode='ha', homeLibrary=Location(code='ha', name='Harrison'), message=Message(code='-', accountMessages=None), blockInfo=Block(code='c', until=None), autoBlockInfo=Block(code='blockedByFines', until=None), addresses=[Address(lines=['123 N Street St', 'Cincinnati, OH 45240'], type='a')], phones=[Phone(number='5135555555', type='t')], uniqueIds=None, moneyOwed=Decimal('10'), pMessage='-', langPref=None, fixedFields={'43': {'label': 'Expiration Date', 'value': '2024-09-25T08:00:00Z'}, '44': {'label': 'E-Lib Update? (P1)', 'value': 'y'}, '45': {'label': 'Friends? (P2)', 'value': 'n'}, '46': {'label': 'Foundation? (P3)', 'value': '1'}, '47': {'label': 'Patron Type', 'value': '0'}, '48': {'label': 'Total Checkouts', 'value': '5'}, '49': {'label': 'Total Renewals', 'value': '7'}, '50': {'label': 'Current Checkouts', 'value': '0'}, '51': {'label': 'Birth Date', 'value': '1966-01-01'}, '53': {'label': 'Home Library', 'value': 'ha   ', 'display': 'Harrison'}, '54': {'label': 'Patron Message', 'value': '-'}, '55': {'label': 'Highest Overdues', 'value': '4'}, '56': {'label': 'Manual Block', 'value': 'c'}, '80': {'label': 'Record Type', 'value': 'p'}, '81': {'label': 'Record Number', 'value': '1200003'}, '83': {'label': 'Created Date', 'value': '2012-07-19T03:33:47Z'}, '84': {'label': 'Updated Date', 'value': '2021-12-02T01:04:50Z'}, '85': {'label': 'No. of Revisions', 'value': '250'}, '86': {'label': 'Agency', 'value': '1', 'display': 'Main Library'}, '95': {'label': 'Claims Returned', 'value': '0'}, '96': {'label': 'Money Owed', 'value': '1000.000000'}, '98': {'label': 'PDATE', 'value': '2021-12-02T01:04:49Z'}, '99': {'label': 'FIRM', 'value': '     '}, '102': {'label': 'New Rel DVDs (A)', 'value': '0'}, '103': {'label': 'Mobile Hotspot (B)', 'value': '0'}, '104': {'label': 'PIUSE', 'value': '0'}, '105': {'label': 'Overdue Penalty', 'value': '0'}, '122': {'label': 'ILL Request', 'value': '0'}, '123': {'label': 'Debit Balance', 'value': '0.000000'}, '124': {'label': 'Blurays (C)', 'value': '0'}, '125': {'label': 'Lucky Day Coll (D)', 'value': '0'}, '126': {'label': 'County (P4)', 'value': '0'}, '158': {'label': 'Patron Agency', 'value': '18'}, '163': {'label': 'Last Circ Activity', 'value': '2019-09-25T11:58:37Z'}, '263': {'label': 'Preferred Language', 'value': '   '}, '268': {'label': 'Notice Preference', 'value': 'z'}, '269': {'label': 'Registrations on Record', 'value': '0'}, '270': {'label': 'Total Registrations', 'value': '0'}, '271': {'label': 'Total Programs Attended', 'value': '0'}, '297': {'label': 'Waitlists on Record', 'value': '0'}}, varFields=[VarField(fieldTag='=', marcTag=None, ind1=None, ind2=None, content='xxxxxxxxxxxxx', subfields=None), VarField(fieldTag='b', marcTag=None, ind1=None, ind2=None, content='12345678', subfields=None), VarField(fieldTag='d', marcTag=None, ind1=None, ind2=None, content='01011966', subfields=None), VarField(fieldTag='r', marcTag=None, ind1=None, ind2=None, content='20120710', subfields=None), VarField(fieldTag='x', marcTag=None, ind1=None, ind2=None, content='12/6/19 Bill notice e-mail sent.', subfields=None), VarField(fieldTag='z', marcTag=None, ind1=None, ind2=None, content='name@email.com', subfields=None), VarField(fieldTag='a', marcTag=None, ind1=None, ind2=None, content='224 N State St$Harrison, OH 45030', subfields=None), VarField(fieldTag='n', marcTag=None, ind1=None, ind2=None, content='Brownfield, Lisa M', subfields=None), VarField(fieldTag='t', marcTag=None, ind1=None, ind2=None, content='5133286934', subfields=None)]), Patron(id='1200004', updatedDate=None, createdDate=None, deletedDate='2022-12-24', deleted=True, suppressed=None, names=None, barcodes=[], expirationDate=None, birthDate=None, emails=None, patronType=None, patronCodes=None, homeLibraryCode=None, homeLibrary=None, message=None, blockInfo=None, autoBlockInfo=Block(code='-', until=None), addresses=None, phones=None, uniqueIds=None, moneyOwed=None, pMessage=None, langPref=None, fixedFields={}, varFields=[]), Patron(id='1200005', updatedDate='2022-04-08T07:55:56Z', createdDate='2012-07-19T03:33:47Z', deletedDate=None, deleted=False, suppressed=False, names=['Lastname1, Firstname1 M'], barcodes=['64082506'], expirationDate='2027-04-07', birthDate='1960-01-01', emails=None, patronType=0, patronCodes=Codes(pcode1='n', pcode2='n', pcode3=1, pcode4=0), homeLibraryCode='nr', homeLibrary=Location(code='nr', name='North Central'), message=Message(code='-', accountMessages=None), blockInfo=Block(code='-', until=None), autoBlockInfo=Block(code='-', until=None), addresses=[Address(lines=['123 S St Apt 5 ', 'Cincinnati, OH 45240'], type='a')], phones=[Phone(number='5135555555', type='t')], uniqueIds=['1234567'], moneyOwed=Decimal('1.2'), pMessage='-', langPref=None, fixedFields={'43': {'label': 'Expiration Date', 'value': '2027-04-07T08:00:00Z'}, '44': {'label': 'E-Lib Update? (P1)', 'value': 'n'}, '45': {'label': 'Friends? (P2)', 'value': 'n'}, '46': {'label': 'Foundation? (P3)', 'value': '1'}, '47': {'label': 'Patron Type', 'value': '0'}, '48': {'label': 'Total Checkouts', 'value': '227'}, '49': {'label': 'Total Renewals', 'value': '0'}, '50': {'label': 'Current Checkouts', 'value': '0'}, '51': {'label': 'Birth Date', 'value': '1960-01-05'}, '53': {'label': 'Home Library', 'value': 'nr   ', 'display': 'North Central'}, '54': {'label': 'Patron Message', 'value': '-'}, '55': {'label': 'Highest Overdues', 'value': '4'}, '56': {'label': 'Manual Block', 'value': '-'}, '80': {'label': 'Record Type', 'value': 'p'}, '81': {'label': 'Record Number', 'value': '1200005'}, '83': {'label': 'Created Date', 'value': '2012-07-19T03:33:47Z'}, '84': {'label': 'Updated Date', 'value': '2022-04-08T07:55:56Z'}, '85': {'label': 'No. of Revisions', 'value': '137'}, '86': {'label': 'Agency', 'value': '1', 'display': 'Main Library'}, '95': {'label': 'Claims Returned', 'value': '0'}, '96': {'label': 'Money Owed', 'value': '120.000000'}, '98': {'label': 'PDATE', 'value': '2022-04-07T22:11:35Z'}, '99': {'label': 'FIRM', 'value': '     '}, '102': {'label': 'New Rel DVDs (A)', 'value': '0'}, '103': {'label': 'Mobile Hotspot (B)', 'value': '0'}, '104': {'label': 'PIUSE', 'value': '0'}, '105': {'label': 'Overdue Penalty', 'value': '0'}, '122': {'label': 'ILL Request', 'value': '0'}, '123': {'label': 'Debit Balance', 'value': '0.000000'}, '124': {'label': 'Blurays (C)', 'value': '0'}, '125': {'label': 'Lucky Day Coll (D)', 'value': '0'}, '126': {'label': 'County (P4)', 'value': '0'}, '158': {'label': 'Patron Agency', 'value': '28'}, '163': {'label': 'Last Circ Activity', 'value': '2022-04-07T22:11:35Z'}, '263': {'label': 'Preferred Language', 'value': '   '}, '268': {'label': 'Notice Preference', 'value': 'p'}, '269': {'label': 'Registrations on Record', 'value': '0'}, '270': {'label': 'Total Registrations', 'value': '0'}, '271': {'label': 'Total Programs Attended', 'value': '0'}, '297': {'label': 'Waitlists on Record', 'value': '0'}}, varFields=[VarField(fieldTag='=', marcTag=None, ind1=None, ind2=None, content='xxxxxxxxxxxxx', subfields=None), VarField(fieldTag='b', marcTag=None, ind1=None, ind2=None, content='12345678', subfields=None), VarField(fieldTag='d', marcTag=None, ind1=None, ind2=None, content='01011960', subfields=None), VarField(fieldTag='r', marcTag=None, ind1=None, ind2=None, content='20060809', subfields=None), VarField(fieldTag='u', marcTag=None, ind1=None, ind2=None, content='1234567', subfields=None), VarField(fieldTag='x', marcTag=None, ind1=None, ind2=None, content='07/30/2013  Fines removed due to statute of limitations. BRW/NR', subfields=None), VarField(fieldTag='x', marcTag=None, ind1=None, ind2=None, content='10/034/06 Forgave video fines of $20.00 Patron said she tried to call but her phone was not working. I explained that this was a one time offer. Eileen/WYO', subfields=None), VarField(fieldTag='a', marcTag=None, ind1=None, ind2=None, content='123 S St Apt 5 $Cincinnati, OH 45240', subfields=None), VarField(fieldTag='n', marcTag=None, ind1=None, ind2=None, content='Lastname1, Firstname1 M', subfields=None), VarField(fieldTag='t', marcTag=None, ind1=None, ind2=None, content='5135555555', subfields=None)])])"
      ]
     },
     "execution_count": 4,
     "metadata": {},
     "output_type": "execute_result"
    }
   ],
   "source": [
    "patrons.validate(data)"
   ]
  },
  {
   "cell_type": "code",
   "execution_count": null,
   "metadata": {},
   "outputs": [],
   "source": []
  },
  {
   "cell_type": "code",
   "execution_count": 6,
   "metadata": {},
   "outputs": [
    {
     "data": {
      "text/plain": [
       "'nr'"
      ]
     },
     "execution_count": 6,
     "metadata": {},
     "output_type": "execute_result"
    }
   ],
   "source": [
    "data['entries'][4]['homeLibraryCode']"
   ]
  }
 ],
 "metadata": {
  "kernelspec": {
   "display_name": "venv",
   "language": "python",
   "name": "python3"
  },
  "language_info": {
   "codemirror_mode": {
    "name": "ipython",
    "version": 3
   },
   "file_extension": ".py",
   "mimetype": "text/x-python",
   "name": "python",
   "nbconvert_exporter": "python",
   "pygments_lexer": "ipython3",
   "version": "3.10.13"
  }
 },
 "nbformat": 4,
 "nbformat_minor": 2
}
