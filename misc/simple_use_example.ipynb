{
 "cells": [
  {
   "cell_type": "code",
   "execution_count": 2,
   "metadata": {},
   "outputs": [],
   "source": [
    "# !pip install -U sierra-ils-utils > /dev/null # from PyPi.org !!!\n",
    "\n",
    "from sierra_ils_utils import SierraRESTAPI\n",
    "import json\n",
    "import logging"
   ]
  },
  {
   "cell_type": "code",
   "execution_count": 5,
   "metadata": {},
   "outputs": [
    {
     "name": "stdout",
     "output_type": "stream",
     "text": [
      "+------------------+\n",
      "| base_url         : https://sierra-test.cincy.pl/iii/sierra-api/v6/\n",
      "| token expiresIn  : 3599\n",
      "| API Key Matches? : True\n",
      "+------------------+\n"
     ]
    }
   ],
   "source": [
    "# Set root logger level to ERROR to suppress INFO messages globally\n",
    "logger = logging.getLogger(SierraRESTAPI.__module__)\n",
    "logger.setLevel(logging.ERROR)\n",
    "\n",
    "with open('./.config-alt.json') as f:\n",
    "  config = json.load(f)\n",
    "\n",
    "sierra_api = SierraRESTAPI(\n",
    "    sierra_api_base_url=config.get('sierra_api_base_url'),\n",
    "    sierra_api_key=config.get('sierra_api_key'),\n",
    "    sierra_api_secret=config.get('sierra_api_secret')\n",
    ")\n",
    "\n",
    "result = sierra_api.get('info/token')  # send the HTTP GET request\n",
    "\n",
    "print(\n",
    "    f\"+------------------+\",\n",
    "    f\"| base_url         : {sierra_api.base_url}\",\n",
    "    f\"| token expiresIn  : {result.raw_response.json().get('expiresIn')}\",\n",
    "    f\"| API Key Matches? : {result.raw_response.json().get('keyId') == sierra_api.api_key}\",  # should be True\n",
    "    f\"+------------------+\",\n",
    "    sep=\"\\n\"\n",
    ")"
   ]
  }
 ],
 "metadata": {
  "kernelspec": {
   "display_name": "venv",
   "language": "python",
   "name": "python3"
  },
  "language_info": {
   "codemirror_mode": {
    "name": "ipython",
    "version": 3
   },
   "file_extension": ".py",
   "mimetype": "text/x-python",
   "name": "python",
   "nbconvert_exporter": "python",
   "pygments_lexer": "ipython3",
   "version": "3.10.13"
  },
  "orig_nbformat": 4
 },
 "nbformat": 4,
 "nbformat_minor": 2
}
