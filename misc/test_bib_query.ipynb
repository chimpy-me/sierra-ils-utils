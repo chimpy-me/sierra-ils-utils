{
 "cells": [
  {
   "cell_type": "code",
   "execution_count": 1,
   "metadata": {},
   "outputs": [],
   "source": [
    "import json\n",
    "import logging\n",
    "from sierra_ils_utils import SierraAPI, RecordDateRange, endpoints\n",
    "\n",
    "# Configure the root logger\n",
    "logging.basicConfig(level=logging.DEBUG)\n",
    "\n",
    "# Load configuration\n",
    "with open('./.config.json') as f:\n",
    "    config = json.load(f)\n",
    "\n",
    "# Create and configure the logger for the current module\n",
    "logger = logging.getLogger(__name__)\n",
    "logger.setLevel(logging.DEBUG)\n",
    "\n",
    "# Optionally, set the logging level for the sierra_ils_utils module\n",
    "logging.getLogger('sierra_ils_utils').setLevel(logging.DEBUG)\n",
    "\n",
    "# Initialize SierraRESTAPI with DEBUG logging level\n",
    "sierra_api = SierraAPI(\n",
    "    sierra_api_base_url=config.get('sierra_api_base_url'),\n",
    "    sierra_api_key=config.get('sierra_api_key'),\n",
    "    sierra_api_secret=config.get('sierra_api_secret'),\n",
    "    log_level=logging.DEBUG\n",
    ")"
   ]
  },
  {
   "cell_type": "code",
   "execution_count": 2,
   "metadata": {},
   "outputs": [
    {
     "data": {
      "text/plain": [
       "{'bibs/query': {'\\n            Filter the records by a query in JSON format\\n            responses': {200: sierra_ils_utils.sierra_api_v6_endpoints.QueryResultSet,\n",
       "   400: sierra_ils_utils.sierra_api_v6_endpoints.ErrorCode,\n",
       "   404: sierra_ils_utils.sierra_api_v6_endpoints.ErrorCode},\n",
       "  'response_model': sierra_ils_utils.sierra_api_v6_endpoints.QueryResultSet,\n",
       "  'body_required': True,\n",
       "  'body_format': 'json'}}"
      ]
     },
     "execution_count": 2,
     "metadata": {},
     "output_type": "execute_result"
    }
   ],
   "source": [
    "endpoints['POST']"
   ]
  },
  {
   "cell_type": "code",
   "execution_count": 3,
   "metadata": {},
   "outputs": [
    {
     "name": "stderr",
     "output_type": "stream",
     "text": [
      "DEBUG:urllib3.connectionpool:Starting new HTTPS connection (1): classic.cincinnatilibrary.org:443\n",
      "DEBUG:urllib3.connectionpool:https://classic.cincinnatilibrary.org:443 \"POST /iii/sierra-api/v6/token HTTP/1.1\" 200 230\n",
      "INFO:sierra_ils_utils.sierra_ils_utils:Authorization Success. response.json.get('expires_in'): 3600\n",
      "INFO:sierra_ils_utils.sierra_ils_utils:Sierra session authenticated\n",
      "DEBUG:urllib3.connectionpool:https://classic.cincinnatilibrary.org:443 \"GET /iii/sierra-api/v6/info/token HTTP/1.1\" 200 3584\n",
      "INFO:sierra_ils_utils.sierra_ils_utils:Sierra response status code                  : 200\n",
      "INFO:sierra_ils_utils.sierra_ils_utils:Sierra 'expiresIn'                           : 3599\n",
      "INFO:sierra_ils_utils.sierra_ils_utils:session expires at (UNIX Epoch)              : 1701280204.3908648\n",
      "INFO:sierra_ils_utils.sierra_ils_utils:seconds left                                 : 3539.982747554779\n",
      "INFO:sierra_ils_utils.sierra_ils_utils:request url                                  : https://classic.cincinnatilibrary.org/iii/sierra-api/v6/info/token\n",
      "DEBUG:sierra_ils_utils.sierra_ils_utils:\"template\": bibs/query\n",
      "DEBUG:sierra_ils_utils.sierra_ils_utils:POST {\"endpoint\": \"https://classic.cincinnatilibrary.org/iii/sierra-api/v6/bibs/query\", \"params\": \"{'offset': 0, 'limit': 1}\"}\n",
      "DEBUG:urllib3.connectionpool:https://classic.cincinnatilibrary.org:443 \"POST /iii/sierra-api/v6/bibs/query?offset=0&limit=1 HTTP/1.1\" 200 113\n",
      "DEBUG:sierra_ils_utils.sierra_ils_utils:request count: 1\n",
      "DEBUG:sierra_ils_utils.sierra_ils_utils:POST https://classic.cincinnatilibrary.org/iii/sierra-api/v6/bibs/query?offset=0&limit=1 200 ✅\n"
     ]
    },
    {
     "name": "stdout",
     "output_type": "stream",
     "text": [
      "total=1 start=0 entries=[QueryEntry(link='https://classic.cincinnatilibrary.org/iii/sierra-api/v6/bibs/1000001')]\n"
     ]
    }
   ],
   "source": [
    "response = sierra_api.post(\n",
    "    'bibs/query',\n",
    "    params={\n",
    "        'offset': 0,\n",
    "        'limit': 1,\n",
    "    },\n",
    "    json_body='{}'\n",
    ")\n",
    "\n",
    "print(response.data)"
   ]
  },
  {
   "cell_type": "code",
   "execution_count": 4,
   "metadata": {},
   "outputs": [
    {
     "name": "stderr",
     "output_type": "stream",
     "text": [
      "DEBUG:sierra_ils_utils.sierra_ils_utils:\"template\": bibs/query\n",
      "DEBUG:sierra_ils_utils.sierra_ils_utils:POST {\"endpoint\": \"https://classic.cincinnatilibrary.org/iii/sierra-api/v6/bibs/query\", \"params\": \"{'offset': 0, 'limit': 1}\"}\n",
      "DEBUG:urllib3.connectionpool:https://classic.cincinnatilibrary.org:443 \"POST /iii/sierra-api/v6/bibs/query?offset=0&limit=1 HTTP/1.1\" 200 113\n",
      "DEBUG:sierra_ils_utils.sierra_ils_utils:request count: 2\n",
      "DEBUG:sierra_ils_utils.sierra_ils_utils:POST https://classic.cincinnatilibrary.org/iii/sierra-api/v6/bibs/query?offset=0&limit=1 200 ✅\n"
     ]
    },
    {
     "name": "stdout",
     "output_type": "stream",
     "text": [
      "total=1 start=0 entries=[QueryEntry(link='https://classic.cincinnatilibrary.org/iii/sierra-api/v6/bibs/1000001')]\n"
     ]
    }
   ],
   "source": [
    "response = sierra_api.post(\n",
    "    'bibs/query',\n",
    "    params={\n",
    "        'offset': 0,\n",
    "        'limit': 1,\n",
    "    },\n",
    "    json_body={}\n",
    ")\n",
    "\n",
    "print(response.data)"
   ]
  },
  {
   "cell_type": "code",
   "execution_count": 7,
   "metadata": {},
   "outputs": [
    {
     "name": "stderr",
     "output_type": "stream",
     "text": [
      "DEBUG:sierra_ils_utils.sierra_ils_utils:\"template\": bibs/query\n",
      "DEBUG:sierra_ils_utils.sierra_ils_utils:POST {\"endpoint\": \"https://classic.cincinnatilibrary.org/iii/sierra-api/v6/bibs/query\", \"params\": \"{'offset': 0, 'limit': 20}\"}\n",
      "DEBUG:urllib3.connectionpool:Resetting dropped connection: classic.cincinnatilibrary.org\n",
      "DEBUG:urllib3.connectionpool:https://classic.cincinnatilibrary.org:443 \"POST /iii/sierra-api/v6/bibs/query?offset=0&limit=20 HTTP/1.1\" 200 1634\n",
      "DEBUG:sierra_ils_utils.sierra_ils_utils:request count: 5\n",
      "DEBUG:sierra_ils_utils.sierra_ils_utils:POST https://classic.cincinnatilibrary.org/iii/sierra-api/v6/bibs/query?offset=0&limit=20 200 ✅\n"
     ]
    },
    {
     "name": "stdout",
     "output_type": "stream",
     "text": [
      "total=20 start=0 entries=[QueryEntry(link='https://classic.cincinnatilibrary.org/iii/sierra-api/v6/bibs/1061673'), QueryEntry(link='https://classic.cincinnatilibrary.org/iii/sierra-api/v6/bibs/1069164'), QueryEntry(link='https://classic.cincinnatilibrary.org/iii/sierra-api/v6/bibs/1382468'), QueryEntry(link='https://classic.cincinnatilibrary.org/iii/sierra-api/v6/bibs/1527184'), QueryEntry(link='https://classic.cincinnatilibrary.org/iii/sierra-api/v6/bibs/1643908'), QueryEntry(link='https://classic.cincinnatilibrary.org/iii/sierra-api/v6/bibs/1789847'), QueryEntry(link='https://classic.cincinnatilibrary.org/iii/sierra-api/v6/bibs/1806283'), QueryEntry(link='https://classic.cincinnatilibrary.org/iii/sierra-api/v6/bibs/1859336'), QueryEntry(link='https://classic.cincinnatilibrary.org/iii/sierra-api/v6/bibs/1871452'), QueryEntry(link='https://classic.cincinnatilibrary.org/iii/sierra-api/v6/bibs/1886313'), QueryEntry(link='https://classic.cincinnatilibrary.org/iii/sierra-api/v6/bibs/1906862'), QueryEntry(link='https://classic.cincinnatilibrary.org/iii/sierra-api/v6/bibs/1913027'), QueryEntry(link='https://classic.cincinnatilibrary.org/iii/sierra-api/v6/bibs/1915377'), QueryEntry(link='https://classic.cincinnatilibrary.org/iii/sierra-api/v6/bibs/1915416'), QueryEntry(link='https://classic.cincinnatilibrary.org/iii/sierra-api/v6/bibs/1990292'), QueryEntry(link='https://classic.cincinnatilibrary.org/iii/sierra-api/v6/bibs/2017640'), QueryEntry(link='https://classic.cincinnatilibrary.org/iii/sierra-api/v6/bibs/2213287'), QueryEntry(link='https://classic.cincinnatilibrary.org/iii/sierra-api/v6/bibs/2258986'), QueryEntry(link='https://classic.cincinnatilibrary.org/iii/sierra-api/v6/bibs/2282092'), QueryEntry(link='https://classic.cincinnatilibrary.org/iii/sierra-api/v6/bibs/2368950')]\n"
     ]
    }
   ],
   "source": [
    "# the create lists json query ...\n",
    "json_body = \"\"\"\\\n",
    "{\n",
    "  \"target\": {\n",
    "    \"record\": {\"type\": \"bib\"},\n",
    "    \"field\": {\"tag\": \"t\"}\n",
    "  },\n",
    "  \"expr\": {\n",
    "    \"op\": \"has\",\n",
    "    \"operands\": [\"spider-man\"]\n",
    "  }\n",
    "}\n",
    "\"\"\"\n",
    "\n",
    "response = sierra_api.post(\n",
    "    'bibs/query',\n",
    "    params={\n",
    "        'offset': 0,\n",
    "        'limit': 10,\n",
    "    },\n",
    "    json_body=json_body\n",
    ")\n",
    "\n",
    "print(response.data)"
   ]
  },
  {
   "cell_type": "code",
   "execution_count": 9,
   "metadata": {},
   "outputs": [
    {
     "name": "stderr",
     "output_type": "stream",
     "text": [
      "DEBUG:sierra_ils_utils.sierra_ils_utils:GET {\"endpoint\": \"https://classic.cincinnatilibrary.org/iii/sierra-api/v6/bibs/1061673\", \"params\": \"{'fields': 'title'}\"}\n",
      "DEBUG:urllib3.connectionpool:Resetting dropped connection: classic.cincinnatilibrary.org\n",
      "DEBUG:urllib3.connectionpool:https://classic.cincinnatilibrary.org:443 \"GET /iii/sierra-api/v6/bibs/1061673?fields=title HTTP/1.1\" 200 84\n",
      "DEBUG:sierra_ils_utils.sierra_ils_utils:request count: 6\n",
      "DEBUG:sierra_ils_utils.sierra_ils_utils:GET https://classic.cincinnatilibrary.org/iii/sierra-api/v6/bibs/1061673?fields=title 200 ✅\n",
      "DEBUG:sierra_ils_utils.sierra_ils_utils:GET {\"endpoint\": \"https://classic.cincinnatilibrary.org/iii/sierra-api/v6/bibs/1069164\", \"params\": \"{'fields': 'title'}\"}\n",
      "DEBUG:urllib3.connectionpool:https://classic.cincinnatilibrary.org:443 \"GET /iii/sierra-api/v6/bibs/1069164?fields=title HTTP/1.1\" 200 54\n",
      "DEBUG:sierra_ils_utils.sierra_ils_utils:request count: 7\n",
      "DEBUG:sierra_ils_utils.sierra_ils_utils:GET https://classic.cincinnatilibrary.org/iii/sierra-api/v6/bibs/1069164?fields=title 200 ✅\n",
      "DEBUG:sierra_ils_utils.sierra_ils_utils:GET {\"endpoint\": \"https://classic.cincinnatilibrary.org/iii/sierra-api/v6/bibs/1382468\", \"params\": \"{'fields': 'title'}\"}\n"
     ]
    },
    {
     "name": "stdout",
     "output_type": "stream",
     "text": [
      "1 https://classic.cincinnatilibrary.org/iii/sierra-api/v6/bibs/1061673\n",
      "Superman and Spider-Man : the superheroes on screen files\n",
      "2 https://classic.cincinnatilibrary.org/iii/sierra-api/v6/bibs/1069164\n",
      "Himmler ... Nazi spider-man\n",
      "3 https://classic.cincinnatilibrary.org/iii/sierra-api/v6/bibs/1382468\n"
     ]
    },
    {
     "name": "stderr",
     "output_type": "stream",
     "text": [
      "DEBUG:urllib3.connectionpool:https://classic.cincinnatilibrary.org:443 \"GET /iii/sierra-api/v6/bibs/1382468?fields=title HTTP/1.1\" 200 77\n",
      "DEBUG:sierra_ils_utils.sierra_ils_utils:request count: 8\n",
      "DEBUG:sierra_ils_utils.sierra_ils_utils:GET https://classic.cincinnatilibrary.org/iii/sierra-api/v6/bibs/1382468?fields=title 200 ✅\n",
      "DEBUG:sierra_ils_utils.sierra_ils_utils:GET {\"endpoint\": \"https://classic.cincinnatilibrary.org/iii/sierra-api/v6/bibs/1527184\", \"params\": \"{'fields': 'title'}\"}\n",
      "DEBUG:urllib3.connectionpool:https://classic.cincinnatilibrary.org:443 \"GET /iii/sierra-api/v6/bibs/1527184?fields=title HTTP/1.1\" 200 50\n",
      "DEBUG:sierra_ils_utils.sierra_ils_utils:request count: 9\n",
      "DEBUG:sierra_ils_utils.sierra_ils_utils:GET https://classic.cincinnatilibrary.org/iii/sierra-api/v6/bibs/1527184?fields=title 200 ✅\n",
      "DEBUG:sierra_ils_utils.sierra_ils_utils:GET {\"endpoint\": \"https://classic.cincinnatilibrary.org/iii/sierra-api/v6/bibs/1643908\", \"params\": \"{'fields': 'title'}\"}\n",
      "DEBUG:urllib3.connectionpool:https://classic.cincinnatilibrary.org:443 \"GET /iii/sierra-api/v6/bibs/1643908?fields=title HTTP/1.1\" 200 56\n",
      "DEBUG:sierra_ils_utils.sierra_ils_utils:request count: 10\n",
      "DEBUG:sierra_ils_utils.sierra_ils_utils:GET https://classic.cincinnatilibrary.org/iii/sierra-api/v6/bibs/1643908?fields=title 200 ✅\n",
      "DEBUG:sierra_ils_utils.sierra_ils_utils:GET {\"endpoint\": \"https://classic.cincinnatilibrary.org/iii/sierra-api/v6/bibs/1789847\", \"params\": \"{'fields': 'title'}\"}\n",
      "DEBUG:urllib3.connectionpool:https://classic.cincinnatilibrary.org:443 \"GET /iii/sierra-api/v6/bibs/1789847?fields=title HTTP/1.1\" 200 50\n",
      "DEBUG:sierra_ils_utils.sierra_ils_utils:request count: 11\n",
      "DEBUG:sierra_ils_utils.sierra_ils_utils:GET https://classic.cincinnatilibrary.org/iii/sierra-api/v6/bibs/1789847?fields=title 200 ✅\n",
      "DEBUG:sierra_ils_utils.sierra_ils_utils:GET {\"endpoint\": \"https://classic.cincinnatilibrary.org/iii/sierra-api/v6/bibs/1806283\", \"params\": \"{'fields': 'title'}\"}\n",
      "DEBUG:urllib3.connectionpool:https://classic.cincinnatilibrary.org:443 \"GET /iii/sierra-api/v6/bibs/1806283?fields=title HTTP/1.1\" 200 85\n",
      "DEBUG:sierra_ils_utils.sierra_ils_utils:request count: 12\n",
      "DEBUG:sierra_ils_utils.sierra_ils_utils:GET https://classic.cincinnatilibrary.org/iii/sierra-api/v6/bibs/1806283?fields=title 200 ✅\n",
      "DEBUG:sierra_ils_utils.sierra_ils_utils:GET {\"endpoint\": \"https://classic.cincinnatilibrary.org/iii/sierra-api/v6/bibs/1859336\", \"params\": \"{'fields': 'title'}\"}\n"
     ]
    },
    {
     "name": "stdout",
     "output_type": "stream",
     "text": [
      "Marvel masterworks presents the Amazing Spider-Man\n",
      "4 https://classic.cincinnatilibrary.org/iii/sierra-api/v6/bibs/1527184\n",
      "The ultimate Spider-Man\n",
      "5 https://classic.cincinnatilibrary.org/iii/sierra-api/v6/bibs/1643908\n",
      "Spider-Man : the Venom factor\n",
      "6 https://classic.cincinnatilibrary.org/iii/sierra-api/v6/bibs/1789847\n",
      "The story of Spider-Man\n",
      "7 https://classic.cincinnatilibrary.org/iii/sierra-api/v6/bibs/1806283\n",
      "Spider-Man [sound recording] : music from and inspired by.\n",
      "8 https://classic.cincinnatilibrary.org/iii/sierra-api/v6/bibs/1859336\n"
     ]
    },
    {
     "name": "stderr",
     "output_type": "stream",
     "text": [
      "DEBUG:urllib3.connectionpool:https://classic.cincinnatilibrary.org:443 \"GET /iii/sierra-api/v6/bibs/1859336?fields=title HTTP/1.1\" 200 86\n",
      "DEBUG:sierra_ils_utils.sierra_ils_utils:request count: 13\n",
      "DEBUG:sierra_ils_utils.sierra_ils_utils:GET https://classic.cincinnatilibrary.org/iii/sierra-api/v6/bibs/1859336?fields=title 200 ✅\n",
      "DEBUG:sierra_ils_utils.sierra_ils_utils:GET {\"endpoint\": \"https://classic.cincinnatilibrary.org/iii/sierra-api/v6/bibs/1871452\", \"params\": \"{'fields': 'title'}\"}\n",
      "DEBUG:urllib3.connectionpool:https://classic.cincinnatilibrary.org:443 \"GET /iii/sierra-api/v6/bibs/1871452?fields=title HTTP/1.1\" 200 66\n",
      "DEBUG:sierra_ils_utils.sierra_ils_utils:request count: 14\n",
      "DEBUG:sierra_ils_utils.sierra_ils_utils:GET https://classic.cincinnatilibrary.org/iii/sierra-api/v6/bibs/1871452?fields=title 200 ✅\n",
      "DEBUG:sierra_ils_utils.sierra_ils_utils:GET {\"endpoint\": \"https://classic.cincinnatilibrary.org/iii/sierra-api/v6/bibs/1886313\", \"params\": \"{'fields': 'title'}\"}\n",
      "DEBUG:urllib3.connectionpool:https://classic.cincinnatilibrary.org:443 \"GET /iii/sierra-api/v6/bibs/1886313?fields=title HTTP/1.1\" 200 42\n",
      "DEBUG:sierra_ils_utils.sierra_ils_utils:request count: 15\n",
      "DEBUG:sierra_ils_utils.sierra_ils_utils:GET https://classic.cincinnatilibrary.org/iii/sierra-api/v6/bibs/1886313?fields=title 200 ✅\n",
      "DEBUG:sierra_ils_utils.sierra_ils_utils:GET {\"endpoint\": \"https://classic.cincinnatilibrary.org/iii/sierra-api/v6/bibs/1906862\", \"params\": \"{'fields': 'title'}\"}\n",
      "DEBUG:urllib3.connectionpool:https://classic.cincinnatilibrary.org:443 \"GET /iii/sierra-api/v6/bibs/1906862?fields=title HTTP/1.1\" 200 50\n",
      "DEBUG:sierra_ils_utils.sierra_ils_utils:request count: 16\n",
      "DEBUG:sierra_ils_utils.sierra_ils_utils:GET https://classic.cincinnatilibrary.org/iii/sierra-api/v6/bibs/1906862?fields=title 200 ✅\n",
      "DEBUG:sierra_ils_utils.sierra_ils_utils:GET {\"endpoint\": \"https://classic.cincinnatilibrary.org/iii/sierra-api/v6/bibs/1913027\", \"params\": \"{'fields': 'title'}\"}\n",
      "DEBUG:urllib3.connectionpool:https://classic.cincinnatilibrary.org:443 \"GET /iii/sierra-api/v6/bibs/1913027?fields=title HTTP/1.1\" 200 54\n",
      "DEBUG:sierra_ils_utils.sierra_ils_utils:request count: 17\n",
      "DEBUG:sierra_ils_utils.sierra_ils_utils:GET https://classic.cincinnatilibrary.org/iii/sierra-api/v6/bibs/1913027?fields=title 200 ✅\n",
      "DEBUG:sierra_ils_utils.sierra_ils_utils:GET {\"endpoint\": \"https://classic.cincinnatilibrary.org/iii/sierra-api/v6/bibs/1915377\", \"params\": \"{'fields': 'title'}\"}\n"
     ]
    },
    {
     "name": "stdout",
     "output_type": "stream",
     "text": [
      "Spider-Man confidential : from comic icon to Hollywood hero\n",
      "9 https://classic.cincinnatilibrary.org/iii/sierra-api/v6/bibs/1871452\n",
      "Spider-Man : secret of the Sinister Six\n",
      "10 https://classic.cincinnatilibrary.org/iii/sierra-api/v6/bibs/1886313\n",
      "I am Spider-Man\n",
      "11 https://classic.cincinnatilibrary.org/iii/sierra-api/v6/bibs/1906862\n",
      "The amazing Spider-Man.\n",
      "12 https://classic.cincinnatilibrary.org/iii/sierra-api/v6/bibs/1913027\n",
      "The very best of Spider-Man\n",
      "13 https://classic.cincinnatilibrary.org/iii/sierra-api/v6/bibs/1915377\n"
     ]
    },
    {
     "name": "stderr",
     "output_type": "stream",
     "text": [
      "DEBUG:urllib3.connectionpool:https://classic.cincinnatilibrary.org:443 \"GET /iii/sierra-api/v6/bibs/1915377?fields=title HTTP/1.1\" 200 49\n",
      "DEBUG:sierra_ils_utils.sierra_ils_utils:request count: 18\n",
      "DEBUG:sierra_ils_utils.sierra_ils_utils:GET https://classic.cincinnatilibrary.org/iii/sierra-api/v6/bibs/1915377?fields=title 200 ✅\n",
      "DEBUG:sierra_ils_utils.sierra_ils_utils:GET {\"endpoint\": \"https://classic.cincinnatilibrary.org/iii/sierra-api/v6/bibs/1915416\", \"params\": \"{'fields': 'title'}\"}\n",
      "DEBUG:urllib3.connectionpool:https://classic.cincinnatilibrary.org:443 \"GET /iii/sierra-api/v6/bibs/1915416?fields=title HTTP/1.1\" 200 47\n",
      "DEBUG:sierra_ils_utils.sierra_ils_utils:request count: 19\n",
      "DEBUG:sierra_ils_utils.sierra_ils_utils:GET https://classic.cincinnatilibrary.org/iii/sierra-api/v6/bibs/1915416?fields=title 200 ✅\n",
      "DEBUG:sierra_ils_utils.sierra_ils_utils:GET {\"endpoint\": \"https://classic.cincinnatilibrary.org/iii/sierra-api/v6/bibs/1990292\", \"params\": \"{'fields': 'title'}\"}\n",
      "DEBUG:urllib3.connectionpool:https://classic.cincinnatilibrary.org:443 \"GET /iii/sierra-api/v6/bibs/1990292?fields=title HTTP/1.1\" 200 54\n",
      "DEBUG:sierra_ils_utils.sierra_ils_utils:request count: 20\n",
      "DEBUG:sierra_ils_utils.sierra_ils_utils:GET https://classic.cincinnatilibrary.org/iii/sierra-api/v6/bibs/1990292?fields=title 200 ✅\n",
      "DEBUG:sierra_ils_utils.sierra_ils_utils:GET {\"endpoint\": \"https://classic.cincinnatilibrary.org/iii/sierra-api/v6/bibs/2017640\", \"params\": \"{'fields': 'title'}\"}\n",
      "DEBUG:urllib3.connectionpool:https://classic.cincinnatilibrary.org:443 \"GET /iii/sierra-api/v6/bibs/2017640?fields=title HTTP/1.1\" 200 102\n",
      "DEBUG:sierra_ils_utils.sierra_ils_utils:request count: 21\n",
      "DEBUG:sierra_ils_utils.sierra_ils_utils:GET https://classic.cincinnatilibrary.org/iii/sierra-api/v6/bibs/2017640?fields=title 200 ✅\n",
      "DEBUG:sierra_ils_utils.sierra_ils_utils:GET {\"endpoint\": \"https://classic.cincinnatilibrary.org/iii/sierra-api/v6/bibs/2213287\", \"params\": \"{'fields': 'title'}\"}\n",
      "DEBUG:urllib3.connectionpool:https://classic.cincinnatilibrary.org:443 \"GET /iii/sierra-api/v6/bibs/2213287?fields=title HTTP/1.1\" 200 53\n",
      "DEBUG:sierra_ils_utils.sierra_ils_utils:request count: 22\n",
      "DEBUG:sierra_ils_utils.sierra_ils_utils:GET https://classic.cincinnatilibrary.org/iii/sierra-api/v6/bibs/2213287?fields=title 200 ✅\n",
      "DEBUG:sierra_ils_utils.sierra_ils_utils:GET {\"endpoint\": \"https://classic.cincinnatilibrary.org/iii/sierra-api/v6/bibs/2258986\", \"params\": \"{'fields': 'title'}\"}\n",
      "DEBUG:urllib3.connectionpool:https://classic.cincinnatilibrary.org:443 \"GET /iii/sierra-api/v6/bibs/2258986?fields=title HTTP/1.1\" 200 44\n",
      "DEBUG:sierra_ils_utils.sierra_ils_utils:request count: 23\n",
      "DEBUG:sierra_ils_utils.sierra_ils_utils:GET https://classic.cincinnatilibrary.org/iii/sierra-api/v6/bibs/2258986?fields=title 200 ✅\n",
      "DEBUG:sierra_ils_utils.sierra_ils_utils:GET {\"endpoint\": \"https://classic.cincinnatilibrary.org/iii/sierra-api/v6/bibs/2282092\", \"params\": \"{'fields': 'title'}\"}\n"
     ]
    },
    {
     "name": "stdout",
     "output_type": "stream",
     "text": [
      "The amazing Spider-Man\n",
      "14 https://classic.cincinnatilibrary.org/iii/sierra-api/v6/bibs/1915416\n",
      "Ultimate Spider-Man.\n",
      "15 https://classic.cincinnatilibrary.org/iii/sierra-api/v6/bibs/1990292\n",
      "Spider-Man [videorecording]\n",
      "16 https://classic.cincinnatilibrary.org/iii/sierra-api/v6/bibs/2017640\n",
      "The Spider-Man file : comics file magazine spotlight on the Spider-Man file\n",
      "17 https://classic.cincinnatilibrary.org/iii/sierra-api/v6/bibs/2213287\n",
      "The spectacular Spider-Man\n",
      "18 https://classic.cincinnatilibrary.org/iii/sierra-api/v6/bibs/2258986\n",
      "Spider-Man : blue\n",
      "19 https://classic.cincinnatilibrary.org/iii/sierra-api/v6/bibs/2282092\n"
     ]
    },
    {
     "name": "stderr",
     "output_type": "stream",
     "text": [
      "DEBUG:urllib3.connectionpool:https://classic.cincinnatilibrary.org:443 \"GET /iii/sierra-api/v6/bibs/2282092?fields=title HTTP/1.1\" 200 84\n",
      "DEBUG:sierra_ils_utils.sierra_ils_utils:request count: 24\n",
      "DEBUG:sierra_ils_utils.sierra_ils_utils:GET https://classic.cincinnatilibrary.org/iii/sierra-api/v6/bibs/2282092?fields=title 200 ✅\n",
      "DEBUG:sierra_ils_utils.sierra_ils_utils:GET {\"endpoint\": \"https://classic.cincinnatilibrary.org/iii/sierra-api/v6/bibs/2368950\", \"params\": \"{'fields': 'title'}\"}\n",
      "DEBUG:urllib3.connectionpool:https://classic.cincinnatilibrary.org:443 \"GET /iii/sierra-api/v6/bibs/2368950?fields=title HTTP/1.1\" 200 59\n",
      "DEBUG:sierra_ils_utils.sierra_ils_utils:request count: 25\n",
      "DEBUG:sierra_ils_utils.sierra_ils_utils:GET https://classic.cincinnatilibrary.org/iii/sierra-api/v6/bibs/2368950?fields=title 200 ✅\n"
     ]
    },
    {
     "name": "stdout",
     "output_type": "stream",
     "text": [
      "Caught in the web : dreaming up the world of Spider-Man 2\n",
      "20 https://classic.cincinnatilibrary.org/iii/sierra-api/v6/bibs/2368950\n",
      "Spider-Man ultimate picture book\n"
     ]
    }
   ],
   "source": [
    "if response.data.total and response.data.total > 0:\n",
    "    for i, entry in enumerate(response.data.entries, start=1):\n",
    "        print(i, entry.link)\n",
    "        bib_response = sierra_api.get(\n",
    "            'bibs/{id}',\n",
    "            params={\n",
    "                'fields': 'title'\n",
    "            },\n",
    "            path_params={\n",
    "                'id': entry.link.split('/')[-1]  # just need the id or record num portion\n",
    "            }\n",
    "        )\n",
    "\n",
    "        print(bib_response.data.title)\n",
    "\n",
    "\n",
    "\n",
    "\n",
    "\n",
    "# sierra_api.get(\n",
    "#     'bibs/{id}',\n",
    "#     params={\n",
    "#         'fields': 'default'\n",
    "#     },\n",
    "#     path_params= {\n",
    "#         'id': 1081677\n",
    "#     }\n",
    "# )"
   ]
  },
  {
   "cell_type": "code",
   "execution_count": 12,
   "metadata": {},
   "outputs": [
    {
     "data": {
      "text/plain": [
       "dict"
      ]
     },
     "execution_count": 12,
     "metadata": {},
     "output_type": "execute_result"
    }
   ],
   "source": [
    "type(json_data)"
   ]
  },
  {
   "cell_type": "code",
   "execution_count": 2,
   "metadata": {},
   "outputs": [
    {
     "name": "stderr",
     "output_type": "stream",
     "text": [
      "DEBUG:urllib3.connectionpool:Starting new HTTPS connection (1): classic.cincinnatilibrary.org:443\n",
      "DEBUG:urllib3.connectionpool:https://classic.cincinnatilibrary.org:443 \"POST /iii/sierra-api/v6/token HTTP/1.1\" 200 230\n",
      "INFO:sierra_ils_utils.sierra_ils_utils:Authorization Success. response.json.get('expires_in'): 3600\n",
      "INFO:sierra_ils_utils.sierra_ils_utils:Sierra session authenticated\n",
      "DEBUG:urllib3.connectionpool:https://classic.cincinnatilibrary.org:443 \"GET /iii/sierra-api/v6/info/token HTTP/1.1\" 200 3584\n",
      "INFO:sierra_ils_utils.sierra_ils_utils:Sierra response status code                  : 200\n",
      "INFO:sierra_ils_utils.sierra_ils_utils:Sierra 'expiresIn'                           : 3599\n",
      "INFO:sierra_ils_utils.sierra_ils_utils:session expires at (UNIX Epoch)              : 1701203011.189504\n",
      "INFO:sierra_ils_utils.sierra_ils_utils:seconds left                                 : 3539.981072664261\n",
      "INFO:sierra_ils_utils.sierra_ils_utils:request url                                  : https://classic.cincinnatilibrary.org/iii/sierra-api/v6/info/token\n",
      "DEBUG:sierra_ils_utils.sierra_ils_utils:GET {\"endpoint\": \"https://classic.cincinnatilibrary.org/iii/sierra-api/v6/bibs/query\", \"body\": \"{}\" ,\"params\": \"{}\"}\n",
      "DEBUG:urllib3.connectionpool:https://classic.cincinnatilibrary.org:443 \"GET /iii/sierra-api/v6/bibs/query?offset=0&limit=1 HTTP/1.1\" 400 80\n",
      "WARNING:sierra_ils_utils.sierra_ils_utils:GET response non-200 : {\"code\":106,\"specificCode\":0,\"httpStatus\":400,\"name\":\"Parameter not recognized\"}\n",
      "ERROR:sierra_ils_utils.sierra_ils_utils:Error: {\"code\":106,\"specificCode\":0,\"httpStatus\":400,\"name\":\"Parameter not recognized\"}\n"
     ]
    },
    {
     "ename": "Exception",
     "evalue": "GET response non-200 : {\"code\":106,\"specificCode\":0,\"httpStatus\":400,\"name\":\"Parameter not recognized\"}",
     "output_type": "error",
     "traceback": [
      "\u001b[0;31m---------------------------------------------------------------------------\u001b[0m",
      "\u001b[0;31mException\u001b[0m                                 Traceback (most recent call last)",
      "\u001b[1;32m/home/ray/Documents/sierra-ils-utils/misc/test_bib_query.ipynb Cell 2\u001b[0m line \u001b[0;36m1\n\u001b[1;32m      <a href='vscode-notebook-cell:/home/ray/Documents/sierra-ils-utils/misc/test_bib_query.ipynb#W1sZmlsZQ%3D%3D?line=1'>2</a>\u001b[0m json_data_test1 \u001b[39m=\u001b[39m \u001b[39m\"\u001b[39m\u001b[39m{}\u001b[39;00m\u001b[39m\"\u001b[39m\n\u001b[1;32m      <a href='vscode-notebook-cell:/home/ray/Documents/sierra-ils-utils/misc/test_bib_query.ipynb#W1sZmlsZQ%3D%3D?line=2'>3</a>\u001b[0m json_data_test2 \u001b[39m=\u001b[39m \u001b[39m\"\"\"\u001b[39m\u001b[39m\\\u001b[39;00m\n\u001b[1;32m      <a href='vscode-notebook-cell:/home/ray/Documents/sierra-ils-utils/misc/test_bib_query.ipynb#W1sZmlsZQ%3D%3D?line=3'>4</a>\u001b[0m \u001b[39m{\u001b[39m\n\u001b[1;32m      <a href='vscode-notebook-cell:/home/ray/Documents/sierra-ils-utils/misc/test_bib_query.ipynb#W1sZmlsZQ%3D%3D?line=4'>5</a>\u001b[0m \u001b[39m  \u001b[39m\u001b[39m\"\u001b[39m\u001b[39mtarget\u001b[39m\u001b[39m\"\u001b[39m\u001b[39m: \u001b[39m\u001b[39m{\u001b[39m\n\u001b[0;32m   (...)\u001b[0m\n\u001b[1;32m     <a href='vscode-notebook-cell:/home/ray/Documents/sierra-ils-utils/misc/test_bib_query.ipynb#W1sZmlsZQ%3D%3D?line=12'>13</a>\u001b[0m \u001b[39m}\u001b[39m\n\u001b[1;32m     <a href='vscode-notebook-cell:/home/ray/Documents/sierra-ils-utils/misc/test_bib_query.ipynb#W1sZmlsZQ%3D%3D?line=13'>14</a>\u001b[0m \u001b[39m\"\"\"\u001b[39m\n\u001b[0;32m---> <a href='vscode-notebook-cell:/home/ray/Documents/sierra-ils-utils/misc/test_bib_query.ipynb#W1sZmlsZQ%3D%3D?line=15'>16</a>\u001b[0m sierra_api\u001b[39m.\u001b[39;49mget(\n\u001b[1;32m     <a href='vscode-notebook-cell:/home/ray/Documents/sierra-ils-utils/misc/test_bib_query.ipynb#W1sZmlsZQ%3D%3D?line=16'>17</a>\u001b[0m     \u001b[39m'\u001b[39;49m\u001b[39mbibs/query\u001b[39;49m\u001b[39m'\u001b[39;49m,\n\u001b[1;32m     <a href='vscode-notebook-cell:/home/ray/Documents/sierra-ils-utils/misc/test_bib_query.ipynb#W1sZmlsZQ%3D%3D?line=17'>18</a>\u001b[0m     params\u001b[39m=\u001b[39;49m{\n\u001b[1;32m     <a href='vscode-notebook-cell:/home/ray/Documents/sierra-ils-utils/misc/test_bib_query.ipynb#W1sZmlsZQ%3D%3D?line=18'>19</a>\u001b[0m         \u001b[39m'\u001b[39;49m\u001b[39moffset\u001b[39;49m\u001b[39m'\u001b[39;49m: \u001b[39m0\u001b[39;49m,\n\u001b[1;32m     <a href='vscode-notebook-cell:/home/ray/Documents/sierra-ils-utils/misc/test_bib_query.ipynb#W1sZmlsZQ%3D%3D?line=19'>20</a>\u001b[0m         \u001b[39m'\u001b[39;49m\u001b[39mlimit\u001b[39;49m\u001b[39m'\u001b[39;49m: \u001b[39m1\u001b[39;49m,\n\u001b[1;32m     <a href='vscode-notebook-cell:/home/ray/Documents/sierra-ils-utils/misc/test_bib_query.ipynb#W1sZmlsZQ%3D%3D?line=20'>21</a>\u001b[0m         \u001b[39m'\u001b[39;49m\u001b[39mjson\u001b[39;49m\u001b[39m'\u001b[39;49m: json_data_test1\n\u001b[1;32m     <a href='vscode-notebook-cell:/home/ray/Documents/sierra-ils-utils/misc/test_bib_query.ipynb#W1sZmlsZQ%3D%3D?line=21'>22</a>\u001b[0m     }\n\u001b[1;32m     <a href='vscode-notebook-cell:/home/ray/Documents/sierra-ils-utils/misc/test_bib_query.ipynb#W1sZmlsZQ%3D%3D?line=22'>23</a>\u001b[0m )\n",
      "File \u001b[0;32m~/Documents/sierra-ils-utils/sierra_ils_utils/decorators.py:58\u001b[0m, in \u001b[0;36mhybrid_retry_decorator.<locals>.decorator.<locals>.wrapper\u001b[0;34m(self, *args, **kwargs)\u001b[0m\n\u001b[1;32m     56\u001b[0m \u001b[39mwhile\u001b[39;00m retries \u001b[39m<\u001b[39m\u001b[39m=\u001b[39m max_retries:\n\u001b[1;32m     57\u001b[0m     \u001b[39mtry\u001b[39;00m:\n\u001b[0;32m---> 58\u001b[0m         response \u001b[39m=\u001b[39m func(\u001b[39mself\u001b[39;49m, \u001b[39m*\u001b[39;49margs, \u001b[39m*\u001b[39;49m\u001b[39m*\u001b[39;49mkwargs)\n\u001b[1;32m     59\u001b[0m         \u001b[39mif\u001b[39;00m response\u001b[39m.\u001b[39mstatus_code \u001b[39min\u001b[39;00m retry_on_status_codes:\n\u001b[1;32m     60\u001b[0m             \u001b[39mraise\u001b[39;00m requests\u001b[39m.\u001b[39mHTTPError(\u001b[39mf\u001b[39m\u001b[39m\"\u001b[39m\u001b[39mHTTP \u001b[39m\u001b[39m{\u001b[39;00mresponse\u001b[39m.\u001b[39mstatus_code\u001b[39m}\u001b[39;00m\u001b[39m Error\u001b[39m\u001b[39m\"\u001b[39m)\n",
      "File \u001b[0;32m~/Documents/sierra-ils-utils/sierra_ils_utils/decorators.py:150\u001b[0m, in \u001b[0;36mauthenticate.<locals>.wrapper\u001b[0;34m(self, *args, **kwargs)\u001b[0m\n\u001b[1;32m    147\u001b[0m     \u001b[39mself\u001b[39m\u001b[39m.\u001b[39mlogger\u001b[39m.\u001b[39minfo(\u001b[39mf\u001b[39m\u001b[39m\"\u001b[39m\u001b[39mrequest url                                  : \u001b[39m\u001b[39m{\u001b[39;00murl\u001b[39m}\u001b[39;00m\u001b[39m\"\u001b[39m)\n\u001b[1;32m    148\u001b[0m     \u001b[39m# self.logger.info(f\"resonse json                                 : {response.json()}\\n\")\u001b[39;00m\n\u001b[0;32m--> 150\u001b[0m \u001b[39mreturn\u001b[39;00m func(\u001b[39mself\u001b[39;49m, \u001b[39m*\u001b[39;49margs, \u001b[39m*\u001b[39;49m\u001b[39m*\u001b[39;49mkwargs)\n",
      "File \u001b[0;32m~/Documents/sierra-ils-utils/sierra_ils_utils/sierra_ils_utils.py:172\u001b[0m, in \u001b[0;36mSierraRESTAPI.get\u001b[0;34m(self, template, *args, **kwargs)\u001b[0m\n\u001b[1;32m    170\u001b[0m \u001b[39mif\u001b[39;00m response\u001b[39m.\u001b[39mstatus_code \u001b[39mnot\u001b[39;00m \u001b[39min\u001b[39;00m (\u001b[39m404\u001b[39m,):\n\u001b[1;32m    171\u001b[0m     \u001b[39mself\u001b[39m\u001b[39m.\u001b[39mlogger\u001b[39m.\u001b[39merror(\u001b[39mf\u001b[39m\u001b[39m\"\u001b[39m\u001b[39mError: \u001b[39m\u001b[39m{\u001b[39;00mresponse\u001b[39m.\u001b[39mtext\u001b[39m}\u001b[39;00m\u001b[39m\"\u001b[39m)\n\u001b[0;32m--> 172\u001b[0m     \u001b[39mraise\u001b[39;00m \u001b[39mException\u001b[39;00m(\u001b[39mf\u001b[39m\u001b[39m\"\u001b[39m\u001b[39mGET response non-200 : \u001b[39m\u001b[39m{\u001b[39;00mresponse\u001b[39m.\u001b[39mtext\u001b[39m}\u001b[39;00m\u001b[39m\"\u001b[39m)\n\u001b[1;32m    173\u001b[0m \u001b[39melse\u001b[39;00m:\n\u001b[1;32m    174\u001b[0m     \u001b[39mself\u001b[39m\u001b[39m.\u001b[39mlogger\u001b[39m.\u001b[39minfo(\u001b[39mf\u001b[39m\u001b[39m\"\u001b[39m\u001b[39mGET \u001b[39m\u001b[39m{\u001b[39;00mresponse\u001b[39m.\u001b[39murl\u001b[39m}\u001b[39;00m\u001b[39m \u001b[39m\u001b[39m{\u001b[39;00mresponse\u001b[39m.\u001b[39mstatus_code\u001b[39m}\u001b[39;00m\u001b[39m ❎\u001b[39m\u001b[39m\"\u001b[39m)\n",
      "\u001b[0;31mException\u001b[0m: GET response non-200 : {\"code\":106,\"specificCode\":0,\"httpStatus\":400,\"name\":\"Parameter not recognized\"}"
     ]
    }
   ],
   "source": [
    "# the json body data\n",
    "json_data_test1 = \"{}\"\n",
    "json_data_test2 = \"\"\"\\\n",
    "{\n",
    "  \"target\": {\n",
    "    \"record\": {\"type\": \"bib\"},\n",
    "    \"field\": {\"tag\": \"t\"}\n",
    "  },\n",
    "  \"expr\": {\n",
    "    \"op\": \"equals\",\n",
    "    \"operands\": [\"moby dick\"]\n",
    "  }\n",
    "}\n",
    "\"\"\"\n",
    "\n",
    "sierra_api.put(\n",
    "    'bibs/query',\n",
    "    params={\n",
    "        'offset': 0,\n",
    "        'limit': 1,\n",
    "        'json': json_data_test1\n",
    "    }\n",
    ")"
   ]
  },
  {
   "cell_type": "code",
   "execution_count": 5,
   "metadata": {},
   "outputs": [
    {
     "name": "stderr",
     "output_type": "stream",
     "text": [
      "DEBUG:sierra_ils_utils.sierra_ils_utils:GET {\"endpoint\": \"https://classic.cincinnatilibrary.org/iii/sierra-api/v6/bibs/query\", \"body\": \"{}\" ,\"params\": \"{}\"}\n",
      "DEBUG:urllib3.connectionpool:Resetting dropped connection: classic.cincinnatilibrary.org\n",
      "DEBUG:urllib3.connectionpool:https://classic.cincinnatilibrary.org:443 \"GET /iii/sierra-api/v6/bibs/query?offset=1&limit=1 HTTP/1.1\" 400 80\n",
      "WARNING:sierra_ils_utils.sierra_ils_utils:GET response non-200 : {\"code\":106,\"specificCode\":0,\"httpStatus\":400,\"name\":\"Parameter not recognized\"}\n",
      "ERROR:sierra_ils_utils.sierra_ils_utils:Error: {\"code\":106,\"specificCode\":0,\"httpStatus\":400,\"name\":\"Parameter not recognized\"}\n"
     ]
    },
    {
     "ename": "Exception",
     "evalue": "GET response non-200 : {\"code\":106,\"specificCode\":0,\"httpStatus\":400,\"name\":\"Parameter not recognized\"}",
     "output_type": "error",
     "traceback": [
      "\u001b[0;31m---------------------------------------------------------------------------\u001b[0m",
      "\u001b[0;31mException\u001b[0m                                 Traceback (most recent call last)",
      "\u001b[1;32m/home/ray/Documents/sierra-ils-utils/misc/test_bib_query.ipynb Cell 3\u001b[0m line \u001b[0;36m2\n\u001b[1;32m      <a href='vscode-notebook-cell:/home/ray/Documents/sierra-ils-utils/misc/test_bib_query.ipynb#W2sZmlsZQ%3D%3D?line=0'>1</a>\u001b[0m \u001b[39m# get some items data\u001b[39;00m\n\u001b[0;32m----> <a href='vscode-notebook-cell:/home/ray/Documents/sierra-ils-utils/misc/test_bib_query.ipynb#W2sZmlsZQ%3D%3D?line=1'>2</a>\u001b[0m sierra_api\u001b[39m.\u001b[39;49mget(\n\u001b[1;32m      <a href='vscode-notebook-cell:/home/ray/Documents/sierra-ils-utils/misc/test_bib_query.ipynb#W2sZmlsZQ%3D%3D?line=2'>3</a>\u001b[0m     \u001b[39m'\u001b[39;49m\u001b[39mbibs/query\u001b[39;49m\u001b[39m'\u001b[39;49m,   \u001b[39m# endpoint\u001b[39;49;00m\n\u001b[1;32m      <a href='vscode-notebook-cell:/home/ray/Documents/sierra-ils-utils/misc/test_bib_query.ipynb#W2sZmlsZQ%3D%3D?line=3'>4</a>\u001b[0m     params\u001b[39m=\u001b[39;49m {       \u001b[39m# query params\u001b[39;49;00m\n\u001b[1;32m      <a href='vscode-notebook-cell:/home/ray/Documents/sierra-ils-utils/misc/test_bib_query.ipynb#W2sZmlsZQ%3D%3D?line=4'>5</a>\u001b[0m         \u001b[39m# 'fields': 'default',\u001b[39;49;00m\n\u001b[1;32m      <a href='vscode-notebook-cell:/home/ray/Documents/sierra-ils-utils/misc/test_bib_query.ipynb#W2sZmlsZQ%3D%3D?line=5'>6</a>\u001b[0m         \u001b[39m'\u001b[39;49m\u001b[39moffset\u001b[39;49m\u001b[39m'\u001b[39;49m: \u001b[39m1\u001b[39;49m,\n\u001b[1;32m      <a href='vscode-notebook-cell:/home/ray/Documents/sierra-ils-utils/misc/test_bib_query.ipynb#W2sZmlsZQ%3D%3D?line=6'>7</a>\u001b[0m         \u001b[39m'\u001b[39;49m\u001b[39mlimit\u001b[39;49m\u001b[39m'\u001b[39;49m: \u001b[39m1\u001b[39;49m,\n\u001b[1;32m      <a href='vscode-notebook-cell:/home/ray/Documents/sierra-ils-utils/misc/test_bib_query.ipynb#W2sZmlsZQ%3D%3D?line=7'>8</a>\u001b[0m         \u001b[39m'\u001b[39;49m\u001b[39mjson\u001b[39;49m\u001b[39m'\u001b[39;49m: \u001b[39m'\u001b[39;49m\u001b[39m{}\u001b[39;49;00m\u001b[39m'\u001b[39;49m\n\u001b[1;32m      <a href='vscode-notebook-cell:/home/ray/Documents/sierra-ils-utils/misc/test_bib_query.ipynb#W2sZmlsZQ%3D%3D?line=8'>9</a>\u001b[0m     }\n\u001b[1;32m     <a href='vscode-notebook-cell:/home/ray/Documents/sierra-ils-utils/misc/test_bib_query.ipynb#W2sZmlsZQ%3D%3D?line=9'>10</a>\u001b[0m )\n",
      "File \u001b[0;32m~/Documents/sierra-ils-utils/sierra_ils_utils/decorators.py:58\u001b[0m, in \u001b[0;36mhybrid_retry_decorator.<locals>.decorator.<locals>.wrapper\u001b[0;34m(self, *args, **kwargs)\u001b[0m\n\u001b[1;32m     56\u001b[0m \u001b[39mwhile\u001b[39;00m retries \u001b[39m<\u001b[39m\u001b[39m=\u001b[39m max_retries:\n\u001b[1;32m     57\u001b[0m     \u001b[39mtry\u001b[39;00m:\n\u001b[0;32m---> 58\u001b[0m         response \u001b[39m=\u001b[39m func(\u001b[39mself\u001b[39;49m, \u001b[39m*\u001b[39;49margs, \u001b[39m*\u001b[39;49m\u001b[39m*\u001b[39;49mkwargs)\n\u001b[1;32m     59\u001b[0m         \u001b[39mif\u001b[39;00m response\u001b[39m.\u001b[39mstatus_code \u001b[39min\u001b[39;00m retry_on_status_codes:\n\u001b[1;32m     60\u001b[0m             \u001b[39mraise\u001b[39;00m requests\u001b[39m.\u001b[39mHTTPError(\u001b[39mf\u001b[39m\u001b[39m\"\u001b[39m\u001b[39mHTTP \u001b[39m\u001b[39m{\u001b[39;00mresponse\u001b[39m.\u001b[39mstatus_code\u001b[39m}\u001b[39;00m\u001b[39m Error\u001b[39m\u001b[39m\"\u001b[39m)\n",
      "File \u001b[0;32m~/Documents/sierra-ils-utils/sierra_ils_utils/decorators.py:150\u001b[0m, in \u001b[0;36mauthenticate.<locals>.wrapper\u001b[0;34m(self, *args, **kwargs)\u001b[0m\n\u001b[1;32m    147\u001b[0m     \u001b[39mself\u001b[39m\u001b[39m.\u001b[39mlogger\u001b[39m.\u001b[39minfo(\u001b[39mf\u001b[39m\u001b[39m\"\u001b[39m\u001b[39mrequest url                                  : \u001b[39m\u001b[39m{\u001b[39;00murl\u001b[39m}\u001b[39;00m\u001b[39m\"\u001b[39m)\n\u001b[1;32m    148\u001b[0m     \u001b[39m# self.logger.info(f\"resonse json                                 : {response.json()}\\n\")\u001b[39;00m\n\u001b[0;32m--> 150\u001b[0m \u001b[39mreturn\u001b[39;00m func(\u001b[39mself\u001b[39;49m, \u001b[39m*\u001b[39;49margs, \u001b[39m*\u001b[39;49m\u001b[39m*\u001b[39;49mkwargs)\n",
      "File \u001b[0;32m~/Documents/sierra-ils-utils/sierra_ils_utils/sierra_ils_utils.py:172\u001b[0m, in \u001b[0;36mSierraRESTAPI.get\u001b[0;34m(self, template, *args, **kwargs)\u001b[0m\n\u001b[1;32m    170\u001b[0m \u001b[39mif\u001b[39;00m response\u001b[39m.\u001b[39mstatus_code \u001b[39mnot\u001b[39;00m \u001b[39min\u001b[39;00m (\u001b[39m404\u001b[39m,):\n\u001b[1;32m    171\u001b[0m     \u001b[39mself\u001b[39m\u001b[39m.\u001b[39mlogger\u001b[39m.\u001b[39merror(\u001b[39mf\u001b[39m\u001b[39m\"\u001b[39m\u001b[39mError: \u001b[39m\u001b[39m{\u001b[39;00mresponse\u001b[39m.\u001b[39mtext\u001b[39m}\u001b[39;00m\u001b[39m\"\u001b[39m)\n\u001b[0;32m--> 172\u001b[0m     \u001b[39mraise\u001b[39;00m \u001b[39mException\u001b[39;00m(\u001b[39mf\u001b[39m\u001b[39m\"\u001b[39m\u001b[39mGET response non-200 : \u001b[39m\u001b[39m{\u001b[39;00mresponse\u001b[39m.\u001b[39mtext\u001b[39m}\u001b[39;00m\u001b[39m\"\u001b[39m)\n\u001b[1;32m    173\u001b[0m \u001b[39melse\u001b[39;00m:\n\u001b[1;32m    174\u001b[0m     \u001b[39mself\u001b[39m\u001b[39m.\u001b[39mlogger\u001b[39m.\u001b[39minfo(\u001b[39mf\u001b[39m\u001b[39m\"\u001b[39m\u001b[39mGET \u001b[39m\u001b[39m{\u001b[39;00mresponse\u001b[39m.\u001b[39murl\u001b[39m}\u001b[39;00m\u001b[39m \u001b[39m\u001b[39m{\u001b[39;00mresponse\u001b[39m.\u001b[39mstatus_code\u001b[39m}\u001b[39;00m\u001b[39m ❎\u001b[39m\u001b[39m\"\u001b[39m)\n",
      "\u001b[0;31mException\u001b[0m: GET response non-200 : {\"code\":106,\"specificCode\":0,\"httpStatus\":400,\"name\":\"Parameter not recognized\"}"
     ]
    }
   ],
   "source": [
    "# get some items data\n",
    "sierra_api.get(\n",
    "    'bibs/query',   # endpoint\n",
    "    params= {       # query params\n",
    "        # 'fields': 'default',\n",
    "        'offset': 1,\n",
    "        'limit': 1,\n",
    "        'json': '{}'\n",
    "    }\n",
    ")"
   ]
  }
 ],
 "metadata": {
  "kernelspec": {
   "display_name": "venv",
   "language": "python",
   "name": "python3"
  },
  "language_info": {
   "codemirror_mode": {
    "name": "ipython",
    "version": 3
   },
   "file_extension": ".py",
   "mimetype": "text/x-python",
   "name": "python",
   "nbconvert_exporter": "python",
   "pygments_lexer": "ipython3",
   "version": "3.10.13"
  }
 },
 "nbformat": 4,
 "nbformat_minor": 2
}
