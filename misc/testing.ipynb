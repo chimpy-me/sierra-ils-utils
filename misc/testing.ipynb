{
 "cells": [
  {
   "cell_type": "code",
   "execution_count": 8,
   "metadata": {},
   "outputs": [
    {
     "name": "stderr",
     "output_type": "stream",
     "text": [
      "2023-10-03 20:42:42,135 - sierra_ils_utils.sierra_ils_utils - INFO - Authorization Success. response.json.get('expires_in'): 3600\n",
      "2023-10-03 20:42:42,135 - sierra_ils_utils.sierra_ils_utils - INFO - Authorization Success. response.json.get('expires_in'): 3600\n",
      "2023-10-03 20:42:42,137 - sierra_ils_utils.sierra_ils_utils - INFO - Sierra session authenticated\n",
      "2023-10-03 20:42:42,137 - sierra_ils_utils.sierra_ils_utils - INFO - Sierra session authenticated\n",
      "2023-10-03 20:42:42,194 - sierra_ils_utils.sierra_ils_utils - INFO - Sierra response status code                  : 200\n",
      "2023-10-03 20:42:42,194 - sierra_ils_utils.sierra_ils_utils - INFO - Sierra response status code                  : 200\n",
      "2023-10-03 20:42:42,196 - sierra_ils_utils.sierra_ils_utils - INFO - Sierra 'expiresIn'                           : 3599\n",
      "2023-10-03 20:42:42,196 - sierra_ils_utils.sierra_ils_utils - INFO - Sierra 'expiresIn'                           : 3599\n",
      "2023-10-03 20:42:42,197 - sierra_ils_utils.sierra_ils_utils - INFO - session expires at (UNIX Epoch)              : 1696383702.137661\n",
      "2023-10-03 20:42:42,197 - sierra_ils_utils.sierra_ils_utils - INFO - session expires at (UNIX Epoch)              : 1696383702.137661\n",
      "2023-10-03 20:42:42,198 - sierra_ils_utils.sierra_ils_utils - INFO - seconds left                                 : 3539.9395446777344\n",
      "2023-10-03 20:42:42,198 - sierra_ils_utils.sierra_ils_utils - INFO - seconds left                                 : 3539.9395446777344\n",
      "2023-10-03 20:42:42,199 - sierra_ils_utils.sierra_ils_utils - INFO - request url                                  : https://classic.cincinnatilibrary.org/iii/sierra-api/v6/info/token\n",
      "2023-10-03 20:42:42,199 - sierra_ils_utils.sierra_ils_utils - INFO - request url                                  : https://classic.cincinnatilibrary.org/iii/sierra-api/v6/info/token\n",
      "2023-10-03 20:42:42,200 - sierra_ils_utils.sierra_ils_utils - INFO - GET {\"endpoint\": \"https://classic.cincinnatilibrary.org/iii/sierra-api/v6/info/token\"}\n",
      "2023-10-03 20:42:42,200 - sierra_ils_utils.sierra_ils_utils - INFO - GET {\"endpoint\": \"https://classic.cincinnatilibrary.org/iii/sierra-api/v6/info/token\"}\n",
      "2023-10-03 20:42:42,201 - sierra_ils_utils.sierra_ils_utils - INFO - GET {\"params\": \"None\"}\n",
      "2023-10-03 20:42:42,201 - sierra_ils_utils.sierra_ils_utils - INFO - GET {\"params\": \"None\"}\n",
      "2023-10-03 20:42:42,318 - sierra_ils_utils.sierra_ils_utils - INFO - GET https://classic.cincinnatilibrary.org/iii/sierra-api/v6/info/token 200 ✅\n",
      "2023-10-03 20:42:42,318 - sierra_ils_utils.sierra_ils_utils - INFO - GET https://classic.cincinnatilibrary.org/iii/sierra-api/v6/info/token 200 ✅\n"
     ]
    },
    {
     "name": "stdout",
     "output_type": "stream",
     "text": [
      "{'keyId': '1ebmZG6N2Qw7SklwUBQkxIeTr1pW', 'grantType': 'client_credentials', 'authorizationScheme': 'Bearer', 'expiresIn': 3599, 'roles': [{'name': 'Invoices_Write', 'tokenLifetime': 3600, 'permissions': ['Invoices_Create', 'Invoices_Post', 'Invoices_Update']}, {'name': 'Fines_Read', 'tokenLifetime': 3600, 'permissions': ['Fines_List']}, {'name': 'Vendors_Read', 'tokenLifetime': 3600, 'permissions': ['Vendors_List']}, {'name': 'Patrons_Read', 'tokenLifetime': 3600, 'permissions': ['Patrons_Checkouts_History_List', 'Patrons_Checkouts_List', 'Patrons_Checkouts_Read', 'Patrons_Filter', 'Patrons_Find', 'Patrons_Fines_List', 'Patrons_Fines_Read', 'Patrons_Hold_Form_Read', 'Patrons_Hold_List', 'Patrons_Hold_Read', 'Patrons_List', 'Patrons_Metadata_Read', 'Patrons_Read']}, {'name': 'Invoices_Read', 'tokenLifetime': 3600, 'permissions': ['Invoices_List', 'Invoices_Metadata_Read', 'Invoices_Read']}, {'name': 'Holds_Read', 'tokenLifetime': 3600, 'permissions': ['Holds_List']}, {'name': 'Courses_Read', 'tokenLifetime': 3600, 'permissions': ['Courses_List']}, {'name': 'Acquisitions_Write', 'tokenLifetime': 3600, 'permissions': ['Acquisitions_Orders_Create']}, {'name': 'Branches_Read', 'tokenLifetime': 3600, 'permissions': ['Branches_List', 'Branches_PickupLocations_List', 'Branches_Read']}, {'name': 'Title_Pages_Read', 'tokenLifetime': 3600, 'permissions': ['Title_Pages_List']}, {'name': 'Holdings_Write', 'tokenLifetime': 3600, 'permissions': ['Holdings_Delete_Marc']}, {'name': 'Patrons_Write', 'tokenLifetime': 3600, 'permissions': ['Patrons_Checkouts_Create', 'Patrons_Checkouts_Delete', 'Patrons_Checkouts_History_Configure', 'Patrons_Checkouts_History_Delete', 'Patrons_Checkouts_Renew', 'Patrons_Create', 'Patrons_Delete', 'Patrons_Fines_Add', 'Patrons_Fines_Pay', 'Patrons_Hold_Delete', 'Patrons_Hold_Request_Create', 'Patrons_Hold_Update', 'Patrons_Update', 'Patrons_Validate', 'Patrons_Verify_Pin']}, {'name': 'Orders_Read', 'tokenLifetime': 3600, 'permissions': ['Orders_Filter', 'Orders_Funds_Read', 'Orders_List', 'Orders_Read']}, {'name': 'Currencies_Read', 'tokenLifetime': 3600, 'permissions': ['Currencies_List']}, {'name': 'Info_Holds_Config', 'tokenLifetime': 3600, 'permissions': ['Info_Holds_Config_Read']}, {'name': 'Bibs_Read', 'tokenLifetime': 3600, 'permissions': ['Bibs_Filter', 'Bibs_List', 'Bibs_Metadata_Read', 'Bibs_Read', 'Bibs_Read_Marc', 'Bibs_Search']}, {'name': 'Funds_Read', 'tokenLifetime': 3600, 'permissions': ['Funds_List']}, {'name': 'Holdings_Read', 'tokenLifetime': 3600, 'permissions': ['Holdings_List', 'Holdings_Read_Marc']}, {'name': 'Authorities_Read', 'tokenLifetime': 3600, 'permissions': ['Authorities_Filter', 'Authorities_List', 'Authorities_Read', 'Authorities_Read_Marc']}, {'name': 'Agencies_Read', 'tokenLifetime': 3600, 'permissions': ['Agencies_List']}, {'name': 'Bibs_Write', 'tokenLifetime': 3600, 'permissions': ['Bibs_Create', 'Bibs_Delete', 'Bibs_Delete_Marc', 'Bibs_Update']}, {'name': 'Items_Write', 'tokenLifetime': 3600, 'permissions': ['Items_Create', 'Items_Delete', 'Items_Update']}, {'name': 'Item_Scans_Read', 'tokenLifetime': 3600, 'permissions': ['Item_Scans_List']}, {'name': 'Patrons_Holds_CRUD', 'tokenLifetime': 3600, 'permissions': ['Patrons_Hold_Delete', 'Patrons_Hold_Form_Read', 'Patrons_Hold_List', 'Patrons_Hold_Read', 'Patrons_Hold_Request_Create', 'Patrons_Hold_Update']}, {'name': 'Patrons_Validate', 'tokenLifetime': 3600, 'permissions': ['Patrons_Validate', 'Patrons_Verify_Pin']}, {'name': 'Volumes_Read', 'tokenLifetime': 3600, 'permissions': ['Volumes_List', 'Volumes_Read']}, {'name': 'Users_Write', 'tokenLifetime': 3600, 'permissions': ['Users_Validate']}, {'name': 'Items_Read', 'tokenLifetime': 3600, 'permissions': ['Items_Checkouts_List', 'Items_Checkouts_Read', 'Items_Filter', 'Items_List', 'Items_Read']}]}\n"
     ]
    }
   ],
   "source": [
    "# !pip install -e .\n",
    "import json\n",
    "import logging\n",
    "from sierra_ils_utils import SierraAPIv6\n",
    "\n",
    "# Set up the logger\n",
    "logger = logging.getLogger(name=\"__name__\")\n",
    "# logger.setLevel(logging.DEBUG)\n",
    "logger.setLevel(logging.ERROR)\n",
    "\n",
    "# Create a handler to display logs to the notebook\n",
    "handler = logging.StreamHandler()\n",
    "\n",
    "# Set a format for the handler\n",
    "formatter = logging.Formatter('%(asctime)s - %(name)s - %(levelname)s - %(message)s')\n",
    "handler.setFormatter(formatter)\n",
    "\n",
    "# Add the handler to the logger\n",
    "logger.addHandler(handler)\n",
    "\n",
    "# This will ensure that log messages are displayed in the notebook's output\n",
    "logger.debug(\"Logger is set up and ready!\")\n",
    "\n",
    "with open(\".config.json\") as f:\n",
    "    config = json.load(f)\n",
    "\n",
    "sierra_api = SierraAPIv6(\n",
    "    sierra_api_base_url=config['sierra_api_base_url'],\n",
    "    sierra_api_key=config['sierra_api_key'],\n",
    "    sierra_api_secret=config['sierra_api_secret']\n",
    ")\n",
    "\n",
    "result = sierra_api.get('info/token')\n",
    "print(result.json())"
   ]
  }
 ],
 "metadata": {
  "kernelspec": {
   "display_name": "venv",
   "language": "python",
   "name": "python3"
  },
  "language_info": {
   "codemirror_mode": {
    "name": "ipython",
    "version": 3
   },
   "file_extension": ".py",
   "mimetype": "text/x-python",
   "name": "python",
   "nbconvert_exporter": "python",
   "pygments_lexer": "ipython3",
   "version": "3.10.13"
  },
  "orig_nbformat": 4
 },
 "nbformat": 4,
 "nbformat_minor": 2
}
