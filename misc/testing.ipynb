{
 "cells": [
  {
   "cell_type": "code",
   "execution_count": 5,
   "metadata": {},
   "outputs": [
    {
     "data": {
      "text/plain": [
       "16.41875"
      ]
     },
     "execution_count": 5,
     "metadata": {},
     "output_type": "execute_result"
    }
   ],
   "source": [
    "wait_times = [3, 4.5, 6.75, 10.125, 15.1875, 165.1875, 315.1875, 465.1875]\n",
    "total_wait_time = sum(wait_times)\n",
    "total_wait_time / 60.0"
   ]
  },
  {
   "cell_type": "code",
   "execution_count": 1,
   "metadata": {},
   "outputs": [
    {
     "name": "stdout",
     "output_type": "stream",
     "text": [
      "{'keyId': '1ebmZG6N2Qw7SklwUBQkxIeTr1pW', 'grantType': 'client_credentials', 'authorizationScheme': 'Bearer', 'expiresIn': 3599, 'roles': [{'name': 'Invoices_Write', 'tokenLifetime': 3600, 'permissions': ['Invoices_Create', 'Invoices_Post', 'Invoices_Update']}, {'name': 'Fines_Read', 'tokenLifetime': 3600, 'permissions': ['Fines_List']}, {'name': 'Vendors_Read', 'tokenLifetime': 3600, 'permissions': ['Vendors_List']}, {'name': 'Patrons_Read', 'tokenLifetime': 3600, 'permissions': ['Patrons_Checkouts_History_List', 'Patrons_Checkouts_List', 'Patrons_Checkouts_Read', 'Patrons_Filter', 'Patrons_Find', 'Patrons_Fines_List', 'Patrons_Fines_Read', 'Patrons_Hold_Form_Read', 'Patrons_Hold_List', 'Patrons_Hold_Read', 'Patrons_List', 'Patrons_Metadata_Read', 'Patrons_Read']}, {'name': 'Invoices_Read', 'tokenLifetime': 3600, 'permissions': ['Invoices_List', 'Invoices_Metadata_Read', 'Invoices_Read']}, {'name': 'Holds_Read', 'tokenLifetime': 3600, 'permissions': ['Holds_List']}, {'name': 'Courses_Read', 'tokenLifetime': 3600, 'permissions': ['Courses_List']}, {'name': 'Acquisitions_Write', 'tokenLifetime': 3600, 'permissions': ['Acquisitions_Orders_Create']}, {'name': 'Branches_Read', 'tokenLifetime': 3600, 'permissions': ['Branches_List', 'Branches_PickupLocations_List', 'Branches_Read']}, {'name': 'Title_Pages_Read', 'tokenLifetime': 3600, 'permissions': ['Title_Pages_List']}, {'name': 'Holdings_Write', 'tokenLifetime': 3600, 'permissions': ['Holdings_Delete_Marc']}, {'name': 'Patrons_Write', 'tokenLifetime': 3600, 'permissions': ['Patrons_Checkouts_Create', 'Patrons_Checkouts_Delete', 'Patrons_Checkouts_History_Configure', 'Patrons_Checkouts_History_Delete', 'Patrons_Checkouts_Renew', 'Patrons_Create', 'Patrons_Delete', 'Patrons_Fines_Add', 'Patrons_Fines_Pay', 'Patrons_Hold_Delete', 'Patrons_Hold_Request_Create', 'Patrons_Hold_Update', 'Patrons_Update', 'Patrons_Validate', 'Patrons_Verify_Pin']}, {'name': 'Orders_Read', 'tokenLifetime': 3600, 'permissions': ['Orders_Filter', 'Orders_Funds_Read', 'Orders_List', 'Orders_Read']}, {'name': 'Currencies_Read', 'tokenLifetime': 3600, 'permissions': ['Currencies_List']}, {'name': 'Info_Holds_Config', 'tokenLifetime': 3600, 'permissions': ['Info_Holds_Config_Read']}, {'name': 'Bibs_Read', 'tokenLifetime': 3600, 'permissions': ['Bibs_Filter', 'Bibs_List', 'Bibs_Metadata_Read', 'Bibs_Read', 'Bibs_Read_Marc', 'Bibs_Search']}, {'name': 'Funds_Read', 'tokenLifetime': 3600, 'permissions': ['Funds_List']}, {'name': 'Holdings_Read', 'tokenLifetime': 3600, 'permissions': ['Holdings_List', 'Holdings_Read_Marc']}, {'name': 'Authorities_Read', 'tokenLifetime': 3600, 'permissions': ['Authorities_Filter', 'Authorities_List', 'Authorities_Read', 'Authorities_Read_Marc']}, {'name': 'Agencies_Read', 'tokenLifetime': 3600, 'permissions': ['Agencies_List']}, {'name': 'Bibs_Write', 'tokenLifetime': 3600, 'permissions': ['Bibs_Create', 'Bibs_Delete', 'Bibs_Delete_Marc', 'Bibs_Update']}, {'name': 'Items_Write', 'tokenLifetime': 3600, 'permissions': ['Items_Create', 'Items_Delete', 'Items_Update']}, {'name': 'Item_Scans_Read', 'tokenLifetime': 3600, 'permissions': ['Item_Scans_List']}, {'name': 'Patrons_Holds_CRUD', 'tokenLifetime': 3600, 'permissions': ['Patrons_Hold_Delete', 'Patrons_Hold_Form_Read', 'Patrons_Hold_List', 'Patrons_Hold_Read', 'Patrons_Hold_Request_Create', 'Patrons_Hold_Update']}, {'name': 'Patrons_Validate', 'tokenLifetime': 3600, 'permissions': ['Patrons_Validate', 'Patrons_Verify_Pin']}, {'name': 'Volumes_Read', 'tokenLifetime': 3600, 'permissions': ['Volumes_List', 'Volumes_Read']}, {'name': 'Users_Write', 'tokenLifetime': 3600, 'permissions': ['Users_Validate']}, {'name': 'Items_Read', 'tokenLifetime': 3600, 'permissions': ['Items_Checkouts_List', 'Items_Checkouts_Read', 'Items_Filter', 'Items_List', 'Items_Read']}]}\n"
     ]
    }
   ],
   "source": [
    "# !pip install -e .\n",
    "import json\n",
    "import logging\n",
    "from sierra_ils_utils import SierraAPIv6\n",
    "\n",
    "# Set up the logger\n",
    "logger = logging.getLogger(name=\"__name__\")\n",
    "# logger.setLevel(logging.DEBUG)\n",
    "logger.setLevel(logging.ERROR)\n",
    "\n",
    "# Create a handler to display logs to the notebook\n",
    "handler = logging.StreamHandler()\n",
    "\n",
    "# Set a format for the handler\n",
    "formatter = logging.Formatter('%(asctime)s - %(name)s - %(levelname)s - %(message)s')\n",
    "handler.setFormatter(formatter)\n",
    "\n",
    "# Add the handler to the logger\n",
    "logger.addHandler(handler)\n",
    "\n",
    "# This will ensure that log messages are displayed in the notebook's output\n",
    "logger.debug(\"Logger is set up and ready!\")\n",
    "\n",
    "with open(\".config.json\") as f:\n",
    "    config = json.load(f)\n",
    "\n",
    "sierra_api = SierraAPIv6(\n",
    "    sierra_api_base_url=config['sierra_api_base_url'],\n",
    "    sierra_api_key=config['sierra_api_key'],\n",
    "    sierra_api_secret=config['sierra_api_secret']\n",
    ")\n",
    "\n",
    "result = sierra_api.get('info/token')\n",
    "print(result.json())"
   ]
  },
  {
   "cell_type": "code",
   "execution_count": 2,
   "metadata": {},
   "outputs": [],
   "source": [
    "from sierra_ils_utils import JsonManipulator"
   ]
  },
  {
   "cell_type": "code",
   "execution_count": 5,
   "metadata": {},
   "outputs": [
    {
     "ename": "NameError",
     "evalue": "name 'data' is not defined",
     "output_type": "error",
     "traceback": [
      "\u001b[0;31m---------------------------------------------------------------------------\u001b[0m",
      "\u001b[0;31mNameError\u001b[0m                                 Traceback (most recent call last)",
      "\u001b[1;32m/home/ray/Documents/sierra-ils-utils/misc/testing.ipynb Cell 3\u001b[0m line \u001b[0;36m3\n\u001b[1;32m      <a href='vscode-notebook-cell:/home/ray/Documents/sierra-ils-utils/misc/testing.ipynb#W2sZmlsZQ%3D%3D?line=0'>1</a>\u001b[0m json_data \u001b[39m=\u001b[39m {\n\u001b[1;32m      <a href='vscode-notebook-cell:/home/ray/Documents/sierra-ils-utils/misc/testing.ipynb#W2sZmlsZQ%3D%3D?line=1'>2</a>\u001b[0m     \u001b[39m'\u001b[39m\u001b[39mtotal\u001b[39m\u001b[39m'\u001b[39m: \u001b[39m3\u001b[39m,\n\u001b[1;32m      <a href='vscode-notebook-cell:/home/ray/Documents/sierra-ils-utils/misc/testing.ipynb#W2sZmlsZQ%3D%3D?line=2'>3</a>\u001b[0m     \u001b[39m'\u001b[39m\u001b[39mstart\u001b[39m\u001b[39m'\u001b[39m: \u001b[39m0\u001b[39m,\n\u001b[0;32m   (...)\u001b[0m\n\u001b[1;32m     <a href='vscode-notebook-cell:/home/ray/Documents/sierra-ils-utils/misc/testing.ipynb#W2sZmlsZQ%3D%3D?line=34'>35</a>\u001b[0m     ]\n\u001b[1;32m     <a href='vscode-notebook-cell:/home/ray/Documents/sierra-ils-utils/misc/testing.ipynb#W2sZmlsZQ%3D%3D?line=35'>36</a>\u001b[0m }\n\u001b[1;32m     <a href='vscode-notebook-cell:/home/ray/Documents/sierra-ils-utils/misc/testing.ipynb#W2sZmlsZQ%3D%3D?line=37'>38</a>\u001b[0m \u001b[39m# json = JsonManipulator(json_data).remove_paths([['entries', 'patron'],]).json_obj()\u001b[39;00m\n\u001b[0;32m---> <a href='vscode-notebook-cell:/home/ray/Documents/sierra-ils-utils/misc/testing.ipynb#W2sZmlsZQ%3D%3D?line=38'>39</a>\u001b[0m manipulated_data \u001b[39m=\u001b[39m JsonManipulator(data) \\\n\u001b[1;32m     <a href='vscode-notebook-cell:/home/ray/Documents/sierra-ils-utils/misc/testing.ipynb#W2sZmlsZQ%3D%3D?line=39'>40</a>\u001b[0m     \u001b[39m.\u001b[39mremove_paths([[\u001b[39m\"\u001b[39m\u001b[39muser\u001b[39m\u001b[39m\"\u001b[39m, \u001b[39m\"\u001b[39m\u001b[39maddresses\u001b[39m\u001b[39m\"\u001b[39m, \u001b[39m\"\u001b[39m\u001b[39mcountry\u001b[39m\u001b[39m\"\u001b[39m], [\u001b[39m\"\u001b[39m\u001b[39muser\u001b[39m\u001b[39m\"\u001b[39m, \u001b[39m\"\u001b[39m\u001b[39mname\u001b[39m\u001b[39m\"\u001b[39m]]) \\\n\u001b[1;32m     <a href='vscode-notebook-cell:/home/ray/Documents/sierra-ils-utils/misc/testing.ipynb#W2sZmlsZQ%3D%3D?line=40'>41</a>\u001b[0m     \u001b[39m.\u001b[39mjson_obj\n\u001b[1;32m     <a href='vscode-notebook-cell:/home/ray/Documents/sierra-ils-utils/misc/testing.ipynb#W2sZmlsZQ%3D%3D?line=42'>43</a>\u001b[0m \u001b[39mprint\u001b[39m(manipulated_data)\n",
      "\u001b[0;31mNameError\u001b[0m: name 'data' is not defined"
     ]
    }
   ],
   "source": [
    "json_data = {\n",
    "    'total': 3,\n",
    "    'start': 0,\n",
    "    'entries': [\n",
    "        {\n",
    "            'id': 'https://example.com/checkouts/123',\n",
    "            'patron': 'https://example.com/patrons/123',\n",
    "            'item': 'https://example.com/items/123',\n",
    "            'barcode': 'A1234',\n",
    "            'dueDate': '2023-10-21T08:00:00Z',\n",
    "            'callNumber': '005.133 PYT',\n",
    "            'numberOfRenewals': 0,\n",
    "            'outDate': '2023-10-07T08:00:00Z'\n",
    "        },\n",
    "        {\n",
    "            'id': 'https://example.com/checkouts/124',\n",
    "            'patron': 'https://example.com/patrons/124',\n",
    "            'item': 'https://example.com/items/123',\n",
    "            'barcode': 'A1235',\n",
    "            'dueDate': '2023-10-21T08:00:00Z',\n",
    "            'callNumber': '005.133 PYT',\n",
    "            'numberOfRenewals': 0,\n",
    "            'outDate': '2023-10-07T08:00:00Z'\n",
    "        },\n",
    "        {\n",
    "            'id': 'https://example.com/checkouts/125',\n",
    "            'patron': 'https://example.com/patrons/123',\n",
    "            'item': 'https://example.com/items/125',\n",
    "            'barcode': 'A1236',\n",
    "            'dueDate': '2023-10-21T08:00:00Z',\n",
    "            'callNumber': '005.133 PYT',\n",
    "            'numberOfRenewals': 0,\n",
    "            'outDate': '2023-10-07T08:00:00Z'\n",
    "        },\n",
    "    ]\n",
    "}\n",
    "\n",
    "# json = JsonManipulator(json_data).remove_paths([['entries', 'patron'],]).json_obj()\n",
    "manipulated_data = JsonManipulator(json_data) \\\n",
    "    .remove_paths([[\"user\", \"addresses\", \"country\"], [\"user\", \"name\"]]) \\\n",
    "    .json_obj\n",
    "\n",
    "print(manipulated_data)\n"
   ]
  },
  {
   "cell_type": "code",
   "execution_count": 12,
   "metadata": {},
   "outputs": [
    {
     "ename": "AttributeError",
     "evalue": "'NoneType' object has no attribute 'json_obj'",
     "output_type": "error",
     "traceback": [
      "\u001b[0;31m---------------------------------------------------------------------------\u001b[0m",
      "\u001b[0;31mAttributeError\u001b[0m                            Traceback (most recent call last)",
      "\u001b[1;32m/home/ray/Documents/sierra-ils-utils/misc/testing.ipynb Cell 4\u001b[0m line \u001b[0;36m1\n\u001b[0;32m----> <a href='vscode-notebook-cell:/home/ray/Documents/sierra-ils-utils/misc/testing.ipynb#W3sZmlsZQ%3D%3D?line=0'>1</a>\u001b[0m json_manipulator\u001b[39m.\u001b[39;49mremove_paths([[\u001b[39m'\u001b[39;49m\u001b[39mentries\u001b[39;49m\u001b[39m'\u001b[39;49m, \u001b[39m'\u001b[39;49m\u001b[39mpatron\u001b[39;49m\u001b[39m'\u001b[39;49m],])\u001b[39m.\u001b[39;49mjson_obj\n",
      "\u001b[0;31mAttributeError\u001b[0m: 'NoneType' object has no attribute 'json_obj'"
     ]
    }
   ],
   "source": [
    "json_manipulator.remove_paths([['entries', 'patron'],]).json_obj"
   ]
  },
  {
   "cell_type": "code",
   "execution_count": 11,
   "metadata": {},
   "outputs": [
    {
     "data": {
      "text/plain": [
       "{'total': 3,\n",
       " 'start': 0,\n",
       " 'entries': [{'id': 'https://example.com/checkouts/123',\n",
       "   'item': 'https://example.com/items/123',\n",
       "   'barcode': 'A1234',\n",
       "   'dueDate': '2023-10-21T08:00:00Z',\n",
       "   'callNumber': '005.133 PYT',\n",
       "   'numberOfRenewals': 0,\n",
       "   'outDate': '2023-10-07T08:00:00Z'},\n",
       "  {'id': 'https://example.com/checkouts/124',\n",
       "   'item': 'https://example.com/items/123',\n",
       "   'barcode': 'A1235',\n",
       "   'dueDate': '2023-10-21T08:00:00Z',\n",
       "   'callNumber': '005.133 PYT',\n",
       "   'numberOfRenewals': 0,\n",
       "   'outDate': '2023-10-07T08:00:00Z'},\n",
       "  {'id': 'https://example.com/checkouts/125',\n",
       "   'item': 'https://example.com/items/125',\n",
       "   'barcode': 'A1236',\n",
       "   'dueDate': '2023-10-21T08:00:00Z',\n",
       "   'callNumber': '005.133 PYT',\n",
       "   'numberOfRenewals': 0,\n",
       "   'outDate': '2023-10-07T08:00:00Z'}]}"
      ]
     },
     "execution_count": 11,
     "metadata": {},
     "output_type": "execute_result"
    }
   ],
   "source": [
    "json_manipulator.json_obj"
   ]
  }
 ],
 "metadata": {
  "kernelspec": {
   "display_name": "venv",
   "language": "python",
   "name": "python3"
  },
  "language_info": {
   "codemirror_mode": {
    "name": "ipython",
    "version": 3
   },
   "file_extension": ".py",
   "mimetype": "text/x-python",
   "name": "python",
   "nbconvert_exporter": "python",
   "pygments_lexer": "ipython3",
   "version": "3.10.13"
  },
  "orig_nbformat": 4
 },
 "nbformat": 4,
 "nbformat_minor": 2
}
