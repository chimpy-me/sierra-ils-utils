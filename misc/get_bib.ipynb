{
 "cells": [
  {
   "cell_type": "code",
   "execution_count": 1,
   "metadata": {},
   "outputs": [],
   "source": [
    "import json\n",
    "from sierra_ils_utils import SierraRESTAPI\n",
    "\n",
    "# from google.colab import userdata\n",
    "\n",
    "with open('./.config.json') as f:\n",
    "  config = json.load(f)\n",
    "\n",
    "sierra = SierraRESTAPI(\n",
    "    # sierra_api_base_url=userdata.get('sierra_api_base_url'),\n",
    "    sierra_api_base_url=config.get('sierra_api_base_url'),\n",
    "    # sierra_api_key=userdata.get('sierra_api_key'),\n",
    "    sierra_api_key=config.get('sierra_api_key'),\n",
    "    # sierra_api_secret=userdata.get('sierra_api_secret'),\n",
    "    sierra_api_secret=config.get('sierra_api_secret')\n",
    ")\n",
    "\n",
    "# https://classic.cincinnatilibrary.org:443/iii/sierra-api/v6/bibs/?limit=10&fields=default%2Cmarc&deleted=false&suppressed=false\n",
    "result = sierra.get(\n",
    "    'bibs/',\n",
    "    params={\n",
    "        'limit': 1,\n",
    "        'fields': 'default',\n",
    "        'deleted': False,\n",
    "        'suppressed': False,\n",
    "    }\n",
    ")"
   ]
  },
  {
   "cell_type": "code",
   "execution_count": 2,
   "metadata": {},
   "outputs": [
    {
     "name": "stdout",
     "output_type": "stream",
     "text": [
      "name='Bibs_Read' tokenLifetime=3600 permissions=['Bibs_Filter', 'Bibs_List', 'Bibs_Metadata_Read', 'Bibs_Read', 'Bibs_Read_Marc', 'Bibs_Search']\n",
      "name='Bibs_Write' tokenLifetime=3600 permissions=['Bibs_Create', 'Bibs_Delete', 'Bibs_Delete_Marc', 'Bibs_Update']\n"
     ]
    }
   ],
   "source": [
    "result = sierra.get('info/token')\n",
    "\n",
    "for role in [role for role in result.data.roles if 'bib' in role.name.lower()]:\n",
    "  print(role)"
   ]
  },
  {
   "cell_type": "code",
   "execution_count": 24,
   "metadata": {},
   "outputs": [],
   "source": [
    "# https://classic.cincinnatilibrary.org:443/iii/sierra-api/v6/bibs/?limit=10&fields=default%2Cmarc&deleted=false&suppressed=false\n",
    "result = sierra.get(\n",
    "    'bibs/',\n",
    "    params={\n",
    "        'limit': 1,\n",
    "        'fields': 'default,marc,normTitle,normAuthor,callNumber',\n",
    "        'deleted': False,\n",
    "        'suppressed': False,\n",
    "    }\n",
    ")"
   ]
  },
  {
   "cell_type": "code",
   "execution_count": 26,
   "metadata": {},
   "outputs": [
    {
     "name": "stdout",
     "output_type": "stream",
     "text": [
      "Garinger, Alan, 1932-\n",
      "garinger alan 1932\n",
      "001.944 G232, 1991\n",
      "Garinger, Alan, 1932-\n"
     ]
    }
   ],
   "source": [
    "# print(result.data.entries[0].marc.author)\n",
    "\n",
    "for bib in result.data.entries:\n",
    "    print(\n",
    "        f\"\"\"\\\n",
    "        bib.callNumber\n",
    "        bib.author\n",
    "        bib.normAuthor\n",
    "        bib.marc.author \\\n",
    "        \"\"\""
   ]
  },
  {
   "cell_type": "code",
   "execution_count": 23,
   "metadata": {},
   "outputs": [
    {
     "data": {
      "text/plain": [
       "'001.944 G232, 1991'"
      ]
     },
     "execution_count": 23,
     "metadata": {},
     "output_type": "execute_result"
    }
   ],
   "source": [
    "bib.callNumber"
   ]
  },
  {
   "cell_type": "code",
   "execution_count": 35,
   "metadata": {},
   "outputs": [],
   "source": [
    "import json\n",
    "import pymarc\n",
    "\n",
    "marc_json = json.dumps(result.raw_response.json()['entries'][0]['marc'])\n",
    "reader = pymarc.reader.JSONReader(marc_json)\n"
   ]
  },
  {
   "cell_type": "code",
   "execution_count": 58,
   "metadata": {},
   "outputs": [
    {
     "name": "stdout",
     "output_type": "stream",
     "text": [
      "=LDR  00000cam  2200000 a 4500\n",
      "=100  1\\$aGaringer, Alan,$d1932-\n",
      "=092  \\\\$a001.944$bG232, 1991\n",
      "=650  \\0$aSea monsters$zUnited States$xJuvenile literature.\n",
      "=020  \\\\$a0899080871 (lib.) :$c$13.95\n",
      "=010  \\\\$a   91015174 /AC\n",
      "=504  \\\\$aIncludes bibliographical references (p. 91) and index.\n",
      "=520  \\\\$aExplores the reports and evidence for the existence of mysterious large creatures allegedly living in certain lakes and rivers of the United States.\n",
      "=001  OC\\00789480\n",
      "=035  \\\\$a(OCoLC)23582600\n",
      "=260  \\\\$aSan Diego, Calif. :$bGreenhaven Press,$cc1991.\n",
      "=300  \\\\$a96 p. :$bill. ;$c24 cm.\n",
      "=490  1\\$aGreat mysteries\n",
      "=830  \\0$aGreat mysteries (Saint Paul, Minn.)\n",
      "=245  10$aWater monsters :$bopposing viewpoints /$cby Alan Garinger.\n",
      "=944  \\\\$a1\n",
      "=003  OC\n",
      "=008  910327s1991\\\\\\\\caua\\\\\\j\\b\\\\\\\\001\\0\\eng\\\\cam\\a\\\n",
      "=005  19920514122919.0\n",
      "=040  \\\\$aDLC$cDLC$dOCP\n",
      "=043  \\\\$an-us---\n",
      "=049  11$aOCPP\n",
      "=050  00$aGR105$b.G37 1991\n",
      "=941  \\\\$a19920511$b19920511$cBATCH$d0\n",
      "=959  2\\$aD_KELLEY  $bD_KELLEY  $d05/14/1992\n",
      "=959  75$aQPGMR$d08/20/1993$tTAG 049 RESET TO DEFAULT VALUE...\n",
      "\n"
     ]
    }
   ],
   "source": [
    "record = next(reader.__iter__())\n",
    "print(record)"
   ]
  },
  {
   "cell_type": "code",
   "execution_count": 53,
   "metadata": {},
   "outputs": [
    {
     "name": "stdout",
     "output_type": "stream",
     "text": [
      "=LDR  00000cam  2200000 a 4500\n",
      "=100  1\\$aGaringer, Alan,$d1932-\n",
      "=092  \\\\$a001.944$bG232, 1991\n",
      "=650  \\0$aSea monsters$zUnited States$xJuvenile literature.\n",
      "=020  \\\\$a0899080871 (lib.) :$c$13.95\n",
      "=010  \\\\$a   91015174 /AC\n",
      "=504  \\\\$aIncludes bibliographical references (p. 91) and index.\n",
      "=520  \\\\$aExplores the reports and evidence for the existence of mysterious large creatures allegedly living in certain lakes and rivers of the United States.\n",
      "=001  OC\\00789480\n",
      "=035  \\\\$a(OCoLC)23582600\n",
      "=260  \\\\$aSan Diego, Calif. :$bGreenhaven Press,$cc1991.\n",
      "=300  \\\\$a96 p. :$bill. ;$c24 cm.\n",
      "=490  1\\$aGreat mysteries\n",
      "=830  \\0$aGreat mysteries (Saint Paul, Minn.)\n",
      "=245  10$aWater monsters :$bopposing viewpoints /$cby Alan Garinger.\n",
      "=944  \\\\$a1\n",
      "=003  OC\n",
      "=008  910327s1991\\\\\\\\caua\\\\\\j\\b\\\\\\\\001\\0\\eng\\\\cam\\a\\\n",
      "=005  19920514122919.0\n",
      "=040  \\\\$aDLC$cDLC$dOCP\n",
      "=043  \\\\$an-us---\n",
      "=049  11$aOCPP\n",
      "=050  00$aGR105$b.G37 1991\n",
      "=941  \\\\$a19920511$b19920511$cBATCH$d0\n",
      "=959  2\\$aD_KELLEY  $bD_KELLEY  $d05/14/1992\n",
      "=959  75$aQPGMR$d08/20/1993$tTAG 049 RESET TO DEFAULT VALUE...\n",
      "\n"
     ]
    }
   ],
   "source": []
  },
  {
   "cell_type": "code",
   "execution_count": 9,
   "metadata": {},
   "outputs": [
    {
     "name": "stdout",
     "output_type": "stream",
     "text": [
      "id='1000001' updatedDate='2021-10-07T13:52:27Z' createdDate='2012-06-19T22:48:06Z' deletedDate=None deleted=False suppressed=False available=None lang=Language(code='eng', name='English') title='Water monsters : opposing viewpoints' author='Garinger, Alan, 1932-' marc={'leader': '00000cam  2200000 a 4500', 'fields': [{'100': {'subfields': [{'a': 'Garinger, Alan,'}, {'d': '1932-'}], 'ind1': '1', 'ind2': ' '}}, {'092': {'subfields': [{'a': '001.944'}, {'b': 'G232, 1991'}], 'ind1': ' ', 'ind2': ' '}}, {'650': {'subfields': [{'a': 'Sea monsters'}, {'z': 'United States'}, {'x': 'Juvenile literature.'}], 'ind1': ' ', 'ind2': '0'}}, {'020': {'subfields': [{'a': '0899080871 (lib.) :'}, {'c': '$13.95'}], 'ind1': ' ', 'ind2': ' '}}, {'010': {'subfields': [{'a': '   91015174 /AC'}], 'ind1': ' ', 'ind2': ' '}}, {'504': {'subfields': [{'a': 'Includes bibliographical references (p. 91) and index.'}], 'ind1': ' ', 'ind2': ' '}}, {'520': {'subfields': [{'a': 'Explores the reports and evidence for the existence of mysterious large creatures allegedly living in certain lakes and rivers of the United States.'}], 'ind1': ' ', 'ind2': ' '}}, {'001': 'OC 00789480'}, {'035': {'subfields': [{'a': '(OCoLC)23582600'}], 'ind1': ' ', 'ind2': ' '}}, {'260': {'subfields': [{'a': 'San Diego, Calif. :'}, {'b': 'Greenhaven Press,'}, {'c': 'c1991.'}], 'ind1': ' ', 'ind2': ' '}}, {'300': {'subfields': [{'a': '96 p. :'}, {'b': 'ill. ;'}, {'c': '24 cm.'}], 'ind1': ' ', 'ind2': ' '}}, {'490': {'subfields': [{'a': 'Great mysteries'}], 'ind1': '1', 'ind2': ' '}}, {'830': {'subfields': [{'a': 'Great mysteries (Saint Paul, Minn.)'}], 'ind1': ' ', 'ind2': '0'}}, {'245': {'subfields': [{'a': 'Water monsters :'}, {'b': 'opposing viewpoints /'}, {'c': 'by Alan Garinger.'}], 'ind1': '1', 'ind2': '0'}}, {'944': {'subfields': [{'a': '1'}], 'ind1': ' ', 'ind2': ' '}}, {'003': 'OC'}, {'008': '910327s1991    caua   j b    001 0 eng  cam a '}, {'005': '19920514122919.0'}, {'040': {'subfields': [{'a': 'DLC'}, {'c': 'DLC'}, {'d': 'OCP'}], 'ind1': ' ', 'ind2': ' '}}, {'043': {'subfields': [{'a': 'n-us---'}], 'ind1': ' ', 'ind2': ' '}}, {'049': {'subfields': [{'a': 'OCPP'}], 'ind1': '1', 'ind2': '1'}}, {'050': {'subfields': [{'a': 'GR105'}, {'b': '.G37 1991'}], 'ind1': '0', 'ind2': '0'}}, {'941': {'subfields': [{'a': '19920511'}, {'b': '19920511'}, {'c': 'BATCH'}, {'d': '0'}], 'ind1': ' ', 'ind2': ' '}}, {'959': {'subfields': [{'a': 'D_KELLEY  '}, {'b': 'D_KELLEY  '}, {'d': '05/14/1992'}], 'ind1': '2', 'ind2': ' '}}, {'959': {'subfields': [{'a': 'QPGMR'}, {'d': '08/20/1993'}, {'t': 'TAG 049 RESET TO DEFAULT VALUE...'}], 'ind1': '7', 'ind2': '5'}}]} materialType=MaterialType(code='a  ', value='Book') bibLevel=BibLevel(code='m', value='MONOGRAPH') publishYear=1991 catalogDate='1992-05-11' country=Country(code='cau', name='California') orders=None normTitle=None normAuthor=None locations=None holdCount=None copies=None callNumber='001.944 G232, 1991' volumes=None items=None fixedFields=None varFields=None\n"
     ]
    }
   ],
   "source": [
    "for bib in result.data.entries:\n",
    "    print(bib)"
   ]
  },
  {
   "cell_type": "code",
   "execution_count": 13,
   "metadata": {},
   "outputs": [
    {
     "data": {
      "text/plain": [
       "'Garinger, Alan, 1932-'"
      ]
     },
     "execution_count": 13,
     "metadata": {},
     "output_type": "execute_result"
    }
   ],
   "source": [
    "bib.author"
   ]
  },
  {
   "cell_type": "code",
   "execution_count": 18,
   "metadata": {},
   "outputs": [
    {
     "data": {
      "text/plain": [
       "[{'id': '1000001',\n",
       "  'updatedDate': '2021-10-07T13:52:27Z',\n",
       "  'createdDate': '2012-06-19T22:48:06Z',\n",
       "  'deleted': False,\n",
       "  'suppressed': False,\n",
       "  'isbn': '0899080871',\n",
       "  'lang': {'code': 'eng', 'name': 'English'},\n",
       "  'title': 'Water monsters : opposing viewpoints',\n",
       "  'author': 'Garinger, Alan, 1932-',\n",
       "  'marc': {'leader': '00000cam  2200000 a 4500',\n",
       "   'fields': [{'100': {'subfields': [{'a': 'Garinger, Alan,'}, {'d': '1932-'}],\n",
       "      'ind1': '1',\n",
       "      'ind2': ' '}},\n",
       "    {'092': {'subfields': [{'a': '001.944'}, {'b': 'G232, 1991'}],\n",
       "      'ind1': ' ',\n",
       "      'ind2': ' '}},\n",
       "    {'650': {'subfields': [{'a': 'Sea monsters'},\n",
       "       {'z': 'United States'},\n",
       "       {'x': 'Juvenile literature.'}],\n",
       "      'ind1': ' ',\n",
       "      'ind2': '0'}},\n",
       "    {'020': {'subfields': [{'a': '0899080871 (lib.) :'}, {'c': '$13.95'}],\n",
       "      'ind1': ' ',\n",
       "      'ind2': ' '}},\n",
       "    {'010': {'subfields': [{'a': '   91015174 /AC'}],\n",
       "      'ind1': ' ',\n",
       "      'ind2': ' '}},\n",
       "    {'504': {'subfields': [{'a': 'Includes bibliographical references (p. 91) and index.'}],\n",
       "      'ind1': ' ',\n",
       "      'ind2': ' '}},\n",
       "    {'520': {'subfields': [{'a': 'Explores the reports and evidence for the existence of mysterious large creatures allegedly living in certain lakes and rivers of the United States.'}],\n",
       "      'ind1': ' ',\n",
       "      'ind2': ' '}},\n",
       "    {'001': 'OC 00789480'},\n",
       "    {'035': {'subfields': [{'a': '(OCoLC)23582600'}],\n",
       "      'ind1': ' ',\n",
       "      'ind2': ' '}},\n",
       "    {'260': {'subfields': [{'a': 'San Diego, Calif. :'},\n",
       "       {'b': 'Greenhaven Press,'},\n",
       "       {'c': 'c1991.'}],\n",
       "      'ind1': ' ',\n",
       "      'ind2': ' '}},\n",
       "    {'300': {'subfields': [{'a': '96 p. :'}, {'b': 'ill. ;'}, {'c': '24 cm.'}],\n",
       "      'ind1': ' ',\n",
       "      'ind2': ' '}},\n",
       "    {'490': {'subfields': [{'a': 'Great mysteries'}],\n",
       "      'ind1': '1',\n",
       "      'ind2': ' '}},\n",
       "    {'830': {'subfields': [{'a': 'Great mysteries (Saint Paul, Minn.)'}],\n",
       "      'ind1': ' ',\n",
       "      'ind2': '0'}},\n",
       "    {'245': {'subfields': [{'a': 'Water monsters :'},\n",
       "       {'b': 'opposing viewpoints /'},\n",
       "       {'c': 'by Alan Garinger.'}],\n",
       "      'ind1': '1',\n",
       "      'ind2': '0'}},\n",
       "    {'944': {'subfields': [{'a': '1'}], 'ind1': ' ', 'ind2': ' '}},\n",
       "    {'003': 'OC'},\n",
       "    {'008': '910327s1991    caua   j b    001 0 eng  cam a '},\n",
       "    {'005': '19920514122919.0'},\n",
       "    {'040': {'subfields': [{'a': 'DLC'}, {'c': 'DLC'}, {'d': 'OCP'}],\n",
       "      'ind1': ' ',\n",
       "      'ind2': ' '}},\n",
       "    {'043': {'subfields': [{'a': 'n-us---'}], 'ind1': ' ', 'ind2': ' '}},\n",
       "    {'049': {'subfields': [{'a': 'OCPP'}], 'ind1': '1', 'ind2': '1'}},\n",
       "    {'050': {'subfields': [{'a': 'GR105'}, {'b': '.G37 1991'}],\n",
       "      'ind1': '0',\n",
       "      'ind2': '0'}},\n",
       "    {'941': {'subfields': [{'a': '19920511'},\n",
       "       {'b': '19920511'},\n",
       "       {'c': 'BATCH'},\n",
       "       {'d': '0'}],\n",
       "      'ind1': ' ',\n",
       "      'ind2': ' '}},\n",
       "    {'959': {'subfields': [{'a': 'D_KELLEY  '},\n",
       "       {'b': 'D_KELLEY  '},\n",
       "       {'d': '05/14/1992'}],\n",
       "      'ind1': '2',\n",
       "      'ind2': ' '}},\n",
       "    {'959': {'subfields': [{'a': 'QPGMR'},\n",
       "       {'d': '08/20/1993'},\n",
       "       {'t': 'TAG 049 RESET TO DEFAULT VALUE...'}],\n",
       "      'ind1': '7',\n",
       "      'ind2': '5'}}]},\n",
       "  'materialType': {'code': 'a  ', 'value': 'Book'},\n",
       "  'bibLevel': {'code': 'm', 'value': 'MONOGRAPH'},\n",
       "  'publishYear': 1991,\n",
       "  'catalogDate': '1992-05-11',\n",
       "  'country': {'code': 'cau', 'name': 'California'},\n",
       "  'callNumber': '001.944 G232, 1991'}]"
      ]
     },
     "execution_count": 18,
     "metadata": {},
     "output_type": "execute_result"
    }
   ],
   "source": [
    "response_dict = result.raw_response.json()\n",
    "\n",
    "marc_data = response_dict.get('marc')\n",
    "\n",
    "response_dict.get('entries')\n",
    "\n",
    "# reader = pymarc.reader.JSONReader(json.dumps(marc_data))  # JSONReader(marc_data)\n",
    "\n"
   ]
  },
  {
   "cell_type": "code",
   "execution_count": 19,
   "metadata": {},
   "outputs": [
    {
     "data": {
      "text/plain": [
       "'{\"total\":1,\"start\":0,\"entries\":[{\"id\":\"1000001\",\"updatedDate\":\"2021-10-07T13:52:27Z\",\"createdDate\":\"2012-06-19T22:48:06Z\",\"deleted\":false,\"suppressed\":false,\"isbn\":\"0899080871\",\"lang\":{\"code\":\"eng\",\"name\":\"English\"},\"title\":\"Water monsters : opposing viewpoints\",\"author\":\"Garinger, Alan, 1932-\",\"marc\":{\"leader\":\"00000cam  2200000 a 4500\",\"fields\":[{\"100\":{\"subfields\":[{\"a\":\"Garinger, Alan,\"},{\"d\":\"1932-\"}],\"ind1\":\"1\",\"ind2\":\" \"}},{\"092\":{\"subfields\":[{\"a\":\"001.944\"},{\"b\":\"G232, 1991\"}],\"ind1\":\" \",\"ind2\":\" \"}},{\"650\":{\"subfields\":[{\"a\":\"Sea monsters\"},{\"z\":\"United States\"},{\"x\":\"Juvenile literature.\"}],\"ind1\":\" \",\"ind2\":\"0\"}},{\"020\":{\"subfields\":[{\"a\":\"0899080871 (lib.) :\"},{\"c\":\"$13.95\"}],\"ind1\":\" \",\"ind2\":\" \"}},{\"010\":{\"subfields\":[{\"a\":\"   91015174 /AC\"}],\"ind1\":\" \",\"ind2\":\" \"}},{\"504\":{\"subfields\":[{\"a\":\"Includes bibliographical references (p. 91) and index.\"}],\"ind1\":\" \",\"ind2\":\" \"}},{\"520\":{\"subfields\":[{\"a\":\"Explores the reports and evidence for the existence of mysterious large creatures allegedly living in certain lakes and rivers of the United States.\"}],\"ind1\":\" \",\"ind2\":\" \"}},{\"001\":\"OC 00789480\"},{\"035\":{\"subfields\":[{\"a\":\"(OCoLC)23582600\"}],\"ind1\":\" \",\"ind2\":\" \"}},{\"260\":{\"subfields\":[{\"a\":\"San Diego, Calif. :\"},{\"b\":\"Greenhaven Press,\"},{\"c\":\"c1991.\"}],\"ind1\":\" \",\"ind2\":\" \"}},{\"300\":{\"subfields\":[{\"a\":\"96 p. :\"},{\"b\":\"ill. ;\"},{\"c\":\"24 cm.\"}],\"ind1\":\" \",\"ind2\":\" \"}},{\"490\":{\"subfields\":[{\"a\":\"Great mysteries\"}],\"ind1\":\"1\",\"ind2\":\" \"}},{\"830\":{\"subfields\":[{\"a\":\"Great mysteries (Saint Paul, Minn.)\"}],\"ind1\":\" \",\"ind2\":\"0\"}},{\"245\":{\"subfields\":[{\"a\":\"Water monsters :\"},{\"b\":\"opposing viewpoints /\"},{\"c\":\"by Alan Garinger.\"}],\"ind1\":\"1\",\"ind2\":\"0\"}},{\"944\":{\"subfields\":[{\"a\":\"1\"}],\"ind1\":\" \",\"ind2\":\" \"}},{\"003\":\"OC\"},{\"008\":\"910327s1991    caua   j b    001 0 eng  cam a \"},{\"005\":\"19920514122919.0\"},{\"040\":{\"subfields\":[{\"a\":\"DLC\"},{\"c\":\"DLC\"},{\"d\":\"OCP\"}],\"ind1\":\" \",\"ind2\":\" \"}},{\"043\":{\"subfields\":[{\"a\":\"n-us---\"}],\"ind1\":\" \",\"ind2\":\" \"}},{\"049\":{\"subfields\":[{\"a\":\"OCPP\"}],\"ind1\":\"1\",\"ind2\":\"1\"}},{\"050\":{\"subfields\":[{\"a\":\"GR105\"},{\"b\":\".G37 1991\"}],\"ind1\":\"0\",\"ind2\":\"0\"}},{\"941\":{\"subfields\":[{\"a\":\"19920511\"},{\"b\":\"19920511\"},{\"c\":\"BATCH\"},{\"d\":\"0\"}],\"ind1\":\" \",\"ind2\":\" \"}},{\"959\":{\"subfields\":[{\"a\":\"D_KELLEY  \"},{\"b\":\"D_KELLEY  \"},{\"d\":\"05/14/1992\"}],\"ind1\":\"2\",\"ind2\":\" \"}},{\"959\":{\"subfields\":[{\"a\":\"QPGMR\"},{\"d\":\"08/20/1993\"},{\"t\":\"TAG 049 RESET TO DEFAULT VALUE...\"}],\"ind1\":\"7\",\"ind2\":\"5\"}}]},\"materialType\":{\"code\":\"a  \",\"value\":\"Book\"},\"bibLevel\":{\"code\":\"m\",\"value\":\"MONOGRAPH\"},\"publishYear\":1991,\"catalogDate\":\"1992-05-11\",\"country\":{\"code\":\"cau\",\"name\":\"California\"},\"callNumber\":\"001.944 G232, 1991\"}]}'"
      ]
     },
     "execution_count": 19,
     "metadata": {},
     "output_type": "execute_result"
    }
   ],
   "source": [
    "result.raw_response.text"
   ]
  },
  {
   "cell_type": "code",
   "execution_count": 17,
   "metadata": {},
   "outputs": [
    {
     "data": {
      "text/plain": [
       "[{'id': '1000001',\n",
       "  'updatedDate': '2021-10-07T13:52:27Z',\n",
       "  'createdDate': '2012-06-19T22:48:06Z',\n",
       "  'deleted': False,\n",
       "  'suppressed': False,\n",
       "  'isbn': '0899080871',\n",
       "  'lang': {'code': 'eng', 'name': 'English'},\n",
       "  'title': 'Water monsters : opposing viewpoints',\n",
       "  'author': 'Garinger, Alan, 1932-',\n",
       "  'marc': {'leader': '00000cam  2200000 a 4500',\n",
       "   'fields': [{'100': {'subfields': [{'a': 'Garinger, Alan,'}, {'d': '1932-'}],\n",
       "      'ind1': '1',\n",
       "      'ind2': ' '}},\n",
       "    {'092': {'subfields': [{'a': '001.944'}, {'b': 'G232, 1991'}],\n",
       "      'ind1': ' ',\n",
       "      'ind2': ' '}},\n",
       "    {'650': {'subfields': [{'a': 'Sea monsters'},\n",
       "       {'z': 'United States'},\n",
       "       {'x': 'Juvenile literature.'}],\n",
       "      'ind1': ' ',\n",
       "      'ind2': '0'}},\n",
       "    {'020': {'subfields': [{'a': '0899080871 (lib.) :'}, {'c': '$13.95'}],\n",
       "      'ind1': ' ',\n",
       "      'ind2': ' '}},\n",
       "    {'010': {'subfields': [{'a': '   91015174 /AC'}],\n",
       "      'ind1': ' ',\n",
       "      'ind2': ' '}},\n",
       "    {'504': {'subfields': [{'a': 'Includes bibliographical references (p. 91) and index.'}],\n",
       "      'ind1': ' ',\n",
       "      'ind2': ' '}},\n",
       "    {'520': {'subfields': [{'a': 'Explores the reports and evidence for the existence of mysterious large creatures allegedly living in certain lakes and rivers of the United States.'}],\n",
       "      'ind1': ' ',\n",
       "      'ind2': ' '}},\n",
       "    {'001': 'OC 00789480'},\n",
       "    {'035': {'subfields': [{'a': '(OCoLC)23582600'}],\n",
       "      'ind1': ' ',\n",
       "      'ind2': ' '}},\n",
       "    {'260': {'subfields': [{'a': 'San Diego, Calif. :'},\n",
       "       {'b': 'Greenhaven Press,'},\n",
       "       {'c': 'c1991.'}],\n",
       "      'ind1': ' ',\n",
       "      'ind2': ' '}},\n",
       "    {'300': {'subfields': [{'a': '96 p. :'}, {'b': 'ill. ;'}, {'c': '24 cm.'}],\n",
       "      'ind1': ' ',\n",
       "      'ind2': ' '}},\n",
       "    {'490': {'subfields': [{'a': 'Great mysteries'}],\n",
       "      'ind1': '1',\n",
       "      'ind2': ' '}},\n",
       "    {'830': {'subfields': [{'a': 'Great mysteries (Saint Paul, Minn.)'}],\n",
       "      'ind1': ' ',\n",
       "      'ind2': '0'}},\n",
       "    {'245': {'subfields': [{'a': 'Water monsters :'},\n",
       "       {'b': 'opposing viewpoints /'},\n",
       "       {'c': 'by Alan Garinger.'}],\n",
       "      'ind1': '1',\n",
       "      'ind2': '0'}},\n",
       "    {'944': {'subfields': [{'a': '1'}], 'ind1': ' ', 'ind2': ' '}},\n",
       "    {'003': 'OC'},\n",
       "    {'008': '910327s1991    caua   j b    001 0 eng  cam a '},\n",
       "    {'005': '19920514122919.0'},\n",
       "    {'040': {'subfields': [{'a': 'DLC'}, {'c': 'DLC'}, {'d': 'OCP'}],\n",
       "      'ind1': ' ',\n",
       "      'ind2': ' '}},\n",
       "    {'043': {'subfields': [{'a': 'n-us---'}], 'ind1': ' ', 'ind2': ' '}},\n",
       "    {'049': {'subfields': [{'a': 'OCPP'}], 'ind1': '1', 'ind2': '1'}},\n",
       "    {'050': {'subfields': [{'a': 'GR105'}, {'b': '.G37 1991'}],\n",
       "      'ind1': '0',\n",
       "      'ind2': '0'}},\n",
       "    {'941': {'subfields': [{'a': '19920511'},\n",
       "       {'b': '19920511'},\n",
       "       {'c': 'BATCH'},\n",
       "       {'d': '0'}],\n",
       "      'ind1': ' ',\n",
       "      'ind2': ' '}},\n",
       "    {'959': {'subfields': [{'a': 'D_KELLEY  '},\n",
       "       {'b': 'D_KELLEY  '},\n",
       "       {'d': '05/14/1992'}],\n",
       "      'ind1': '2',\n",
       "      'ind2': ' '}},\n",
       "    {'959': {'subfields': [{'a': 'QPGMR'},\n",
       "       {'d': '08/20/1993'},\n",
       "       {'t': 'TAG 049 RESET TO DEFAULT VALUE...'}],\n",
       "      'ind1': '7',\n",
       "      'ind2': '5'}}]},\n",
       "  'materialType': {'code': 'a  ', 'value': 'Book'},\n",
       "  'bibLevel': {'code': 'm', 'value': 'MONOGRAPH'},\n",
       "  'publishYear': 1991,\n",
       "  'catalogDate': '1992-05-11',\n",
       "  'country': {'code': 'cau', 'name': 'California'},\n",
       "  'callNumber': '001.944 G232, 1991'}]"
      ]
     },
     "execution_count": 17,
     "metadata": {},
     "output_type": "execute_result"
    }
   ],
   "source": []
  },
  {
   "cell_type": "code",
   "execution_count": 21,
   "metadata": {},
   "outputs": [
    {
     "data": {
      "text/plain": [
       "{'leader': '00000cam  2200000 a 4500',\n",
       " 'fields': [{'100': {'subfields': [{'a': 'Garinger, Alan,'}, {'d': '1932-'}],\n",
       "    'ind1': '1',\n",
       "    'ind2': ' '}},\n",
       "  {'092': {'subfields': [{'a': '001.944'}, {'b': 'G232, 1991'}],\n",
       "    'ind1': ' ',\n",
       "    'ind2': ' '}},\n",
       "  {'650': {'subfields': [{'a': 'Sea monsters'},\n",
       "     {'z': 'United States'},\n",
       "     {'x': 'Juvenile literature.'}],\n",
       "    'ind1': ' ',\n",
       "    'ind2': '0'}},\n",
       "  {'020': {'subfields': [{'a': '0899080871 (lib.) :'}, {'c': '$13.95'}],\n",
       "    'ind1': ' ',\n",
       "    'ind2': ' '}},\n",
       "  {'010': {'subfields': [{'a': '   91015174 /AC'}], 'ind1': ' ', 'ind2': ' '}},\n",
       "  {'504': {'subfields': [{'a': 'Includes bibliographical references (p. 91) and index.'}],\n",
       "    'ind1': ' ',\n",
       "    'ind2': ' '}},\n",
       "  {'520': {'subfields': [{'a': 'Explores the reports and evidence for the existence of mysterious large creatures allegedly living in certain lakes and rivers of the United States.'}],\n",
       "    'ind1': ' ',\n",
       "    'ind2': ' '}},\n",
       "  {'001': 'OC 00789480'},\n",
       "  {'035': {'subfields': [{'a': '(OCoLC)23582600'}], 'ind1': ' ', 'ind2': ' '}},\n",
       "  {'260': {'subfields': [{'a': 'San Diego, Calif. :'},\n",
       "     {'b': 'Greenhaven Press,'},\n",
       "     {'c': 'c1991.'}],\n",
       "    'ind1': ' ',\n",
       "    'ind2': ' '}},\n",
       "  {'300': {'subfields': [{'a': '96 p. :'}, {'b': 'ill. ;'}, {'c': '24 cm.'}],\n",
       "    'ind1': ' ',\n",
       "    'ind2': ' '}},\n",
       "  {'490': {'subfields': [{'a': 'Great mysteries'}], 'ind1': '1', 'ind2': ' '}},\n",
       "  {'830': {'subfields': [{'a': 'Great mysteries (Saint Paul, Minn.)'}],\n",
       "    'ind1': ' ',\n",
       "    'ind2': '0'}},\n",
       "  {'245': {'subfields': [{'a': 'Water monsters :'},\n",
       "     {'b': 'opposing viewpoints /'},\n",
       "     {'c': 'by Alan Garinger.'}],\n",
       "    'ind1': '1',\n",
       "    'ind2': '0'}},\n",
       "  {'944': {'subfields': [{'a': '1'}], 'ind1': ' ', 'ind2': ' '}},\n",
       "  {'003': 'OC'},\n",
       "  {'008': '910327s1991    caua   j b    001 0 eng  cam a '},\n",
       "  {'005': '19920514122919.0'},\n",
       "  {'040': {'subfields': [{'a': 'DLC'}, {'c': 'DLC'}, {'d': 'OCP'}],\n",
       "    'ind1': ' ',\n",
       "    'ind2': ' '}},\n",
       "  {'043': {'subfields': [{'a': 'n-us---'}], 'ind1': ' ', 'ind2': ' '}},\n",
       "  {'049': {'subfields': [{'a': 'OCPP'}], 'ind1': '1', 'ind2': '1'}},\n",
       "  {'050': {'subfields': [{'a': 'GR105'}, {'b': '.G37 1991'}],\n",
       "    'ind1': '0',\n",
       "    'ind2': '0'}},\n",
       "  {'941': {'subfields': [{'a': '19920511'},\n",
       "     {'b': '19920511'},\n",
       "     {'c': 'BATCH'},\n",
       "     {'d': '0'}],\n",
       "    'ind1': ' ',\n",
       "    'ind2': ' '}},\n",
       "  {'959': {'subfields': [{'a': 'D_KELLEY  '},\n",
       "     {'b': 'D_KELLEY  '},\n",
       "     {'d': '05/14/1992'}],\n",
       "    'ind1': '2',\n",
       "    'ind2': ' '}},\n",
       "  {'959': {'subfields': [{'a': 'QPGMR'},\n",
       "     {'d': '08/20/1993'},\n",
       "     {'t': 'TAG 049 RESET TO DEFAULT VALUE...'}],\n",
       "    'ind1': '7',\n",
       "    'ind2': '5'}}]}"
      ]
     },
     "execution_count": 21,
     "metadata": {},
     "output_type": "execute_result"
    }
   ],
   "source": [
    "record.records"
   ]
  }
 ],
 "metadata": {
  "kernelspec": {
   "display_name": "venv",
   "language": "python",
   "name": "python3"
  },
  "language_info": {
   "codemirror_mode": {
    "name": "ipython",
    "version": 3
   },
   "file_extension": ".py",
   "mimetype": "text/x-python",
   "name": "python",
   "nbconvert_exporter": "python",
   "pygments_lexer": "ipython3",
   "version": "3.10.13"
  }
 },
 "nbformat": 4,
 "nbformat_minor": 2
}
