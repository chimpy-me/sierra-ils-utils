{
 "cells": [
  {
   "cell_type": "code",
   "execution_count": 2,
   "metadata": {},
   "outputs": [],
   "source": [
    "from sierra_ils_utils import SierraAPI, Models\n",
    "import json\n",
    "\n",
    "with open('./.config.json') as f:\n",
    "  config = json.load(f)\n",
    "\n",
    "sierra_api = SierraAPI(\n",
    "    sierra_api_base_url=config.get('sierra_api_base_url'),\n",
    "    sierra_api_key=config.get('sierra_api_key'),\n",
    "    sierra_api_secret=config.get('sierra_api_secret')\n",
    ")\n",
    "\n",
    "# result = sierra.get(\n",
    "#     'bibs/',\n",
    "#     params={\n",
    "#         'limit': 1,\n",
    "#         'fields': ',',\n",
    "#     }\n",
    "# )\n",
    "\n",
    "result = sierra_api.get('info/token')"
   ]
  },
  {
   "cell_type": "code",
   "execution_count": 5,
   "metadata": {},
   "outputs": [
    {
     "data": {
      "text/plain": [
       "'Bearer HUIOp3FT8KegAs_o_GutHPQG6Il1-kT3ZOOYcmlpQuhDx-UytUXUOGBIOegOlnyblMbej7076W2Uz7DN1WQqSKNq3K7wHaKH-6bGxXDMOw0TNxnQwrG1zxcN6L8nMkBY_Zu5MWql69-izPoNl3G159Ixv23wgIH9BHMYR4BbwdY'"
      ]
     },
     "execution_count": 5,
     "metadata": {},
     "output_type": "execute_result"
    }
   ],
   "source": [
    "# sierra_api.session\n",
    "\n",
    "sierra_api.session.headers['Authorization']"
   ]
  },
  {
   "cell_type": "code",
   "execution_count": 7,
   "metadata": {},
   "outputs": [
    {
     "ename": "AttributeError",
     "evalue": "type object 'SierraAPIResponse' has no attribute 'schema'",
     "output_type": "error",
     "traceback": [
      "\u001b[0;31m---------------------------------------------------------------------------\u001b[0m",
      "\u001b[0;31mAttributeError\u001b[0m                            Traceback (most recent call last)",
      "\u001b[1;32m/home/ray/Documents/sierra-ils-utils/misc/get_bib.ipynb Cell 2\u001b[0m line \u001b[0;36m2\n\u001b[1;32m      <a href='vscode-notebook-cell:/home/ray/Documents/sierra-ils-utils/misc/get_bib.ipynb#X30sZmlsZQ%3D%3D?line=0'>1</a>\u001b[0m \u001b[39m# Models.Item.schema()\u001b[39;00m\n\u001b[0;32m----> <a href='vscode-notebook-cell:/home/ray/Documents/sierra-ils-utils/misc/get_bib.ipynb#X30sZmlsZQ%3D%3D?line=1'>2</a>\u001b[0m Models\u001b[39m.\u001b[39;49mSierraAPIResponse\u001b[39m.\u001b[39;49mschema()\n",
      "\u001b[0;31mAttributeError\u001b[0m: type object 'SierraAPIResponse' has no attribute 'schema'"
     ]
    }
   ],
   "source": [
    "# Models.Item.schema()\n",
    "Models.SierraAPIResponse.schema()"
   ]
  },
  {
   "cell_type": "code",
   "execution_count": 4,
   "metadata": {},
   "outputs": [
    {
     "data": {
      "text/plain": [
       "BibResultSet(total=1, start=0, entries=[Bib(id='1000001', updatedDate='2021-10-07T13:52:27Z', createdDate='2012-06-19T22:48:06Z', deletedDate=None, deleted=False, suppressed=False, available=None, lang=Language(code='eng', name='English'), title='Water monsters : opposing viewpoints', author='Garinger, Alan, 1932-', materialType=MaterialType(code='a  ', value='Book'), bibLevel=BibLevel(code='m', value='MONOGRAPH'), publishYear=1991, catalogDate='1992-05-11', country=Country(code='cau', name='California'), orders=None, normTitle=None, normAuthor=None, locations=None, holdCount=None, copies=None, callNumber='001.944 G232, 1991', volumes=None, items=None, fixedFields=None, varFields=None, marc=None)])"
      ]
     },
     "execution_count": 4,
     "metadata": {},
     "output_type": "execute_result"
    }
   ],
   "source": []
  },
  {
   "cell_type": "code",
   "execution_count": 10,
   "metadata": {},
   "outputs": [],
   "source": [
    "bib_id = result.data.entries[0].id"
   ]
  },
  {
   "cell_type": "code",
   "execution_count": 12,
   "metadata": {},
   "outputs": [
    {
     "data": {
      "text/plain": [
       "Bib(id='1000001', updatedDate='2021-10-07T13:52:27Z', createdDate='2012-06-19T22:48:06Z', deletedDate=None, deleted=False, suppressed=False, available=None, lang=Language(code='eng', name='English'), title='Water monsters : opposing viewpoints', author='Garinger, Alan, 1932-', materialType=MaterialType(code='a  ', value='Book'), bibLevel=BibLevel(code='m', value='MONOGRAPH'), publishYear=1991, catalogDate='1992-05-11', country=Country(code='cau', name='California'), orders=None, normTitle=None, normAuthor=None, locations=None, holdCount=None, copies=None, callNumber='001.944 G232, 1991', volumes=None, items=None, fixedFields=None, varFields=None, marc=None)"
      ]
     },
     "execution_count": 12,
     "metadata": {},
     "output_type": "execute_result"
    }
   ],
   "source": [
    "result = sierra.get(\n",
    "    'bibs/{id}',\n",
    "    params={\n",
    "        'fields': 'default',\n",
    "    },\n",
    "    path_params={\n",
    "        'id': bib_id\n",
    "    }\n",
    ")\n",
    "\n",
    "result.data"
   ]
  },
  {
   "cell_type": "code",
   "execution_count": 14,
   "metadata": {},
   "outputs": [],
   "source": [
    "from sierra_ils_utils import BibResultSet\n",
    "\n",
    "test = BibResultSet(\n",
    "        total=0,\n",
    "        start=0,\n",
    "        entries=[]\n",
    "    )"
   ]
  },
  {
   "cell_type": "code",
   "execution_count": 18,
   "metadata": {},
   "outputs": [],
   "source": [
    "import json\n",
    "# import pytest\n",
    "from sierra_ils_utils import Bib  # Replace with the actual module where Bib is defined\n",
    "# import pymarc  # Make sure this is installed if you're using it in your Bib model\n",
    "\n",
    "\n",
    "def test_bib_model_initialization():\n",
    "\n",
    "    raw_json = \"\"\"\\\n",
    "        \n",
    "\n",
    "\n",
    "    \"\"\"\n",
    "\n",
    "    # Parsing JSON data\n",
    "    data = json.loads(raw_json)\n",
    "\n",
    "    # Creating an instance of Bib\n",
    "    bib_instance = Bib(**data)\n",
    "\n",
    "    # Assertions for each field\n",
    "    assert bib_instance.id == \"1000001\"\n",
    "    assert bib_instance.updatedDate == \"2021-10-07T13:52:27Z\"\n",
    "    assert bib_instance.createdDate == \"2012-06-19T22:48:06Z\"\n",
    "    assert bib_instance.deletedDate is None\n",
    "    assert bib_instance.deleted is False\n",
    "    assert bib_instance.suppressed is False\n",
    "    assert bib_instance.available is None\n",
    "    assert bib_instance.lang.code == \"eng\"\n",
    "    assert bib_instance.lang.name == \"English\"\n",
    "    assert bib_instance.title == \"Water monsters : opposing viewpoints\"\n",
    "    assert bib_instance.author == \"Garinger, Alan, 1932-\"\n",
    "    assert bib_instance.materialType.code == \"a  \"\n",
    "    assert bib_instance.materialType.value == \"Book\"\n",
    "    assert bib_instance.bibLevel.code == \"m\"\n",
    "    assert bib_instance.bibLevel.value == \"MONOGRAPH\"\n",
    "    assert bib_instance.publishYear == 1991\n",
    "    assert bib_instance.catalogDate == \"1992-05-11\"\n",
    "    assert bib_instance.country.code == \"cau\"\n",
    "    assert bib_instance.country.name == \"California\"\n",
    "    assert bib_instance.orders is None\n",
    "    assert bib_instance.normTitle is None\n",
    "    assert bib_instance.normAuthor is None\n",
    "    assert bib_instance.locations is None\n",
    "    assert bib_instance.holdCount is None\n",
    "    assert bib_instance.copies is None\n",
    "    assert bib_instance.callNumber == \"001.944 G232, 1991\"\n",
    "    assert bib_instance.volumes is None\n",
    "    assert bib_instance.items is None\n",
    "    assert bib_instance.fixedFields is None\n",
    "    assert bib_instance.varFields is None\n",
    "    assert bib_instance.marc is None\n",
    "\n",
    "    # ... [Any additional code or assertions]\n"
   ]
  },
  {
   "cell_type": "code",
   "execution_count": 17,
   "metadata": {},
   "outputs": [
    {
     "data": {
      "text/plain": [
       "Bib(id='1000001', updatedDate='2021-10-07T13:52:27Z', createdDate='2012-06-19T22:48:06Z', deletedDate=None, deleted=False, suppressed=False, available=None, lang=Language(code='eng', name='English'), title='Water monsters : opposing viewpoints', author='Garinger, Alan, 1932-', materialType=MaterialType(code='a  ', value='Book'), bibLevel=BibLevel(code='m', value='MONOGRAPH'), publishYear=1991, catalogDate='1992-05-11', country=Country(code='cau', name='California'), orders=None, normTitle=None, normAuthor=None, locations=None, holdCount=None, copies=None, callNumber='001.944 G232, 1991', volumes=None, items=None, fixedFields=None, varFields=None, marc=None)"
      ]
     },
     "execution_count": 17,
     "metadata": {},
     "output_type": "execute_result"
    }
   ],
   "source": [
    "test"
   ]
  },
  {
   "cell_type": "code",
   "execution_count": 11,
   "metadata": {},
   "outputs": [
    {
     "data": {
      "text/plain": [
       "'1000001'"
      ]
     },
     "execution_count": 11,
     "metadata": {},
     "output_type": "execute_result"
    }
   ],
   "source": [
    "test.id,\n",
    "updatedcreatedDate,\n",
    "deletedDate,\n",
    "deleted,\n",
    "suppressed\n",
    "available\n",
    "\n",
    "# id='1000001', updatedDate='2021-10-07T13:52:27Z', createdDate='2012-06-19T22:48:06Z', deletedDate=None, deleted=False, suppressed=False, available=None, lang=Language(code='eng', name='English'), title='Water monsters : opposing viewpoints', author='Garinger, Alan, 1932-', materialType=MaterialType(code='a  ', value='Book'), bibLevel=BibLevel(code='m', value='MONOGRAPH'), publishYear=1991, catalogDate='1992-05-11', country=Country(code='cau', name='California'), orders=None, normTitle=None, normAuthor=None, locations=None, holdCount=None, copies=None, callNumber='001.944 G232, 1991', volumes=None, items=None, fixedFields=None, varFields=None, marc=None"
   ]
  },
  {
   "cell_type": "code",
   "execution_count": 2,
   "metadata": {},
   "outputs": [
    {
     "name": "stdout",
     "output_type": "stream",
     "text": [
      "name='Bibs_Read' tokenLifetime=3600 permissions=['Bibs_Filter', 'Bibs_List', 'Bibs_Metadata_Read', 'Bibs_Read', 'Bibs_Read_Marc', 'Bibs_Search']\n",
      "name='Bibs_Write' tokenLifetime=3600 permissions=['Bibs_Create', 'Bibs_Delete', 'Bibs_Delete_Marc', 'Bibs_Update']\n"
     ]
    }
   ],
   "source": [
    "result = sierra.get('info/token')\n",
    "\n",
    "for role in [role for role in result.data.roles if 'bib' in role.name.lower()]:\n",
    "  print(role)"
   ]
  },
  {
   "cell_type": "code",
   "execution_count": 12,
   "metadata": {},
   "outputs": [
    {
     "ename": "NameError",
     "evalue": "name 'sierra' is not defined",
     "output_type": "error",
     "traceback": [
      "\u001b[0;31m---------------------------------------------------------------------------\u001b[0m",
      "\u001b[0;31mNameError\u001b[0m                                 Traceback (most recent call last)",
      "\u001b[1;32m/home/ray/Documents/sierra-ils-utils/misc/get_bib.ipynb Cell 6\u001b[0m line \u001b[0;36m2\n\u001b[1;32m      <a href='vscode-notebook-cell:/home/ray/Documents/sierra-ils-utils/misc/get_bib.ipynb#W2sZmlsZQ%3D%3D?line=0'>1</a>\u001b[0m \u001b[39m# https://classic.cincinnatilibrary.org:443/iii/sierra-api/v6/bibs/?limit=10&fields=default%2Cmarc&deleted=false&suppressed=false\u001b[39;00m\n\u001b[0;32m----> <a href='vscode-notebook-cell:/home/ray/Documents/sierra-ils-utils/misc/get_bib.ipynb#W2sZmlsZQ%3D%3D?line=1'>2</a>\u001b[0m result \u001b[39m=\u001b[39m sierra\u001b[39m.\u001b[39mget(\n\u001b[1;32m      <a href='vscode-notebook-cell:/home/ray/Documents/sierra-ils-utils/misc/get_bib.ipynb#W2sZmlsZQ%3D%3D?line=2'>3</a>\u001b[0m     \u001b[39m'\u001b[39m\u001b[39mbibs/\u001b[39m\u001b[39m'\u001b[39m,\n\u001b[1;32m      <a href='vscode-notebook-cell:/home/ray/Documents/sierra-ils-utils/misc/get_bib.ipynb#W2sZmlsZQ%3D%3D?line=3'>4</a>\u001b[0m     params\u001b[39m=\u001b[39m{\n\u001b[1;32m      <a href='vscode-notebook-cell:/home/ray/Documents/sierra-ils-utils/misc/get_bib.ipynb#W2sZmlsZQ%3D%3D?line=4'>5</a>\u001b[0m         \u001b[39m'\u001b[39m\u001b[39mlimit\u001b[39m\u001b[39m'\u001b[39m: \u001b[39m1\u001b[39m,\n\u001b[1;32m      <a href='vscode-notebook-cell:/home/ray/Documents/sierra-ils-utils/misc/get_bib.ipynb#W2sZmlsZQ%3D%3D?line=5'>6</a>\u001b[0m         \u001b[39m'\u001b[39m\u001b[39mfields\u001b[39m\u001b[39m'\u001b[39m: \u001b[39m'\u001b[39m\u001b[39mdefault,marc,normTitle,normAuthor,callNumber\u001b[39m\u001b[39m'\u001b[39m,\n\u001b[1;32m      <a href='vscode-notebook-cell:/home/ray/Documents/sierra-ils-utils/misc/get_bib.ipynb#W2sZmlsZQ%3D%3D?line=6'>7</a>\u001b[0m         \u001b[39m'\u001b[39m\u001b[39mdeleted\u001b[39m\u001b[39m'\u001b[39m: \u001b[39mFalse\u001b[39;00m,\n\u001b[1;32m      <a href='vscode-notebook-cell:/home/ray/Documents/sierra-ils-utils/misc/get_bib.ipynb#W2sZmlsZQ%3D%3D?line=7'>8</a>\u001b[0m         \u001b[39m'\u001b[39m\u001b[39msuppressed\u001b[39m\u001b[39m'\u001b[39m: \u001b[39mFalse\u001b[39;00m,\n\u001b[1;32m      <a href='vscode-notebook-cell:/home/ray/Documents/sierra-ils-utils/misc/get_bib.ipynb#W2sZmlsZQ%3D%3D?line=8'>9</a>\u001b[0m     }\n\u001b[1;32m     <a href='vscode-notebook-cell:/home/ray/Documents/sierra-ils-utils/misc/get_bib.ipynb#W2sZmlsZQ%3D%3D?line=9'>10</a>\u001b[0m )\n",
      "\u001b[0;31mNameError\u001b[0m: name 'sierra' is not defined"
     ]
    }
   ],
   "source": [
    "# https://classic.cincinnatilibrary.org:443/iii/sierra-api/v6/bibs/?limit=10&fields=default%2Cmarc&deleted=false&suppressed=false\n",
    "result = sierra.get(\n",
    "    'bibs/',\n",
    "    params={\n",
    "        'limit': 1,\n",
    "        'fields': 'default,marc,normTitle,normAuthor,callNumber',\n",
    "        'deleted': False,\n",
    "        'suppressed': False,\n",
    "    }\n",
    ")"
   ]
  },
  {
   "cell_type": "code",
   "execution_count": 26,
   "metadata": {},
   "outputs": [
    {
     "name": "stdout",
     "output_type": "stream",
     "text": [
      "Garinger, Alan, 1932-\n",
      "garinger alan 1932\n",
      "001.944 G232, 1991\n",
      "Garinger, Alan, 1932-\n"
     ]
    }
   ],
   "source": [
    "# print(result.data.entries[0].marc.author)\n",
    "\n",
    "for bib in result.data.entries:\n",
    "    print(\n",
    "        f\"\"\"\\\n",
    "        bib.callNumber\n",
    "        bib.author\n",
    "        bib.normAuthor\n",
    "        bib.marc.author \\\n",
    "        \"\"\""
   ]
  },
  {
   "cell_type": "code",
   "execution_count": 23,
   "metadata": {},
   "outputs": [
    {
     "data": {
      "text/plain": [
       "'001.944 G232, 1991'"
      ]
     },
     "execution_count": 23,
     "metadata": {},
     "output_type": "execute_result"
    }
   ],
   "source": [
    "bib.callNumber"
   ]
  },
  {
   "cell_type": "code",
   "execution_count": 35,
   "metadata": {},
   "outputs": [],
   "source": [
    "import json\n",
    "import pymarc\n",
    "\n",
    "marc_json = json.dumps(result.raw_response.json()['entries'][0]['marc'])\n",
    "reader = pymarc.reader.JSONReader(marc_json)\n"
   ]
  },
  {
   "cell_type": "code",
   "execution_count": 58,
   "metadata": {},
   "outputs": [
    {
     "name": "stdout",
     "output_type": "stream",
     "text": [
      "=LDR  00000cam  2200000 a 4500\n",
      "=100  1\\$aGaringer, Alan,$d1932-\n",
      "=092  \\\\$a001.944$bG232, 1991\n",
      "=650  \\0$aSea monsters$zUnited States$xJuvenile literature.\n",
      "=020  \\\\$a0899080871 (lib.) :$c$13.95\n",
      "=010  \\\\$a   91015174 /AC\n",
      "=504  \\\\$aIncludes bibliographical references (p. 91) and index.\n",
      "=520  \\\\$aExplores the reports and evidence for the existence of mysterious large creatures allegedly living in certain lakes and rivers of the United States.\n",
      "=001  OC\\00789480\n",
      "=035  \\\\$a(OCoLC)23582600\n",
      "=260  \\\\$aSan Diego, Calif. :$bGreenhaven Press,$cc1991.\n",
      "=300  \\\\$a96 p. :$bill. ;$c24 cm.\n",
      "=490  1\\$aGreat mysteries\n",
      "=830  \\0$aGreat mysteries (Saint Paul, Minn.)\n",
      "=245  10$aWater monsters :$bopposing viewpoints /$cby Alan Garinger.\n",
      "=944  \\\\$a1\n",
      "=003  OC\n",
      "=008  910327s1991\\\\\\\\caua\\\\\\j\\b\\\\\\\\001\\0\\eng\\\\cam\\a\\\n",
      "=005  19920514122919.0\n",
      "=040  \\\\$aDLC$cDLC$dOCP\n",
      "=043  \\\\$an-us---\n",
      "=049  11$aOCPP\n",
      "=050  00$aGR105$b.G37 1991\n",
      "=941  \\\\$a19920511$b19920511$cBATCH$d0\n",
      "=959  2\\$aD_KELLEY  $bD_KELLEY  $d05/14/1992\n",
      "=959  75$aQPGMR$d08/20/1993$tTAG 049 RESET TO DEFAULT VALUE...\n",
      "\n"
     ]
    }
   ],
   "source": [
    "record = next(reader.__iter__())\n",
    "print(record)"
   ]
  },
  {
   "cell_type": "code",
   "execution_count": 53,
   "metadata": {},
   "outputs": [
    {
     "name": "stdout",
     "output_type": "stream",
     "text": [
      "=LDR  00000cam  2200000 a 4500\n",
      "=100  1\\$aGaringer, Alan,$d1932-\n",
      "=092  \\\\$a001.944$bG232, 1991\n",
      "=650  \\0$aSea monsters$zUnited States$xJuvenile literature.\n",
      "=020  \\\\$a0899080871 (lib.) :$c$13.95\n",
      "=010  \\\\$a   91015174 /AC\n",
      "=504  \\\\$aIncludes bibliographical references (p. 91) and index.\n",
      "=520  \\\\$aExplores the reports and evidence for the existence of mysterious large creatures allegedly living in certain lakes and rivers of the United States.\n",
      "=001  OC\\00789480\n",
      "=035  \\\\$a(OCoLC)23582600\n",
      "=260  \\\\$aSan Diego, Calif. :$bGreenhaven Press,$cc1991.\n",
      "=300  \\\\$a96 p. :$bill. ;$c24 cm.\n",
      "=490  1\\$aGreat mysteries\n",
      "=830  \\0$aGreat mysteries (Saint Paul, Minn.)\n",
      "=245  10$aWater monsters :$bopposing viewpoints /$cby Alan Garinger.\n",
      "=944  \\\\$a1\n",
      "=003  OC\n",
      "=008  910327s1991\\\\\\\\caua\\\\\\j\\b\\\\\\\\001\\0\\eng\\\\cam\\a\\\n",
      "=005  19920514122919.0\n",
      "=040  \\\\$aDLC$cDLC$dOCP\n",
      "=043  \\\\$an-us---\n",
      "=049  11$aOCPP\n",
      "=050  00$aGR105$b.G37 1991\n",
      "=941  \\\\$a19920511$b19920511$cBATCH$d0\n",
      "=959  2\\$aD_KELLEY  $bD_KELLEY  $d05/14/1992\n",
      "=959  75$aQPGMR$d08/20/1993$tTAG 049 RESET TO DEFAULT VALUE...\n",
      "\n"
     ]
    }
   ],
   "source": []
  },
  {
   "cell_type": "code",
   "execution_count": 9,
   "metadata": {},
   "outputs": [
    {
     "name": "stdout",
     "output_type": "stream",
     "text": [
      "id='1000001' updatedDate='2021-10-07T13:52:27Z' createdDate='2012-06-19T22:48:06Z' deletedDate=None deleted=False suppressed=False available=None lang=Language(code='eng', name='English') title='Water monsters : opposing viewpoints' author='Garinger, Alan, 1932-' marc={'leader': '00000cam  2200000 a 4500', 'fields': [{'100': {'subfields': [{'a': 'Garinger, Alan,'}, {'d': '1932-'}], 'ind1': '1', 'ind2': ' '}}, {'092': {'subfields': [{'a': '001.944'}, {'b': 'G232, 1991'}], 'ind1': ' ', 'ind2': ' '}}, {'650': {'subfields': [{'a': 'Sea monsters'}, {'z': 'United States'}, {'x': 'Juvenile literature.'}], 'ind1': ' ', 'ind2': '0'}}, {'020': {'subfields': [{'a': '0899080871 (lib.) :'}, {'c': '$13.95'}], 'ind1': ' ', 'ind2': ' '}}, {'010': {'subfields': [{'a': '   91015174 /AC'}], 'ind1': ' ', 'ind2': ' '}}, {'504': {'subfields': [{'a': 'Includes bibliographical references (p. 91) and index.'}], 'ind1': ' ', 'ind2': ' '}}, {'520': {'subfields': [{'a': 'Explores the reports and evidence for the existence of mysterious large creatures allegedly living in certain lakes and rivers of the United States.'}], 'ind1': ' ', 'ind2': ' '}}, {'001': 'OC 00789480'}, {'035': {'subfields': [{'a': '(OCoLC)23582600'}], 'ind1': ' ', 'ind2': ' '}}, {'260': {'subfields': [{'a': 'San Diego, Calif. :'}, {'b': 'Greenhaven Press,'}, {'c': 'c1991.'}], 'ind1': ' ', 'ind2': ' '}}, {'300': {'subfields': [{'a': '96 p. :'}, {'b': 'ill. ;'}, {'c': '24 cm.'}], 'ind1': ' ', 'ind2': ' '}}, {'490': {'subfields': [{'a': 'Great mysteries'}], 'ind1': '1', 'ind2': ' '}}, {'830': {'subfields': [{'a': 'Great mysteries (Saint Paul, Minn.)'}], 'ind1': ' ', 'ind2': '0'}}, {'245': {'subfields': [{'a': 'Water monsters :'}, {'b': 'opposing viewpoints /'}, {'c': 'by Alan Garinger.'}], 'ind1': '1', 'ind2': '0'}}, {'944': {'subfields': [{'a': '1'}], 'ind1': ' ', 'ind2': ' '}}, {'003': 'OC'}, {'008': '910327s1991    caua   j b    001 0 eng  cam a '}, {'005': '19920514122919.0'}, {'040': {'subfields': [{'a': 'DLC'}, {'c': 'DLC'}, {'d': 'OCP'}], 'ind1': ' ', 'ind2': ' '}}, {'043': {'subfields': [{'a': 'n-us---'}], 'ind1': ' ', 'ind2': ' '}}, {'049': {'subfields': [{'a': 'OCPP'}], 'ind1': '1', 'ind2': '1'}}, {'050': {'subfields': [{'a': 'GR105'}, {'b': '.G37 1991'}], 'ind1': '0', 'ind2': '0'}}, {'941': {'subfields': [{'a': '19920511'}, {'b': '19920511'}, {'c': 'BATCH'}, {'d': '0'}], 'ind1': ' ', 'ind2': ' '}}, {'959': {'subfields': [{'a': 'D_KELLEY  '}, {'b': 'D_KELLEY  '}, {'d': '05/14/1992'}], 'ind1': '2', 'ind2': ' '}}, {'959': {'subfields': [{'a': 'QPGMR'}, {'d': '08/20/1993'}, {'t': 'TAG 049 RESET TO DEFAULT VALUE...'}], 'ind1': '7', 'ind2': '5'}}]} materialType=MaterialType(code='a  ', value='Book') bibLevel=BibLevel(code='m', value='MONOGRAPH') publishYear=1991 catalogDate='1992-05-11' country=Country(code='cau', name='California') orders=None normTitle=None normAuthor=None locations=None holdCount=None copies=None callNumber='001.944 G232, 1991' volumes=None items=None fixedFields=None varFields=None\n"
     ]
    }
   ],
   "source": [
    "for bib in result.data.entries:\n",
    "    print(bib)"
   ]
  },
  {
   "cell_type": "code",
   "execution_count": 13,
   "metadata": {},
   "outputs": [
    {
     "data": {
      "text/plain": [
       "'Garinger, Alan, 1932-'"
      ]
     },
     "execution_count": 13,
     "metadata": {},
     "output_type": "execute_result"
    }
   ],
   "source": [
    "bib.author"
   ]
  },
  {
   "cell_type": "code",
   "execution_count": 18,
   "metadata": {},
   "outputs": [
    {
     "data": {
      "text/plain": [
       "[{'id': '1000001',\n",
       "  'updatedDate': '2021-10-07T13:52:27Z',\n",
       "  'createdDate': '2012-06-19T22:48:06Z',\n",
       "  'deleted': False,\n",
       "  'suppressed': False,\n",
       "  'isbn': '0899080871',\n",
       "  'lang': {'code': 'eng', 'name': 'English'},\n",
       "  'title': 'Water monsters : opposing viewpoints',\n",
       "  'author': 'Garinger, Alan, 1932-',\n",
       "  'marc': {'leader': '00000cam  2200000 a 4500',\n",
       "   'fields': [{'100': {'subfields': [{'a': 'Garinger, Alan,'}, {'d': '1932-'}],\n",
       "      'ind1': '1',\n",
       "      'ind2': ' '}},\n",
       "    {'092': {'subfields': [{'a': '001.944'}, {'b': 'G232, 1991'}],\n",
       "      'ind1': ' ',\n",
       "      'ind2': ' '}},\n",
       "    {'650': {'subfields': [{'a': 'Sea monsters'},\n",
       "       {'z': 'United States'},\n",
       "       {'x': 'Juvenile literature.'}],\n",
       "      'ind1': ' ',\n",
       "      'ind2': '0'}},\n",
       "    {'020': {'subfields': [{'a': '0899080871 (lib.) :'}, {'c': '$13.95'}],\n",
       "      'ind1': ' ',\n",
       "      'ind2': ' '}},\n",
       "    {'010': {'subfields': [{'a': '   91015174 /AC'}],\n",
       "      'ind1': ' ',\n",
       "      'ind2': ' '}},\n",
       "    {'504': {'subfields': [{'a': 'Includes bibliographical references (p. 91) and index.'}],\n",
       "      'ind1': ' ',\n",
       "      'ind2': ' '}},\n",
       "    {'520': {'subfields': [{'a': 'Explores the reports and evidence for the existence of mysterious large creatures allegedly living in certain lakes and rivers of the United States.'}],\n",
       "      'ind1': ' ',\n",
       "      'ind2': ' '}},\n",
       "    {'001': 'OC 00789480'},\n",
       "    {'035': {'subfields': [{'a': '(OCoLC)23582600'}],\n",
       "      'ind1': ' ',\n",
       "      'ind2': ' '}},\n",
       "    {'260': {'subfields': [{'a': 'San Diego, Calif. :'},\n",
       "       {'b': 'Greenhaven Press,'},\n",
       "       {'c': 'c1991.'}],\n",
       "      'ind1': ' ',\n",
       "      'ind2': ' '}},\n",
       "    {'300': {'subfields': [{'a': '96 p. :'}, {'b': 'ill. ;'}, {'c': '24 cm.'}],\n",
       "      'ind1': ' ',\n",
       "      'ind2': ' '}},\n",
       "    {'490': {'subfields': [{'a': 'Great mysteries'}],\n",
       "      'ind1': '1',\n",
       "      'ind2': ' '}},\n",
       "    {'830': {'subfields': [{'a': 'Great mysteries (Saint Paul, Minn.)'}],\n",
       "      'ind1': ' ',\n",
       "      'ind2': '0'}},\n",
       "    {'245': {'subfields': [{'a': 'Water monsters :'},\n",
       "       {'b': 'opposing viewpoints /'},\n",
       "       {'c': 'by Alan Garinger.'}],\n",
       "      'ind1': '1',\n",
       "      'ind2': '0'}},\n",
       "    {'944': {'subfields': [{'a': '1'}], 'ind1': ' ', 'ind2': ' '}},\n",
       "    {'003': 'OC'},\n",
       "    {'008': '910327s1991    caua   j b    001 0 eng  cam a '},\n",
       "    {'005': '19920514122919.0'},\n",
       "    {'040': {'subfields': [{'a': 'DLC'}, {'c': 'DLC'}, {'d': 'OCP'}],\n",
       "      'ind1': ' ',\n",
       "      'ind2': ' '}},\n",
       "    {'043': {'subfields': [{'a': 'n-us---'}], 'ind1': ' ', 'ind2': ' '}},\n",
       "    {'049': {'subfields': [{'a': 'OCPP'}], 'ind1': '1', 'ind2': '1'}},\n",
       "    {'050': {'subfields': [{'a': 'GR105'}, {'b': '.G37 1991'}],\n",
       "      'ind1': '0',\n",
       "      'ind2': '0'}},\n",
       "    {'941': {'subfields': [{'a': '19920511'},\n",
       "       {'b': '19920511'},\n",
       "       {'c': 'BATCH'},\n",
       "       {'d': '0'}],\n",
       "      'ind1': ' ',\n",
       "      'ind2': ' '}},\n",
       "    {'959': {'subfields': [{'a': 'D_KELLEY  '},\n",
       "       {'b': 'D_KELLEY  '},\n",
       "       {'d': '05/14/1992'}],\n",
       "      'ind1': '2',\n",
       "      'ind2': ' '}},\n",
       "    {'959': {'subfields': [{'a': 'QPGMR'},\n",
       "       {'d': '08/20/1993'},\n",
       "       {'t': 'TAG 049 RESET TO DEFAULT VALUE...'}],\n",
       "      'ind1': '7',\n",
       "      'ind2': '5'}}]},\n",
       "  'materialType': {'code': 'a  ', 'value': 'Book'},\n",
       "  'bibLevel': {'code': 'm', 'value': 'MONOGRAPH'},\n",
       "  'publishYear': 1991,\n",
       "  'catalogDate': '1992-05-11',\n",
       "  'country': {'code': 'cau', 'name': 'California'},\n",
       "  'callNumber': '001.944 G232, 1991'}]"
      ]
     },
     "execution_count": 18,
     "metadata": {},
     "output_type": "execute_result"
    }
   ],
   "source": [
    "response_dict = result.raw_response.json()\n",
    "\n",
    "marc_data = response_dict.get('marc')\n",
    "\n",
    "response_dict.get('entries')\n",
    "\n",
    "# reader = pymarc.reader.JSONReader(json.dumps(marc_data))  # JSONReader(marc_data)\n",
    "\n"
   ]
  },
  {
   "cell_type": "code",
   "execution_count": 19,
   "metadata": {},
   "outputs": [
    {
     "data": {
      "text/plain": [
       "'{\"total\":1,\"start\":0,\"entries\":[{\"id\":\"1000001\",\"updatedDate\":\"2021-10-07T13:52:27Z\",\"createdDate\":\"2012-06-19T22:48:06Z\",\"deleted\":false,\"suppressed\":false,\"isbn\":\"0899080871\",\"lang\":{\"code\":\"eng\",\"name\":\"English\"},\"title\":\"Water monsters : opposing viewpoints\",\"author\":\"Garinger, Alan, 1932-\",\"marc\":{\"leader\":\"00000cam  2200000 a 4500\",\"fields\":[{\"100\":{\"subfields\":[{\"a\":\"Garinger, Alan,\"},{\"d\":\"1932-\"}],\"ind1\":\"1\",\"ind2\":\" \"}},{\"092\":{\"subfields\":[{\"a\":\"001.944\"},{\"b\":\"G232, 1991\"}],\"ind1\":\" \",\"ind2\":\" \"}},{\"650\":{\"subfields\":[{\"a\":\"Sea monsters\"},{\"z\":\"United States\"},{\"x\":\"Juvenile literature.\"}],\"ind1\":\" \",\"ind2\":\"0\"}},{\"020\":{\"subfields\":[{\"a\":\"0899080871 (lib.) :\"},{\"c\":\"$13.95\"}],\"ind1\":\" \",\"ind2\":\" \"}},{\"010\":{\"subfields\":[{\"a\":\"   91015174 /AC\"}],\"ind1\":\" \",\"ind2\":\" \"}},{\"504\":{\"subfields\":[{\"a\":\"Includes bibliographical references (p. 91) and index.\"}],\"ind1\":\" \",\"ind2\":\" \"}},{\"520\":{\"subfields\":[{\"a\":\"Explores the reports and evidence for the existence of mysterious large creatures allegedly living in certain lakes and rivers of the United States.\"}],\"ind1\":\" \",\"ind2\":\" \"}},{\"001\":\"OC 00789480\"},{\"035\":{\"subfields\":[{\"a\":\"(OCoLC)23582600\"}],\"ind1\":\" \",\"ind2\":\" \"}},{\"260\":{\"subfields\":[{\"a\":\"San Diego, Calif. :\"},{\"b\":\"Greenhaven Press,\"},{\"c\":\"c1991.\"}],\"ind1\":\" \",\"ind2\":\" \"}},{\"300\":{\"subfields\":[{\"a\":\"96 p. :\"},{\"b\":\"ill. ;\"},{\"c\":\"24 cm.\"}],\"ind1\":\" \",\"ind2\":\" \"}},{\"490\":{\"subfields\":[{\"a\":\"Great mysteries\"}],\"ind1\":\"1\",\"ind2\":\" \"}},{\"830\":{\"subfields\":[{\"a\":\"Great mysteries (Saint Paul, Minn.)\"}],\"ind1\":\" \",\"ind2\":\"0\"}},{\"245\":{\"subfields\":[{\"a\":\"Water monsters :\"},{\"b\":\"opposing viewpoints /\"},{\"c\":\"by Alan Garinger.\"}],\"ind1\":\"1\",\"ind2\":\"0\"}},{\"944\":{\"subfields\":[{\"a\":\"1\"}],\"ind1\":\" \",\"ind2\":\" \"}},{\"003\":\"OC\"},{\"008\":\"910327s1991    caua   j b    001 0 eng  cam a \"},{\"005\":\"19920514122919.0\"},{\"040\":{\"subfields\":[{\"a\":\"DLC\"},{\"c\":\"DLC\"},{\"d\":\"OCP\"}],\"ind1\":\" \",\"ind2\":\" \"}},{\"043\":{\"subfields\":[{\"a\":\"n-us---\"}],\"ind1\":\" \",\"ind2\":\" \"}},{\"049\":{\"subfields\":[{\"a\":\"OCPP\"}],\"ind1\":\"1\",\"ind2\":\"1\"}},{\"050\":{\"subfields\":[{\"a\":\"GR105\"},{\"b\":\".G37 1991\"}],\"ind1\":\"0\",\"ind2\":\"0\"}},{\"941\":{\"subfields\":[{\"a\":\"19920511\"},{\"b\":\"19920511\"},{\"c\":\"BATCH\"},{\"d\":\"0\"}],\"ind1\":\" \",\"ind2\":\" \"}},{\"959\":{\"subfields\":[{\"a\":\"D_KELLEY  \"},{\"b\":\"D_KELLEY  \"},{\"d\":\"05/14/1992\"}],\"ind1\":\"2\",\"ind2\":\" \"}},{\"959\":{\"subfields\":[{\"a\":\"QPGMR\"},{\"d\":\"08/20/1993\"},{\"t\":\"TAG 049 RESET TO DEFAULT VALUE...\"}],\"ind1\":\"7\",\"ind2\":\"5\"}}]},\"materialType\":{\"code\":\"a  \",\"value\":\"Book\"},\"bibLevel\":{\"code\":\"m\",\"value\":\"MONOGRAPH\"},\"publishYear\":1991,\"catalogDate\":\"1992-05-11\",\"country\":{\"code\":\"cau\",\"name\":\"California\"},\"callNumber\":\"001.944 G232, 1991\"}]}'"
      ]
     },
     "execution_count": 19,
     "metadata": {},
     "output_type": "execute_result"
    }
   ],
   "source": [
    "result.raw_response.text"
   ]
  },
  {
   "cell_type": "code",
   "execution_count": 17,
   "metadata": {},
   "outputs": [
    {
     "data": {
      "text/plain": [
       "[{'id': '1000001',\n",
       "  'updatedDate': '2021-10-07T13:52:27Z',\n",
       "  'createdDate': '2012-06-19T22:48:06Z',\n",
       "  'deleted': False,\n",
       "  'suppressed': False,\n",
       "  'isbn': '0899080871',\n",
       "  'lang': {'code': 'eng', 'name': 'English'},\n",
       "  'title': 'Water monsters : opposing viewpoints',\n",
       "  'author': 'Garinger, Alan, 1932-',\n",
       "  'marc': {'leader': '00000cam  2200000 a 4500',\n",
       "   'fields': [{'100': {'subfields': [{'a': 'Garinger, Alan,'}, {'d': '1932-'}],\n",
       "      'ind1': '1',\n",
       "      'ind2': ' '}},\n",
       "    {'092': {'subfields': [{'a': '001.944'}, {'b': 'G232, 1991'}],\n",
       "      'ind1': ' ',\n",
       "      'ind2': ' '}},\n",
       "    {'650': {'subfields': [{'a': 'Sea monsters'},\n",
       "       {'z': 'United States'},\n",
       "       {'x': 'Juvenile literature.'}],\n",
       "      'ind1': ' ',\n",
       "      'ind2': '0'}},\n",
       "    {'020': {'subfields': [{'a': '0899080871 (lib.) :'}, {'c': '$13.95'}],\n",
       "      'ind1': ' ',\n",
       "      'ind2': ' '}},\n",
       "    {'010': {'subfields': [{'a': '   91015174 /AC'}],\n",
       "      'ind1': ' ',\n",
       "      'ind2': ' '}},\n",
       "    {'504': {'subfields': [{'a': 'Includes bibliographical references (p. 91) and index.'}],\n",
       "      'ind1': ' ',\n",
       "      'ind2': ' '}},\n",
       "    {'520': {'subfields': [{'a': 'Explores the reports and evidence for the existence of mysterious large creatures allegedly living in certain lakes and rivers of the United States.'}],\n",
       "      'ind1': ' ',\n",
       "      'ind2': ' '}},\n",
       "    {'001': 'OC 00789480'},\n",
       "    {'035': {'subfields': [{'a': '(OCoLC)23582600'}],\n",
       "      'ind1': ' ',\n",
       "      'ind2': ' '}},\n",
       "    {'260': {'subfields': [{'a': 'San Diego, Calif. :'},\n",
       "       {'b': 'Greenhaven Press,'},\n",
       "       {'c': 'c1991.'}],\n",
       "      'ind1': ' ',\n",
       "      'ind2': ' '}},\n",
       "    {'300': {'subfields': [{'a': '96 p. :'}, {'b': 'ill. ;'}, {'c': '24 cm.'}],\n",
       "      'ind1': ' ',\n",
       "      'ind2': ' '}},\n",
       "    {'490': {'subfields': [{'a': 'Great mysteries'}],\n",
       "      'ind1': '1',\n",
       "      'ind2': ' '}},\n",
       "    {'830': {'subfields': [{'a': 'Great mysteries (Saint Paul, Minn.)'}],\n",
       "      'ind1': ' ',\n",
       "      'ind2': '0'}},\n",
       "    {'245': {'subfields': [{'a': 'Water monsters :'},\n",
       "       {'b': 'opposing viewpoints /'},\n",
       "       {'c': 'by Alan Garinger.'}],\n",
       "      'ind1': '1',\n",
       "      'ind2': '0'}},\n",
       "    {'944': {'subfields': [{'a': '1'}], 'ind1': ' ', 'ind2': ' '}},\n",
       "    {'003': 'OC'},\n",
       "    {'008': '910327s1991    caua   j b    001 0 eng  cam a '},\n",
       "    {'005': '19920514122919.0'},\n",
       "    {'040': {'subfields': [{'a': 'DLC'}, {'c': 'DLC'}, {'d': 'OCP'}],\n",
       "      'ind1': ' ',\n",
       "      'ind2': ' '}},\n",
       "    {'043': {'subfields': [{'a': 'n-us---'}], 'ind1': ' ', 'ind2': ' '}},\n",
       "    {'049': {'subfields': [{'a': 'OCPP'}], 'ind1': '1', 'ind2': '1'}},\n",
       "    {'050': {'subfields': [{'a': 'GR105'}, {'b': '.G37 1991'}],\n",
       "      'ind1': '0',\n",
       "      'ind2': '0'}},\n",
       "    {'941': {'subfields': [{'a': '19920511'},\n",
       "       {'b': '19920511'},\n",
       "       {'c': 'BATCH'},\n",
       "       {'d': '0'}],\n",
       "      'ind1': ' ',\n",
       "      'ind2': ' '}},\n",
       "    {'959': {'subfields': [{'a': 'D_KELLEY  '},\n",
       "       {'b': 'D_KELLEY  '},\n",
       "       {'d': '05/14/1992'}],\n",
       "      'ind1': '2',\n",
       "      'ind2': ' '}},\n",
       "    {'959': {'subfields': [{'a': 'QPGMR'},\n",
       "       {'d': '08/20/1993'},\n",
       "       {'t': 'TAG 049 RESET TO DEFAULT VALUE...'}],\n",
       "      'ind1': '7',\n",
       "      'ind2': '5'}}]},\n",
       "  'materialType': {'code': 'a  ', 'value': 'Book'},\n",
       "  'bibLevel': {'code': 'm', 'value': 'MONOGRAPH'},\n",
       "  'publishYear': 1991,\n",
       "  'catalogDate': '1992-05-11',\n",
       "  'country': {'code': 'cau', 'name': 'California'},\n",
       "  'callNumber': '001.944 G232, 1991'}]"
      ]
     },
     "execution_count": 17,
     "metadata": {},
     "output_type": "execute_result"
    }
   ],
   "source": []
  },
  {
   "cell_type": "code",
   "execution_count": 21,
   "metadata": {},
   "outputs": [
    {
     "data": {
      "text/plain": [
       "{'leader': '00000cam  2200000 a 4500',\n",
       " 'fields': [{'100': {'subfields': [{'a': 'Garinger, Alan,'}, {'d': '1932-'}],\n",
       "    'ind1': '1',\n",
       "    'ind2': ' '}},\n",
       "  {'092': {'subfields': [{'a': '001.944'}, {'b': 'G232, 1991'}],\n",
       "    'ind1': ' ',\n",
       "    'ind2': ' '}},\n",
       "  {'650': {'subfields': [{'a': 'Sea monsters'},\n",
       "     {'z': 'United States'},\n",
       "     {'x': 'Juvenile literature.'}],\n",
       "    'ind1': ' ',\n",
       "    'ind2': '0'}},\n",
       "  {'020': {'subfields': [{'a': '0899080871 (lib.) :'}, {'c': '$13.95'}],\n",
       "    'ind1': ' ',\n",
       "    'ind2': ' '}},\n",
       "  {'010': {'subfields': [{'a': '   91015174 /AC'}], 'ind1': ' ', 'ind2': ' '}},\n",
       "  {'504': {'subfields': [{'a': 'Includes bibliographical references (p. 91) and index.'}],\n",
       "    'ind1': ' ',\n",
       "    'ind2': ' '}},\n",
       "  {'520': {'subfields': [{'a': 'Explores the reports and evidence for the existence of mysterious large creatures allegedly living in certain lakes and rivers of the United States.'}],\n",
       "    'ind1': ' ',\n",
       "    'ind2': ' '}},\n",
       "  {'001': 'OC 00789480'},\n",
       "  {'035': {'subfields': [{'a': '(OCoLC)23582600'}], 'ind1': ' ', 'ind2': ' '}},\n",
       "  {'260': {'subfields': [{'a': 'San Diego, Calif. :'},\n",
       "     {'b': 'Greenhaven Press,'},\n",
       "     {'c': 'c1991.'}],\n",
       "    'ind1': ' ',\n",
       "    'ind2': ' '}},\n",
       "  {'300': {'subfields': [{'a': '96 p. :'}, {'b': 'ill. ;'}, {'c': '24 cm.'}],\n",
       "    'ind1': ' ',\n",
       "    'ind2': ' '}},\n",
       "  {'490': {'subfields': [{'a': 'Great mysteries'}], 'ind1': '1', 'ind2': ' '}},\n",
       "  {'830': {'subfields': [{'a': 'Great mysteries (Saint Paul, Minn.)'}],\n",
       "    'ind1': ' ',\n",
       "    'ind2': '0'}},\n",
       "  {'245': {'subfields': [{'a': 'Water monsters :'},\n",
       "     {'b': 'opposing viewpoints /'},\n",
       "     {'c': 'by Alan Garinger.'}],\n",
       "    'ind1': '1',\n",
       "    'ind2': '0'}},\n",
       "  {'944': {'subfields': [{'a': '1'}], 'ind1': ' ', 'ind2': ' '}},\n",
       "  {'003': 'OC'},\n",
       "  {'008': '910327s1991    caua   j b    001 0 eng  cam a '},\n",
       "  {'005': '19920514122919.0'},\n",
       "  {'040': {'subfields': [{'a': 'DLC'}, {'c': 'DLC'}, {'d': 'OCP'}],\n",
       "    'ind1': ' ',\n",
       "    'ind2': ' '}},\n",
       "  {'043': {'subfields': [{'a': 'n-us---'}], 'ind1': ' ', 'ind2': ' '}},\n",
       "  {'049': {'subfields': [{'a': 'OCPP'}], 'ind1': '1', 'ind2': '1'}},\n",
       "  {'050': {'subfields': [{'a': 'GR105'}, {'b': '.G37 1991'}],\n",
       "    'ind1': '0',\n",
       "    'ind2': '0'}},\n",
       "  {'941': {'subfields': [{'a': '19920511'},\n",
       "     {'b': '19920511'},\n",
       "     {'c': 'BATCH'},\n",
       "     {'d': '0'}],\n",
       "    'ind1': ' ',\n",
       "    'ind2': ' '}},\n",
       "  {'959': {'subfields': [{'a': 'D_KELLEY  '},\n",
       "     {'b': 'D_KELLEY  '},\n",
       "     {'d': '05/14/1992'}],\n",
       "    'ind1': '2',\n",
       "    'ind2': ' '}},\n",
       "  {'959': {'subfields': [{'a': 'QPGMR'},\n",
       "     {'d': '08/20/1993'},\n",
       "     {'t': 'TAG 049 RESET TO DEFAULT VALUE...'}],\n",
       "    'ind1': '7',\n",
       "    'ind2': '5'}}]}"
      ]
     },
     "execution_count": 21,
     "metadata": {},
     "output_type": "execute_result"
    }
   ],
   "source": [
    "record.records"
   ]
  }
 ],
 "metadata": {
  "kernelspec": {
   "display_name": "venv",
   "language": "python",
   "name": "python3"
  },
  "language_info": {
   "codemirror_mode": {
    "name": "ipython",
    "version": 3
   },
   "file_extension": ".py",
   "mimetype": "text/x-python",
   "name": "python",
   "nbconvert_exporter": "python",
   "pygments_lexer": "ipython3",
   "version": "3.10.13"
  }
 },
 "nbformat": 4,
 "nbformat_minor": 2
}
