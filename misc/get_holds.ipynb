{
 "cells": [
  {
   "cell_type": "code",
   "execution_count": 1,
   "metadata": {},
   "outputs": [
    {
     "name": "stderr",
     "output_type": "stream",
     "text": [
      "DEBUG:sierra_ils_utils.sierra_ils_utils:INIT {'base_url': 'https://classic.cincinnatilibrary.org/iii/sierra-api/v6/', 'api_key': '1ebmZG6N********************', 'request_count': 0, 'expires_at': 0, 'session_headers': Headers({'accept-encoding': 'gzip, deflate', 'connection': 'keep-alive', 'user-agent': 'python-httpx/0.25.2', 'accept': 'application/json', 'authorization': '[secure]'}), 'endpoints': {'GET': {'bibs/': {'responses': {200: <class 'sierra_ils_utils.sierra_api_v6_endpoints.BibResultSet'>, 400: <class 'sierra_ils_utils.sierra_api_v6_endpoints.ErrorCode'>, 404: <class 'sierra_ils_utils.sierra_api_v6_endpoints.ErrorCode'>}, 'response_model': <class 'sierra_ils_utils.sierra_api_v6_endpoints.BibResultSet'>}, 'bibs/{id}': {'responses': {200: <class 'sierra_ils_utils.sierra_api_v6_endpoints.Bib'>, 400: <class 'sierra_ils_utils.sierra_api_v6_endpoints.ErrorCode'>, 404: <class 'sierra_ils_utils.sierra_api_v6_endpoints.ErrorCode'>}, 'response_model': <class 'sierra_ils_utils.sierra_api_v6_endpoints.Bib'>}, 'info/token': {'responses': {200: <class 'sierra_ils_utils.sierra_api_v6_endpoints.TokenInfo'>}, 'response_model': <class 'sierra_ils_utils.sierra_api_v6_endpoints.TokenInfo'>}, 'items/': {'description': 'Get a List of Item Records', 'responses': {200: <class 'sierra_ils_utils.sierra_api_v6_endpoints.ItemResultSet'>, 400: <class 'sierra_ils_utils.sierra_api_v6_endpoints.ErrorCode'>, 404: <class 'sierra_ils_utils.sierra_api_v6_endpoints.ErrorCode'>}, 'response_model': <class 'sierra_ils_utils.sierra_api_v6_endpoints.ItemResultSet'>}, 'items/{id}': {'description': 'Get an item by record ID', 'responses': {200: <class 'sierra_ils_utils.sierra_api_v6_endpoints.Item'>, 400: <class 'sierra_ils_utils.sierra_api_v6_endpoints.ErrorCode'>, 404: <class 'sierra_ils_utils.sierra_api_v6_endpoints.ErrorCode'>}, 'response_model': <class 'sierra_ils_utils.sierra_api_v6_endpoints.Item'>}, 'items/checkouts': {'responses': {200: <class 'sierra_ils_utils.sierra_api_v6_endpoints.CheckoutResultSet'>, 400: <class 'sierra_ils_utils.sierra_api_v6_endpoints.ErrorCode'>, 404: <class 'sierra_ils_utils.sierra_api_v6_endpoints.ErrorCode'>}, 'response_model': <class 'sierra_ils_utils.sierra_api_v6_endpoints.CheckoutResultSet'>}, 'patrons/holds': {'responses': {200: <class 'sierra_ils_utils.sierra_api_v6_endpoints.HoldResultSet'>, 400: <class 'sierra_ils_utils.sierra_api_v6_endpoints.ErrorCode'>, 404: <class 'sierra_ils_utils.sierra_api_v6_endpoints.ErrorCode'>}}, 'volumes/': {'responses': {200: <class 'sierra_ils_utils.sierra_api_v6_endpoints.VolumeResultSet'>, 400: <class 'sierra_ils_utils.sierra_api_v6_endpoints.ErrorCode'>, 404: <class 'sierra_ils_utils.sierra_api_v6_endpoints.ErrorCode'>}}, 'volumes/{id}': {'responses': {200: <class 'sierra_ils_utils.sierra_api_v6_endpoints.Volume'>, 400: <class 'sierra_ils_utils.sierra_api_v6_endpoints.ErrorCode'>, 404: <class 'sierra_ils_utils.sierra_api_v6_endpoints.ErrorCode'>}, 'response_model': <class 'sierra_ils_utils.sierra_api_v6_endpoints.Volume'>}}, 'POST': {'bibs/query': {'\\n            Filter the records by a query in JSON format\\n            responses': {200: <class 'sierra_ils_utils.sierra_api_v6_endpoints.QueryResultSet'>, 400: <class 'sierra_ils_utils.sierra_api_v6_endpoints.ErrorCode'>, 404: <class 'sierra_ils_utils.sierra_api_v6_endpoints.ErrorCode'>}, 'response_model': <class 'sierra_ils_utils.sierra_api_v6_endpoints.QueryResultSet'>, 'body_required': True, 'body_format': 'json'}, 'items/query': {'\\n            Filter the records by a query in JSON format\\n            responses': {200: <class 'sierra_ils_utils.sierra_api_v6_endpoints.QueryResultSet'>, 400: <class 'sierra_ils_utils.sierra_api_v6_endpoints.ErrorCode'>, 404: <class 'sierra_ils_utils.sierra_api_v6_endpoints.ErrorCode'>}, 'response_model': <class 'sierra_ils_utils.sierra_api_v6_endpoints.QueryResultSet'>, 'body_required': True, 'body_format': 'json'}}, 'DELETE': {'bibs/{id}': {'responses': {200: None, 204: None, 400: <class 'sierra_ils_utils.sierra_api_v6_endpoints.ErrorCode'>, 404: <class 'sierra_ils_utils.sierra_api_v6_endpoints.ErrorCode'>}, 'response_model': <class 'sierra_ils_utils.sierra_api_v6_endpoints.ErrorCode'>}}}}\n",
      "DEBUG:sierra_ils_utils.decorators:sending auth request ... masked_key: 1ebmZG6N********************, masked_secret: ******************************************\n",
      "DEBUG:httpcore.connection:connect_tcp.started host='classic.cincinnatilibrary.org' port=443 local_address=None timeout=5.0 socket_options=None\n",
      "DEBUG:httpcore.connection:connect_tcp.complete return_value=<httpcore._backends.sync.SyncStream object at 0x7fbd6d45b310>\n",
      "DEBUG:httpcore.connection:start_tls.started ssl_context=<ssl.SSLContext object at 0x7fbd7c46f040> server_hostname='classic.cincinnatilibrary.org' timeout=5.0\n",
      "DEBUG:httpcore.connection:start_tls.complete return_value=<httpcore._backends.sync.SyncStream object at 0x7fbd7f59b280>\n",
      "DEBUG:httpcore.http11:send_request_headers.started request=<Request [b'POST']>\n",
      "DEBUG:httpcore.http11:send_request_headers.complete\n",
      "DEBUG:httpcore.http11:send_request_body.started request=<Request [b'POST']>\n",
      "DEBUG:httpcore.http11:send_request_body.complete\n",
      "DEBUG:httpcore.http11:receive_response_headers.started request=<Request [b'POST']>\n",
      "DEBUG:httpcore.http11:receive_response_headers.complete return_value=(b'HTTP/1.1', 200, b'200', [(b'Date', b'Thu, 07 Dec 2023 02:44:22 GMT'), (b'Server', b'Apache'), (b'Content-Type', b'application/json;charset=UTF-8'), (b'Vary', b'Accept-Encoding,User-Agent'), (b'Content-Encoding', b'gzip'), (b'Content-Security-Policy', b\"frame-ancestors 'self';\"), (b'X-Content-Type-Options', b'nosniff'), (b'Set-Cookie', b'jcontainerId=.jcontainer-api2; path=/iii/sierra-api'), (b'Set-Cookie', b'jcontainerId=.jcontainer-api2; path=/iii/airwkst'), (b'Set-Cookie', b'jcontainerId=.jcontainer-api2; path=/iii/rss'), (b'Set-Cookie', b'jcontainerId=.jcontainer-api2; path=/iii/webrpt'), (b'Set-Cookie', b'jcontainerId=.jcontainer-api2; path=/iii/wwapp/acq'), (b'Set-Cookie', b'jcontainerId=.jcontainer-api2; path=/iii/upgrademgr'), (b'Set-Cookie', b'jcontainerId=.jcontainer-api2; path=/iii/patronio'), (b'Set-Cookie', b'jcontainerId=.jcontainer-api2; path=/sierra/admin'), (b'Set-Cookie', b'jcontainerId=.jcontainer-api2; path=/sierra/ws/summit'), (b'Set-Cookie', b'jcontainerId=.jcontainer-api2; path=/sierra/admin.news'), (b'Content-Length', b'228'), (b'Keep-Alive', b'timeout=5, max=100'), (b'Connection', b'Keep-Alive')])\n",
      "DEBUG:httpcore.http11:receive_response_body.started request=<Request [b'POST']>\n",
      "DEBUG:httpcore.http11:receive_response_body.complete\n",
      "DEBUG:httpcore.http11:response_closed.started\n",
      "DEBUG:httpcore.http11:response_closed.complete\n",
      "DEBUG:sierra_ils_utils.decorators:... sent auth request response.status_code: 200\n",
      "DEBUG:httpcore.connection:close.started\n",
      "DEBUG:httpcore.connection:close.complete\n",
      "DEBUG:sierra_ils_utils.sierra_ils_utils:Authorization Success. response.json.get('expires_in'): 3600\n",
      "DEBUG:sierra_ils_utils.sierra_ils_utils:session authenticated\n",
      "DEBUG:httpcore.connection:connect_tcp.started host='classic.cincinnatilibrary.org' port=443 local_address=None timeout=5.0 socket_options=None\n",
      "DEBUG:httpcore.connection:connect_tcp.complete return_value=<httpcore._backends.sync.SyncStream object at 0x7fbd6d45bcd0>\n",
      "DEBUG:httpcore.connection:start_tls.started ssl_context=<ssl.SSLContext object at 0x7fbd7c46e140> server_hostname='classic.cincinnatilibrary.org' timeout=5.0\n",
      "DEBUG:httpcore.connection:start_tls.complete return_value=<httpcore._backends.sync.SyncStream object at 0x7fbd6d45be80>\n",
      "DEBUG:httpcore.http11:send_request_headers.started request=<Request [b'GET']>\n",
      "DEBUG:httpcore.http11:send_request_headers.complete\n",
      "DEBUG:httpcore.http11:send_request_body.started request=<Request [b'GET']>\n",
      "DEBUG:httpcore.http11:send_request_body.complete\n",
      "DEBUG:httpcore.http11:receive_response_headers.started request=<Request [b'GET']>\n",
      "DEBUG:httpcore.http11:receive_response_headers.complete return_value=(b'HTTP/1.1', 200, b'200', [(b'Date', b'Thu, 07 Dec 2023 02:44:23 GMT'), (b'Server', b'Apache'), (b'Content-Type', b'application/json;charset=UTF-8'), (b'Vary', b'Accept-Encoding,User-Agent'), (b'Content-Encoding', b'gzip'), (b'Content-Security-Policy', b\"frame-ancestors 'self';\"), (b'X-Content-Type-Options', b'nosniff'), (b'Set-Cookie', b'jcontainerId=.jcontainer-api2; path=/iii/sierra-api'), (b'Set-Cookie', b'jcontainerId=.jcontainer-api2; path=/iii/airwkst'), (b'Set-Cookie', b'jcontainerId=.jcontainer-api2; path=/iii/rss'), (b'Set-Cookie', b'jcontainerId=.jcontainer-api2; path=/iii/webrpt'), (b'Set-Cookie', b'jcontainerId=.jcontainer-api2; path=/iii/wwapp/acq'), (b'Set-Cookie', b'jcontainerId=.jcontainer-api2; path=/iii/upgrademgr'), (b'Set-Cookie', b'jcontainerId=.jcontainer-api2; path=/iii/patronio'), (b'Set-Cookie', b'jcontainerId=.jcontainer-api2; path=/sierra/admin'), (b'Set-Cookie', b'jcontainerId=.jcontainer-api2; path=/sierra/ws/summit'), (b'Set-Cookie', b'jcontainerId=.jcontainer-api2; path=/sierra/admin.news'), (b'Content-Length', b'751'), (b'Keep-Alive', b'timeout=5, max=100'), (b'Connection', b'Keep-Alive')])\n",
      "DEBUG:httpcore.http11:receive_response_body.started request=<Request [b'GET']>\n",
      "DEBUG:httpcore.http11:receive_response_body.complete\n",
      "DEBUG:httpcore.http11:response_closed.started\n",
      "DEBUG:httpcore.http11:response_closed.complete\n",
      "DEBUG:sierra_ils_utils.sierra_ils_utils:Sierra API call details: {\"status_code\": 200, \"expires_in\": 3599, \"expires_at\": 1701920604.4901686, \"seconds_remaining\": 3539.7484612464905, \"url\": \"https://classic.cincinnatilibrary.org/iii/sierra-api/v6/info/token\", \"response_json\": {\"keyId\": \"1ebmZG6N2Qw7SklwUBQkxIeTr1pW\", \"grantType\": \"client_credentials\", \"authorizationScheme\": \"Bearer\", \"expiresIn\": 3599, \"roles\": [{\"name\": \"Invoices_Write\", \"tokenLifetime\": 3600, \"permissions\": [\"Invoices_Create\", \"Invoices_Post\", \"Invoices_Update\"]}, {\"name\": \"Fines_Read\", \"tokenLifetime\": 3600, \"permissions\": [\"Fines_List\"]}, {\"name\": \"Vendors_Read\", \"tokenLifetime\": 3600, \"permissions\": [\"Vendors_List\"]}, {\"name\": \"Patrons_Read\", \"tokenLifetime\": 3600, \"permissions\": [\"Patrons_Checkouts_History_List\", \"Patrons_Checkouts_List\", \"Patrons_Checkouts_Read\", \"Patrons_Filter\", \"Patrons_Find\", \"Patrons_Fines_List\", \"Patrons_Fines_Read\", \"Patrons_Hold_Form_Read\", \"Patrons_Hold_List\", \"Patrons_Hold_Read\", \"Patrons_List\", \"Patrons_Metadata_Read\", \"Patrons_Read\"]}, {\"name\": \"Invoices_Read\", \"tokenLifetime\": 3600, \"permissions\": [\"Invoices_List\", \"Invoices_Metadata_Read\", \"Invoices_Read\"]}, {\"name\": \"Holds_Read\", \"tokenLifetime\": 3600, \"permissions\": [\"Holds_List\"]}, {\"name\": \"Courses_Read\", \"tokenLifetime\": 3600, \"permissions\": [\"Courses_List\"]}, {\"name\": \"Acquisitions_Write\", \"tokenLifetime\": 3600, \"permissions\": [\"Acquisitions_Orders_Create\"]}, {\"name\": \"Branches_Read\", \"tokenLifetime\": 3600, \"permissions\": [\"Branches_List\", \"Branches_PickupLocations_List\", \"Branches_Read\"]}, {\"name\": \"Title_Pages_Read\", \"tokenLifetime\": 3600, \"permissions\": [\"Title_Pages_List\"]}, {\"name\": \"Holdings_Write\", \"tokenLifetime\": 3600, \"permissions\": [\"Holdings_Delete_Marc\"]}, {\"name\": \"Patrons_Write\", \"tokenLifetime\": 3600, \"permissions\": [\"Patrons_Checkouts_Create\", \"Patrons_Checkouts_Delete\", \"Patrons_Checkouts_History_Configure\", \"Patrons_Checkouts_History_Delete\", \"Patrons_Checkouts_Renew\", \"Patrons_Create\", \"Patrons_Delete\", \"Patrons_Fines_Add\", \"Patrons_Fines_Pay\", \"Patrons_Hold_Delete\", \"Patrons_Hold_Request_Create\", \"Patrons_Hold_Update\", \"Patrons_Update\", \"Patrons_Validate\", \"Patrons_Verify_Pin\"]}, {\"name\": \"Orders_Read\", \"tokenLifetime\": 3600, \"permissions\": [\"Orders_Filter\", \"Orders_Funds_Read\", \"Orders_List\", \"Orders_Read\"]}, {\"name\": \"Currencies_Read\", \"tokenLifetime\": 3600, \"permissions\": [\"Currencies_List\"]}, {\"name\": \"Info_Holds_Config\", \"tokenLifetime\": 3600, \"permissions\": [\"Info_Holds_Config_Read\"]}, {\"name\": \"Bibs_Read\", \"tokenLifetime\": 3600, \"permissions\": [\"Bibs_Filter\", \"Bibs_List\", \"Bibs_Metadata_Read\", \"Bibs_Read\", \"Bibs_Read_Marc\", \"Bibs_Search\"]}, {\"name\": \"Funds_Read\", \"tokenLifetime\": 3600, \"permissions\": [\"Funds_List\"]}, {\"name\": \"Holdings_Read\", \"tokenLifetime\": 3600, \"permissions\": [\"Holdings_List\", \"Holdings_Read_Marc\"]}, {\"name\": \"Authorities_Read\", \"tokenLifetime\": 3600, \"permissions\": [\"Authorities_Filter\", \"Authorities_List\", \"Authorities_Read\", \"Authorities_Read_Marc\"]}, {\"name\": \"Agencies_Read\", \"tokenLifetime\": 3600, \"permissions\": [\"Agencies_List\"]}, {\"name\": \"Bibs_Write\", \"tokenLifetime\": 3600, \"permissions\": [\"Bibs_Create\", \"Bibs_Delete\", \"Bibs_Delete_Marc\", \"Bibs_Update\"]}, {\"name\": \"Items_Write\", \"tokenLifetime\": 3600, \"permissions\": [\"Items_Create\", \"Items_Delete\", \"Items_Update\"]}, {\"name\": \"Item_Scans_Read\", \"tokenLifetime\": 3600, \"permissions\": [\"Item_Scans_List\"]}, {\"name\": \"Patrons_Holds_CRUD\", \"tokenLifetime\": 3600, \"permissions\": [\"Patrons_Hold_Delete\", \"Patrons_Hold_Form_Read\", \"Patrons_Hold_List\", \"Patrons_Hold_Read\", \"Patrons_Hold_Request_Create\", \"Patrons_Hold_Update\"]}, {\"name\": \"Patrons_Validate\", \"tokenLifetime\": 3600, \"permissions\": [\"Patrons_Validate\", \"Patrons_Verify_Pin\"]}, {\"name\": \"Volumes_Read\", \"tokenLifetime\": 3600, \"permissions\": [\"Volumes_List\", \"Volumes_Read\"]}, {\"name\": \"Users_Write\", \"tokenLifetime\": 3600, \"permissions\": [\"Users_Validate\"]}, {\"name\": \"Items_Read\", \"tokenLifetime\": 3600, \"permissions\": [\"Items_Checkouts_List\", \"Items_Checkouts_Read\", \"Items_Filter\", \"Items_List\", \"Items_Read\"]}]}}\n",
      "DEBUG:sierra_ils_utils.sierra_ils_utils:GET {\"endpoint\": \"https://classic.cincinnatilibrary.org/iii/sierra-api/v6/patrons/holds\", \"params\": \"{'limit': 2000, 'offset': 2000}\"}\n",
      "DEBUG:httpcore.http11:send_request_headers.started request=<Request [b'GET']>\n",
      "DEBUG:httpcore.http11:send_request_headers.complete\n",
      "DEBUG:httpcore.http11:send_request_body.started request=<Request [b'GET']>\n",
      "DEBUG:httpcore.http11:send_request_body.complete\n",
      "DEBUG:httpcore.http11:receive_response_headers.started request=<Request [b'GET']>\n",
      "DEBUG:httpcore.http11:receive_response_headers.complete return_value=(b'HTTP/1.1', 200, b'200', [(b'Date', b'Thu, 07 Dec 2023 02:44:23 GMT'), (b'Server', b'Apache'), (b'Content-Type', b'application/json;charset=UTF-8'), (b'Vary', b'Accept-Encoding,User-Agent'), (b'Content-Encoding', b'gzip'), (b'Content-Security-Policy', b\"frame-ancestors 'self';\"), (b'X-Content-Type-Options', b'nosniff'), (b'Content-Length', b'40284'), (b'Keep-Alive', b'timeout=5, max=99'), (b'Connection', b'Keep-Alive')])\n",
      "DEBUG:httpcore.http11:receive_response_body.started request=<Request [b'GET']>\n",
      "DEBUG:httpcore.http11:receive_response_body.complete\n",
      "DEBUG:httpcore.http11:response_closed.started\n",
      "DEBUG:httpcore.http11:response_closed.complete\n",
      "DEBUG:sierra_ils_utils.sierra_ils_utils:request count: 1\n",
      "DEBUG:sierra_ils_utils.sierra_ils_utils:GET https://classic.cincinnatilibrary.org/iii/sierra-api/v6/patrons/holds?limit=2000&offset=2000 200 ✅\n"
     ]
    }
   ],
   "source": [
    "from sierra_ils_utils import SierraAPI, Models\n",
    "import json\n",
    "\n",
    "import logging\n",
    "\n",
    "logger = logging.getLogger(__name__)\n",
    "\n",
    "with open('./.config.json') as f:\n",
    "  config = json.load(f)\n",
    "\n",
    "sierra_api = SierraAPI(\n",
    "    sierra_api_base_url=config.get('sierra_api_base_url'),\n",
    "    sierra_api_key=config.get('sierra_api_key'),\n",
    "    sierra_api_secret=config.get('sierra_api_secret'),\n",
    "    log_level='DEBUG'\n",
    ")\n",
    "\n",
    "\n",
    "result = sierra_api.get(\n",
    "  'patrons/holds',\n",
    "  params={\n",
    "    'limit': 2000,\n",
    "    'offset': 2000\n",
    "  }\n",
    ")\n",
    "\n",
    "\n",
    "# TODO:\n",
    "# could be neat if this worked async to get all the data\n",
    "\n",
    "# sierra_api = SierraAPI(\n",
    "#     sierra_api_base_url=config.get('sierra_api_base_url'),\n",
    "#     sierra_api_key=config.get('sierra_api_key'),\n",
    "#     sierra_api_secret=config.get('sierra_api_secret'),\n",
    "#     log_level='DEBUG'\n",
    "# )\n",
    "\n",
    "# for result in sierra_api.get(\n",
    "#   'patrons/holds'\n",
    "# ).all():\n",
    "#   # work with `result` as they come in from the generator\n",
    "#   pass"
   ]
  },
  {
   "cell_type": "code",
   "execution_count": 3,
   "metadata": {},
   "outputs": [
    {
     "name": "stderr",
     "output_type": "stream",
     "text": [
      "DEBUG:sierra_ils_utils.sierra_ils_utils:Async GET {\"endpoint\": \"https://classic.cincinnatilibrary.org/iii/sierra-api/v6/patrons/holds\", \"params\": \"{'limit': 2000, 'offset': 0}\"}\n",
      "DEBUG:httpcore.connection:connect_tcp.started host='classic.cincinnatilibrary.org' port=443 local_address=None timeout=5.0 socket_options=None\n",
      "DEBUG:httpcore.connection:connect_tcp.complete return_value=<httpcore._backends.anyio.AnyIOStream object at 0x7efeac36af50>\n",
      "DEBUG:httpcore.connection:start_tls.started ssl_context=<ssl.SSLContext object at 0x7efebc48eac0> server_hostname='classic.cincinnatilibrary.org' timeout=5.0\n",
      "DEBUG:httpcore.connection:start_tls.complete return_value=<httpcore._backends.anyio.AnyIOStream object at 0x7efebe7d71c0>\n",
      "DEBUG:httpcore.http11:send_request_headers.started request=<Request [b'GET']>\n",
      "DEBUG:httpcore.http11:send_request_headers.complete\n",
      "DEBUG:httpcore.http11:send_request_body.started request=<Request [b'GET']>\n",
      "DEBUG:httpcore.http11:send_request_body.complete\n",
      "DEBUG:httpcore.http11:receive_response_headers.started request=<Request [b'GET']>\n",
      "DEBUG:httpcore.http11:receive_response_headers.complete return_value=(b'HTTP/1.1', 401, b'401', [(b'Date', b'Thu, 07 Dec 2023 02:43:12 GMT'), (b'Server', b'Apache'), (b'WWW-Authenticate', b'Bearer realm=sierra-api'), (b'Content-Type', b'application/json'), (b'Vary', b'Accept-Encoding,User-Agent'), (b'Content-Encoding', b'gzip'), (b'Content-Security-Policy', b\"frame-ancestors 'self';\"), (b'X-Content-Type-Options', b'nosniff'), (b'Set-Cookie', b'jcontainerId=.jcontainer-api2; path=/iii/sierra-api'), (b'Set-Cookie', b'jcontainerId=.jcontainer-api2; path=/iii/airwkst'), (b'Set-Cookie', b'jcontainerId=.jcontainer-api2; path=/iii/rss'), (b'Set-Cookie', b'jcontainerId=.jcontainer-api2; path=/iii/webrpt'), (b'Set-Cookie', b'jcontainerId=.jcontainer-api2; path=/iii/wwapp/acq'), (b'Set-Cookie', b'jcontainerId=.jcontainer-api2; path=/iii/upgrademgr'), (b'Set-Cookie', b'jcontainerId=.jcontainer-api2; path=/iii/patronio'), (b'Set-Cookie', b'jcontainerId=.jcontainer-api2; path=/sierra/admin'), (b'Set-Cookie', b'jcontainerId=.jcontainer-api2; path=/sierra/ws/summit'), (b'Set-Cookie', b'jcontainerId=.jcontainer-api2; path=/sierra/admin.news'), (b'Content-Length', b'124'), (b'Keep-Alive', b'timeout=5, max=100'), (b'Connection', b'Keep-Alive')])\n",
      "DEBUG:httpcore.http11:receive_response_body.started request=<Request [b'GET']>\n",
      "DEBUG:httpcore.http11:receive_response_body.complete\n",
      "DEBUG:httpcore.http11:response_closed.started\n",
      "DEBUG:httpcore.http11:response_closed.complete\n",
      "DEBUG:httpcore.connection:close.started\n",
      "DEBUG:httpcore.connection:close.complete\n",
      "DEBUG:sierra_ils_utils.sierra_ils_utils:request count: 3\n",
      "WARNING:sierra_ils_utils.sierra_ils_utils:GET response non-200 : {\"code\":113,\"specificCode\":0,\"httpStatus\":401,\"name\":\"Unauthorized\",\"description\":\"Invalid or missing authorization header\"}\n",
      "ERROR:sierra_ils_utils.sierra_ils_utils:Error: {\"code\":113,\"specificCode\":0,\"httpStatus\":401,\"name\":\"Unauthorized\",\"description\":\"Invalid or missing authorization header\"}\n"
     ]
    },
    {
     "ename": "Exception",
     "evalue": "GET response non-200 : {\"code\":113,\"specificCode\":0,\"httpStatus\":401,\"name\":\"Unauthorized\",\"description\":\"Invalid or missing authorization header\"}",
     "output_type": "error",
     "traceback": [
      "\u001b[0;31m---------------------------------------------------------------------------\u001b[0m",
      "\u001b[0;31mException\u001b[0m                                 Traceback (most recent call last)",
      "\u001b[1;32m/home/ray/Documents/sierra-ils-utils/misc/get_holds.ipynb Cell 2\u001b[0m line \u001b[0;36m1\n\u001b[0;32m----> <a href='vscode-notebook-cell:/home/ray/Documents/sierra-ils-utils/misc/get_holds.ipynb#W1sZmlsZQ%3D%3D?line=0'>1</a>\u001b[0m result \u001b[39m=\u001b[39m \u001b[39mawait\u001b[39;00m sierra_api\u001b[39m.\u001b[39mget_async(\n\u001b[1;32m      <a href='vscode-notebook-cell:/home/ray/Documents/sierra-ils-utils/misc/get_holds.ipynb#W1sZmlsZQ%3D%3D?line=1'>2</a>\u001b[0m   \u001b[39m'\u001b[39m\u001b[39mpatrons/holds\u001b[39m\u001b[39m'\u001b[39m,\n\u001b[1;32m      <a href='vscode-notebook-cell:/home/ray/Documents/sierra-ils-utils/misc/get_holds.ipynb#W1sZmlsZQ%3D%3D?line=2'>3</a>\u001b[0m   params\u001b[39m=\u001b[39m{\n\u001b[1;32m      <a href='vscode-notebook-cell:/home/ray/Documents/sierra-ils-utils/misc/get_holds.ipynb#W1sZmlsZQ%3D%3D?line=3'>4</a>\u001b[0m     \u001b[39m'\u001b[39m\u001b[39mlimit\u001b[39m\u001b[39m'\u001b[39m: \u001b[39m2000\u001b[39m,\n\u001b[1;32m      <a href='vscode-notebook-cell:/home/ray/Documents/sierra-ils-utils/misc/get_holds.ipynb#W1sZmlsZQ%3D%3D?line=4'>5</a>\u001b[0m     \u001b[39m'\u001b[39m\u001b[39moffset\u001b[39m\u001b[39m'\u001b[39m: \u001b[39m0\u001b[39m\n\u001b[1;32m      <a href='vscode-notebook-cell:/home/ray/Documents/sierra-ils-utils/misc/get_holds.ipynb#W1sZmlsZQ%3D%3D?line=5'>6</a>\u001b[0m   }\n\u001b[1;32m      <a href='vscode-notebook-cell:/home/ray/Documents/sierra-ils-utils/misc/get_holds.ipynb#W1sZmlsZQ%3D%3D?line=6'>7</a>\u001b[0m )\n",
      "File \u001b[0;32m~/Documents/sierra-ils-utils/sierra_ils_utils/sierra_ils_utils.py:299\u001b[0m, in \u001b[0;36mSierraRESTAPI.get_async\u001b[0;34m(self, template, params, path_params)\u001b[0m\n\u001b[1;32m    297\u001b[0m \u001b[39mif\u001b[39;00m response\u001b[39m.\u001b[39mstatus_code \u001b[39mnot\u001b[39;00m \u001b[39min\u001b[39;00m (\u001b[39m404\u001b[39m,):\n\u001b[1;32m    298\u001b[0m     \u001b[39mself\u001b[39m\u001b[39m.\u001b[39mlogger\u001b[39m.\u001b[39merror(\u001b[39mf\u001b[39m\u001b[39m\"\u001b[39m\u001b[39mError: \u001b[39m\u001b[39m{\u001b[39;00mresponse\u001b[39m.\u001b[39mtext\u001b[39m}\u001b[39;00m\u001b[39m\"\u001b[39m)\n\u001b[0;32m--> 299\u001b[0m     \u001b[39mraise\u001b[39;00m \u001b[39mException\u001b[39;00m(\u001b[39mf\u001b[39m\u001b[39m\"\u001b[39m\u001b[39mGET response non-200 : \u001b[39m\u001b[39m{\u001b[39;00mresponse\u001b[39m.\u001b[39mtext\u001b[39m}\u001b[39;00m\u001b[39m\"\u001b[39m)\n\u001b[1;32m    300\u001b[0m \u001b[39melse\u001b[39;00m:\n\u001b[1;32m    301\u001b[0m     \u001b[39mself\u001b[39m\u001b[39m.\u001b[39mlogger\u001b[39m.\u001b[39mdebug(\u001b[39mf\u001b[39m\u001b[39m\"\u001b[39m\u001b[39mGET \u001b[39m\u001b[39m{\u001b[39;00mresponse\u001b[39m.\u001b[39murl\u001b[39m}\u001b[39;00m\u001b[39m \u001b[39m\u001b[39m{\u001b[39;00mresponse\u001b[39m.\u001b[39mstatus_code\u001b[39m}\u001b[39;00m\u001b[39m ❎\u001b[39m\u001b[39m\"\u001b[39m)\n",
      "\u001b[0;31mException\u001b[0m: GET response non-200 : {\"code\":113,\"specificCode\":0,\"httpStatus\":401,\"name\":\"Unauthorized\",\"description\":\"Invalid or missing authorization header\"}"
     ]
    }
   ],
   "source": [
    "result = await sierra_api.get_async(\n",
    "  'patrons/holds',\n",
    "  params={\n",
    "    'limit': 2000,\n",
    "    'offset': 0\n",
    "  }\n",
    ")"
   ]
  }
 ],
 "metadata": {
  "kernelspec": {
   "display_name": "venv",
   "language": "python",
   "name": "python3"
  },
  "language_info": {
   "codemirror_mode": {
    "name": "ipython",
    "version": 3
   },
   "file_extension": ".py",
   "mimetype": "text/x-python",
   "name": "python",
   "nbconvert_exporter": "python",
   "pygments_lexer": "ipython3",
   "version": "3.10.13"
  }
 },
 "nbformat": 4,
 "nbformat_minor": 2
}
