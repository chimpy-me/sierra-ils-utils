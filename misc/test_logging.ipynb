{
 "cells": [
  {
   "cell_type": "code",
   "execution_count": 1,
   "metadata": {},
   "outputs": [],
   "source": [
    "import json\n",
    "import logging\n",
    "from sierra_ils_utils import SierraRESTAPI\n",
    "\n",
    "# Configure the root logger\n",
    "logging.basicConfig(level=logging.ERROR)\n",
    "\n",
    "with open('.config.json') as f:\n",
    "    config = json.load(f)\n",
    "\n",
    "sierra_api = SierraRESTAPI(\n",
    "    sierra_api_base_url=config['sierra_api_base_url'],\n",
    "    sierra_api_key=config['sierra_api_key'],\n",
    "    sierra_api_secret=config['sierra_api_secret'],\n",
    "    log_level=logging.ERROR\n",
    ")"
   ]
  },
  {
   "cell_type": "code",
   "execution_count": 2,
   "metadata": {},
   "outputs": [],
   "source": [
    "response = sierra_api.get('info/token')"
   ]
  },
  {
   "cell_type": "code",
   "execution_count": 3,
   "metadata": {},
   "outputs": [
    {
     "data": {
      "text/plain": [
       "'TokenInfo'"
      ]
     },
     "execution_count": 3,
     "metadata": {},
     "output_type": "execute_result"
    }
   ],
   "source": [
    "response.response_model_name"
   ]
  }
 ],
 "metadata": {
  "kernelspec": {
   "display_name": "venv",
   "language": "python",
   "name": "python3"
  },
  "language_info": {
   "codemirror_mode": {
    "name": "ipython",
    "version": 3
   },
   "file_extension": ".py",
   "mimetype": "text/x-python",
   "name": "python",
   "nbconvert_exporter": "python",
   "pygments_lexer": "ipython3",
   "version": "3.10.13"
  }
 },
 "nbformat": 4,
 "nbformat_minor": 2
}
